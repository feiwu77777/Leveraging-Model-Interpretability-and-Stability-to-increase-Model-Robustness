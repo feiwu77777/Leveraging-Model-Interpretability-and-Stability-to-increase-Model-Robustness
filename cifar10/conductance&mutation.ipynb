{
 "cells": [
  {
   "cell_type": "markdown",
   "metadata": {},
   "source": [
    "# Summary\n",
    "- 0.Import\n",
    "- 1.Load model and dataset\n",
    "- 2.Calculate conductance and LCR\n",
    "    - 2.1 Conductance\n",
    "    - 2.2 LCR\n",
    "- 3.Training an error detector\n",
    "    - 3.1 Preprocess conductance\n",
    "    - 3.2 Training with conductance\n",
    "    - 3.3 Training with LCR\n",
    "    - 3.4 Training with conductance & LCR\n",
    "    - 3.5 Overview with the 3 training setups\n",
    "- 4.Other architectures for error detector\n",
    "    - 4.1 Random forest\n",
    "    - 4.2 LDA & QDA"
   ]
  },
  {
   "cell_type": "markdown",
   "metadata": {},
   "source": [
    "## 0. Import"
   ]
  },
  {
   "cell_type": "code",
   "execution_count": 1,
   "metadata": {},
   "outputs": [],
   "source": [
    "%reload_ext autoreload\n",
    "%autoreload"
   ]
  },
  {
   "cell_type": "code",
   "execution_count": 4,
   "metadata": {},
   "outputs": [],
   "source": [
    "import keras\n",
    "import tensorflow as tf\n",
    "from keras.layers import Dense, Dropout\n",
    "from keras import backend as K\n",
    "from keras.models import Model, Sequential\n",
    "from keras.datasets import cifar10\n",
    "import numpy as np\n",
    "import os\n",
    "import keras.backend as K\n",
    "import matplotlib.pyplot as plt\n",
    "from sklearn.metrics import confusion_matrix\n",
    "import seaborn as sns\n",
    "import pickle\n",
    "from keras.preprocessing import image"
   ]
  },
  {
   "cell_type": "code",
   "execution_count": 12,
   "metadata": {},
   "outputs": [],
   "source": [
    "from scripts.utils import *"
   ]
  },
  {
   "cell_type": "markdown",
   "metadata": {},
   "source": [
    "## 1. Loading the dataset and model:"
   ]
  },
  {
   "cell_type": "code",
   "execution_count": 6,
   "metadata": {},
   "outputs": [
    {
     "name": "stdout",
     "output_type": "stream",
     "text": [
      "x_train shape: (1, 32, 32, 3)\n",
      "1 train samples\n",
      "1 test samples\n",
      "y_train shape: (1, 1)\n"
     ]
    }
   ],
   "source": [
    "num_class = 10\n",
    "\n",
    "index_to_label = {0:\"airplane\",1:\"automobile\",2:\"bird\",3:\"cat\",4:\"deer\",5:\"dog\",6:\"frog\",7:\"horse\",8:\"ship\",9:\"truck\"}\n",
    "label_to_index = {u:v for v,u in index_to_label.items()}\n",
    "# Subtracting pixel mean improves accuracy\n",
    "subtract_pixel_mean = True\n",
    "#(x_train, y_train), (x_test, y_test) = cifar10.load_data()\n",
    "(x_train, y_train), (x_test, y_test) = (np.zeros((1,32,32,3)), np.zeros((1,1))), (np.zeros((1,32,32,3)), np.zeros((1,1)))\n",
    "\n",
    "input_shape = x_train.shape[1:]\n",
    "\n",
    "# Normalize data.\n",
    "x_train = x_train.astype('float32') / 255\n",
    "x_test = x_test.astype('float32') / 255\n",
    "\n",
    "# If subtract pixel mean is enabled\n",
    "if subtract_pixel_mean:\n",
    "    x_train_mean = np.mean(x_train, axis=0)\n",
    "    x_train -= x_train_mean\n",
    "    x_test -= x_train_mean\n",
    "\n",
    "print('x_train shape:', x_train.shape)\n",
    "print(x_train.shape[0], 'train samples')\n",
    "print(x_test.shape[0], 'test samples')\n",
    "print('y_train shape:', y_train.shape)\n",
    "\n",
    "# Convert class vectors to binary class matrices.\n",
    "y_train = keras.utils.to_categorical(y_train, num_class)\n",
    "y_test = keras.utils.to_categorical(y_test, num_class)"
   ]
  },
  {
   "cell_type": "code",
   "execution_count": 7,
   "metadata": {},
   "outputs": [],
   "source": [
    "model = resnet_v1(input_shape = input_shape, depth = 3*6+2)\n",
    "model.load_weights('cifar10resnet_weights.h5')"
   ]
  },
  {
   "cell_type": "code",
   "execution_count": null,
   "metadata": {},
   "outputs": [],
   "source": [
    "test_pred = np.argmax(model.predict(x_test), axis = 1)"
   ]
  },
  {
   "cell_type": "markdown",
   "metadata": {},
   "source": [
    "## 2. Calculate conductance and label change rate (LCR)"
   ]
  },
  {
   "cell_type": "markdown",
   "metadata": {},
   "source": [
    "### 2.1 Calculate conductance"
   ]
  },
  {
   "cell_type": "markdown",
   "metadata": {},
   "source": [
    "It corresponds to section 3.1 of the paper (https://arxiv.org/pdf/1910.00387.pdf). Here, we compute conductance metric for each prediction of the image training and test set."
   ]
  },
  {
   "cell_type": "code",
   "execution_count": 8,
   "metadata": {},
   "outputs": [],
   "source": [
    "train_pred = np.argmax(model.predict(x_train), axis = 1)\n",
    "train_label = np.argmax(y_train, axis = 1)"
   ]
  },
  {
   "cell_type": "code",
   "execution_count": 9,
   "metadata": {},
   "outputs": [],
   "source": [
    "w = train_pred != train_label\n",
    "wrongs_index = np.arange(len(train_pred))[w]\n",
    "r = train_pred == train_label\n",
    "rights_index = np.arange(len(train_pred))[r]"
   ]
  },
  {
   "cell_type": "code",
   "execution_count": null,
   "metadata": {},
   "outputs": [],
   "source": [
    "cond_wrongs, originIndex_wrongs = calculate_cond(model, x_train, train_pred, wrongs_index)\n",
    "cond_rights, originIndex_rights = calculate_cond(model, x_train, train_pred, rights_index)"
   ]
  },
  {
   "cell_type": "code",
   "execution_count": null,
   "metadata": {},
   "outputs": [],
   "source": [
    "cond_test, originIndex_test = calculate_cond(model, x_test, test_pred, np.arange(len(test_pred)))"
   ]
  },
  {
   "cell_type": "code",
   "execution_count": null,
   "metadata": {},
   "outputs": [],
   "source": [
    "#reorder x_test and y_test following the same order conductance are organized\n",
    "#originIndex_test = pickle.load(open('test_index.p', 'rb'))\n",
    "L = []\n",
    "for c in range(num_class):\n",
    "    L.append(originIndex_test[c])\n",
    "#the first values of L are index of x_test whose element are predicted as class 0, then class 1 ... \n",
    "L = np.concatenate(L, axis = 0)\n",
    "x_test = x_test[L]\n",
    "y_test = y_test[L]\n",
    "test_pred = test_pred[L]\n",
    "\n",
    "rnd_split = np.arange(len(x_test))\n",
    "np.random.shuffle(rnd_split)\n",
    "#pickle.dump(rnd_split, open('rnd_split.p', 'wb'))\n",
    "#rnd_split = pickle.load(open('rnd_split.p', 'rb'))\n",
    "\n",
    "#the original test set is evenly divided into a new test set and validation set\n",
    "x_val = x_test[rnd_split[:5000]]\n",
    "y_val = y_test[rnd_split[:5000]]\n",
    "x_test = x_test[rnd_split[5000:]]\n",
    "y_test = y_test[rnd_split[5000:]]\n",
    "pred_val = test_pred[rnd_split[:5000]]\n",
    "pred_test = test_pred[rnd_split[5000:]]"
   ]
  },
  {
   "cell_type": "markdown",
   "metadata": {},
   "source": [
    "### 2.2 Calculate LCR"
   ]
  },
  {
   "cell_type": "code",
   "execution_count": null,
   "metadata": {},
   "outputs": [],
   "source": [
    "#load the modified version of the model\n",
    "model_mutants = pickle.load(open('mutants_NAI_0.01.p', 'rb'))"
   ]
  },
  {
   "cell_type": "code",
   "execution_count": 14,
   "metadata": {},
   "outputs": [
    {
     "name": "stdout",
     "output_type": "stream",
     "text": [
      "---- n=99 ----\r"
     ]
    }
   ],
   "source": [
    "LCRW = calculate_LCR(model, x_train, originIndex_wrongs, model_mutants)"
   ]
  },
  {
   "cell_type": "code",
   "execution_count": null,
   "metadata": {},
   "outputs": [],
   "source": [
    "LCRR = calculate_LCR(model, x_train, originIndex_rights, model_mutants)"
   ]
  },
  {
   "cell_type": "code",
   "execution_count": null,
   "metadata": {},
   "outputs": [],
   "source": [
    "LCR_test = calculate_LCR(model, x_test, originIndex_test, model_mutants)"
   ]
  },
  {
   "cell_type": "code",
   "execution_count": null,
   "metadata": {},
   "outputs": [],
   "source": [
    "LCR_train = np.concatenate((LCRW, LCRR), axis = 0)\n",
    "#rnd_split is the same that was used to split the orginal test set of images\n",
    "LCR_test = LCR_test.reshape((-1,1))\n",
    "LCR_val = LCR_test[rnd_split[:5000]]\n",
    "LCR_test = LCR_test[rnd_split[5000:]]"
   ]
  },
  {
   "cell_type": "markdown",
   "metadata": {},
   "source": [
    "## 3. Training the error predictor which is a neural network"
   ]
  },
  {
   "cell_type": "markdown",
   "metadata": {},
   "source": [
    "### 3.1 Preprocess conductance"
   ]
  },
  {
   "cell_type": "code",
   "execution_count": 12,
   "metadata": {},
   "outputs": [],
   "source": [
    "#get all conv layer in the network\n",
    "#for resnet, only the output of resBlocks are considered (skip connection + normal connection)\n",
    "convLayers = []\n",
    "for i in range(len(model.layers)):\n",
    "    if \"add\" in model.layers[i].name:\n",
    "        convLayers.append(model.layers[i+1])\n",
    "\n",
    "#select only conductance of the last conv layer if concat = 0\n",
    "layers = [len(convLayers)-i-1 for i in range(len(convLayers))]\n",
    "concat = 0\n",
    "cond_wrongs = process_cond(layers, cond_wrongs, concat)\n",
    "cond_rights = process_cond(layers, cond_rights, concat)"
   ]
  },
  {
   "cell_type": "code",
   "execution_count": 13,
   "metadata": {},
   "outputs": [],
   "source": [
    "#training set\n",
    "trainD = np.concatenate((cond_wrongs,cond_rights), axis = 0)\n",
    "\n",
    "#normalize cond values\n",
    "mins = np.min(trainD, axis = 0)\n",
    "maxs = np.max(trainD, axis = 0)\n",
    "avgs = np.mean(trainD, axis = 0)\n",
    "trainD = (trainD - avgs) / (maxs - mins)\n",
    "\n",
    "#set label for conductances\n",
    "y_wrongs = np.ones(len(cond_wrongs))\n",
    "y_rights = np.zeros(len(cond_rights))\n",
    "trainL = np.concatenate((y_wrongs,y_rights), axis = 0)"
   ]
  },
  {
   "cell_type": "code",
   "execution_count": 15,
   "metadata": {},
   "outputs": [],
   "source": [
    "testD = process_cond(layers, cond_test, concat)\n",
    "testD = (testD-avgs)/(maxs-mins)"
   ]
  },
  {
   "cell_type": "code",
   "execution_count": 16,
   "metadata": {},
   "outputs": [],
   "source": [
    "#rnd_split is the same that was used to split the orginal test set of images\n",
    "valD = testD[rnd_split[:5000]]\n",
    "testD = testD[rnd_split[5000:]]"
   ]
  },
  {
   "cell_type": "code",
   "execution_count": 17,
   "metadata": {},
   "outputs": [],
   "source": [
    "label_val = np.argmax(y_val, axis =1)\n",
    "valL = pred_val != label_val"
   ]
  },
  {
   "cell_type": "markdown",
   "metadata": {},
   "source": [
    "### 3.2 Training with only conductance"
   ]
  },
  {
   "cell_type": "markdown",
   "metadata": {},
   "source": [
    "It corresponds to section 4 of the paper (https://arxiv.org/pdf/1910.00387.pdf). Here we train a neural network to classify previous conductances into conductance of wrong or correct prediction."
   ]
  },
  {
   "cell_type": "code",
   "execution_count": 19,
   "metadata": {},
   "outputs": [],
   "source": [
    "#create the error detector\n",
    "classifier = error_detector(trainD.shape[1])"
   ]
  },
  {
   "cell_type": "code",
   "execution_count": 19,
   "metadata": {
    "collapsed": true
   },
   "outputs": [
    {
     "name": "stdout",
     "output_type": "stream",
     "text": [
      "Train on 50000 samples, validate on 5000 samples\n",
      "Epoch 1/20\n",
      "50000/50000 [==============================] - 5s 107us/step - loss: 0.2500 - acc: 0.8979 - val_loss: 0.2874 - val_acc: 0.8800\n",
      "roc-auc: 0.93566 - roc-auc_val: 0.90405                                                                                                    \n",
      "Epoch 2/20\n",
      "50000/50000 [==============================] - 5s 98us/step - loss: 0.2142 - acc: 0.9112 - val_loss: 0.2808 - val_acc: 0.8814\n",
      "roc-auc: 0.9423 - roc-auc_val: 0.91039                                                                                                    \n",
      "Epoch 3/20\n",
      "50000/50000 [==============================] - 5s 98us/step - loss: 0.2062 - acc: 0.9145 - val_loss: 0.2764 - val_acc: 0.8866\n",
      "roc-auc: 0.94561 - roc-auc_val: 0.91301                                                                                                    \n",
      "Epoch 4/20\n",
      "50000/50000 [==============================] - 5s 98us/step - loss: 0.2007 - acc: 0.9172 - val_loss: 0.2813 - val_acc: 0.8840\n",
      "roc-auc: 0.94966 - roc-auc_val: 0.91705                                                                                                    \n",
      "Epoch 5/20\n",
      "50000/50000 [==============================] - 5s 99us/step - loss: 0.1960 - acc: 0.9181 - val_loss: 0.2651 - val_acc: 0.8882\n",
      "roc-auc: 0.95062 - roc-auc_val: 0.91758                                                                                                    \n",
      "Epoch 6/20\n",
      "50000/50000 [==============================] - 5s 99us/step - loss: 0.1948 - acc: 0.9187 - val_loss: 0.2653 - val_acc: 0.8874\n",
      "roc-auc: 0.95254 - roc-auc_val: 0.92011                                                                                                    \n",
      "Epoch 7/20\n",
      "50000/50000 [==============================] - 5s 99us/step - loss: 0.1929 - acc: 0.9192 - val_loss: 0.2613 - val_acc: 0.8900\n",
      "roc-auc: 0.95342 - roc-auc_val: 0.92196                                                                                                    \n",
      "Epoch 8/20\n",
      "50000/50000 [==============================] - 5s 98us/step - loss: 0.1913 - acc: 0.9200 - val_loss: 0.2616 - val_acc: 0.8904\n",
      "roc-auc: 0.95339 - roc-auc_val: 0.91938                                                                                                    \n",
      "Epoch 9/20\n",
      "50000/50000 [==============================] - 5s 99us/step - loss: 0.1898 - acc: 0.9213 - val_loss: 0.2644 - val_acc: 0.8902\n",
      "roc-auc: 0.95531 - roc-auc_val: 0.9237                                                                                                    \n",
      "Epoch 10/20\n",
      "50000/50000 [==============================] - 5s 103us/step - loss: 0.1889 - acc: 0.9211 - val_loss: 0.2563 - val_acc: 0.8940\n",
      "roc-auc: 0.95566 - roc-auc_val: 0.92366                                                                                                    \n",
      "Epoch 11/20\n",
      "50000/50000 [==============================] - 5s 99us/step - loss: 0.1873 - acc: 0.9222 - val_loss: 0.2603 - val_acc: 0.8926\n",
      "roc-auc: 0.95721 - roc-auc_val: 0.92559                                                                                                    \n",
      "Epoch 12/20\n",
      "50000/50000 [==============================] - 5s 100us/step - loss: 0.1858 - acc: 0.9224 - val_loss: 0.2610 - val_acc: 0.8884\n",
      "roc-auc: 0.958 - roc-auc_val: 0.92597                                                                                                    \n",
      "Epoch 13/20\n",
      "50000/50000 [==============================] - 5s 101us/step - loss: 0.1846 - acc: 0.9230 - val_loss: 0.2653 - val_acc: 0.8878\n",
      "roc-auc: 0.95831 - roc-auc_val: 0.92671                                                                                                    \n",
      "Epoch 14/20\n",
      "50000/50000 [==============================] - 5s 102us/step - loss: 0.1843 - acc: 0.9241 - val_loss: 0.2692 - val_acc: 0.8898\n",
      "roc-auc: 0.95825 - roc-auc_val: 0.92392                                                                                                    \n",
      "Epoch 15/20\n",
      "50000/50000 [==============================] - 5s 99us/step - loss: 0.1842 - acc: 0.9235 - val_loss: 0.2648 - val_acc: 0.8896\n",
      "roc-auc: 0.95864 - roc-auc_val: 0.92518                                                                                                    \n",
      "Epoch 16/20\n",
      "50000/50000 [==============================] - 5s 99us/step - loss: 0.1819 - acc: 0.9241 - val_loss: 0.2562 - val_acc: 0.8886\n",
      "roc-auc: 0.9584 - roc-auc_val: 0.92602                                                                                                    \n",
      "Epoch 17/20\n",
      "50000/50000 [==============================] - 5s 99us/step - loss: 0.1817 - acc: 0.9244 - val_loss: 0.2553 - val_acc: 0.8912\n",
      "roc-auc: 0.96053 - roc-auc_val: 0.92698                                                                                                    \n",
      "Epoch 18/20\n",
      "50000/50000 [==============================] - 5s 98us/step - loss: 0.1816 - acc: 0.9247 - val_loss: 0.2534 - val_acc: 0.8960\n",
      "roc-auc: 0.96085 - roc-auc_val: 0.92793                                                                                                    \n",
      "Epoch 19/20\n",
      "50000/50000 [==============================] - 5s 99us/step - loss: 0.1809 - acc: 0.9240 - val_loss: 0.2588 - val_acc: 0.8968\n",
      "roc-auc: 0.95928 - roc-auc_val: 0.92424                                                                                                    \n",
      "Epoch 20/20\n",
      "50000/50000 [==============================] - 5s 98us/step - loss: 0.1808 - acc: 0.9246 - val_loss: 0.2557 - val_acc: 0.8914\n",
      "roc-auc: 0.96081 - roc-auc_val: 0.92711                                                                                                    \n"
     ]
    },
    {
     "data": {
      "text/plain": [
       "<keras.callbacks.History at 0x2452479d240>"
      ]
     },
     "execution_count": 19,
     "metadata": {},
     "output_type": "execute_result"
    }
   ],
   "source": [
    "#train the error detector and assess its quality with are under the ROC curve\n",
    "#not using accuracy here because the dataset is unbalanced\n",
    "roc_call = roc_callback(training_data=(trainD, trainL),validation_data=(valD, valL))\n",
    "classifier.fit(trainD, trainL, batch_size = 50, validation_data = (valD, valL), epochs = 20, callbacks = [roc_call])"
   ]
  },
  {
   "cell_type": "code",
   "execution_count": 21,
   "metadata": {},
   "outputs": [
    {
     "data": {
      "image/png": "[encoded data removed]",
      "text/plain": [
       "<Figure size 432x288 with 1 Axes>"
      ]
     },
     "metadata": {
      "needs_background": "light"
     },
     "output_type": "display_data"
    },
    {
     "name": "stdout",
     "output_type": "stream",
     "text": [
      "accuracy 0.8508 mean recall 0.85106271912189 right recall 0.8514619883040936 wrong recall 0.8506634499396863\n",
      "0.134 0.9271064271051573\n"
     ]
    }
   ],
   "source": [
    "#assess the performance of the error detector on the validation set \n",
    "#and plot its ROC curve\n",
    "val_res = classifier.predict(valD)\n",
    "cond_threshs, cond_ind, cond_auroc = find_opti_thresh(valL, val_res, plot = True)\n",
    "\n",
    "#choosing the threhold that would optimize the recall on classes of wrong and correct predictions\n",
    "cond_thresh = cond_threshs[cond_ind-38]\n",
    "cond_thresh = 1.34e-1\n",
    "\n",
    "#print the accuracy on the validation set using that threshold\n",
    "print('threshold', cond_thresh)\n",
    "print(\"auroc\", cond_auroc)\n",
    "report(val_res, valL, cond_thresh, True)"
   ]
  },
  {
   "cell_type": "code",
   "execution_count": 22,
   "metadata": {},
   "outputs": [],
   "source": [
    "#creating the label for conductance of the test set \n",
    "label_test = np.argmax(y_test, axis =1)\n",
    "testL = pred_test != label_test"
   ]
  },
  {
   "cell_type": "code",
   "execution_count": 23,
   "metadata": {},
   "outputs": [
    {
     "name": "stdout",
     "output_type": "stream",
     "text": [
      "accuracy 0.8522 mean recall 0.8564574119666857 right recall 0.8631346578366446 wrong recall 0.8497801660967269\n"
     ]
    }
   ],
   "source": [
    "#test the performance of the error detector on the test set \n",
    "#with the threshold chosen from the validation set\n",
    "test_res = classifier.predict(testD)\n",
    "report(test_res, testL, cond_thresh, True)"
   ]
  },
  {
   "cell_type": "code",
   "execution_count": 33,
   "metadata": {},
   "outputs": [],
   "source": [
    "#classifier.save('cond_error_detector.h5')"
   ]
  },
  {
   "cell_type": "code",
   "execution_count": 20,
   "metadata": {},
   "outputs": [],
   "source": [
    "#classifier.load_weights('cond_error_detector.h5')"
   ]
  },
  {
   "cell_type": "markdown",
   "metadata": {},
   "source": [
    "### 3.3 Training with only LCR"
   ]
  },
  {
   "cell_type": "code",
   "execution_count": 26,
   "metadata": {},
   "outputs": [
    {
     "data": {
      "image/png": "[encoded data removed]",
      "text/plain": [
       "<Figure size 432x288 with 1 Axes>"
      ]
     },
     "metadata": {
      "needs_background": "light"
     },
     "output_type": "display_data"
    },
    {
     "name": "stdout",
     "output_type": "stream",
     "text": [
      "accuracy 0.8044 mean recall 0.808687984537137 right recall 0.8152046783625732 wrong recall 0.8021712907117008\n",
      "0.169 0.8872483581289371\n"
     ]
    }
   ],
   "source": [
    "#test the performance of LCR to distinguish wrong and correct predictions and plot the ROC curve\n",
    "lcr_threshs, lcr_ind, lcr_auroc = find_opti_thresh(valL, LCR_val, plot = True)\n",
    "\n",
    "#find the optimal threshold\n",
    "lcr_thresh = lcr_threshs[lcr_ind-4]\n",
    "lcr_thresh = 0.169\n",
    "\n",
    "#see result with that treshold on the validation set\n",
    "print('threshold', lcr_thresh)\n",
    "print(\"auroc\", lcr_auroc)\n",
    "report(LCR_val, valL, lcr_thresh, True)"
   ]
  },
  {
   "cell_type": "code",
   "execution_count": 27,
   "metadata": {},
   "outputs": [
    {
     "name": "stdout",
     "output_type": "stream",
     "text": [
      "accuracy 0.8124 mean recall 0.8235586239918213 right recall 0.8410596026490066 wrong recall 0.8060576453346361\n"
     ]
    }
   ],
   "source": [
    "report(LCR_test, testL, lcr_thresh, True)"
   ]
  },
  {
   "cell_type": "markdown",
   "metadata": {},
   "source": [
    "### 3.4 Training with both LCR and conductance"
   ]
  },
  {
   "cell_type": "code",
   "execution_count": 28,
   "metadata": {},
   "outputs": [],
   "source": [
    "#combining the output of the binary classifier trained on conductance with LCR\n",
    "train_res = classifier.predict(trainD)\n",
    "data = np.concatenate((LCR_train.reshape((-1,1)), train_res), axis = 1)\n",
    "data_val = np.concatenate((LCR_val.reshape((-1,1)), val_res), axis = 1)\n",
    "data_test = np.concatenate((LCR_test.reshape((-1,1)), test_res), axis = 1)"
   ]
  },
  {
   "cell_type": "code",
   "execution_count": 29,
   "metadata": {},
   "outputs": [],
   "source": [
    "#building the unified classifier that take as input LCR and conductance\n",
    "nn = Sequential()    \n",
    "nn.add(Dense(10, input_shape = (data.shape[1],), activation = 'relu'))\n",
    "nn.add(Dense(10, activation = 'relu'))\n",
    "nn.add(Dropout(0.5))\n",
    "nn.add(Dense(1, activation = 'sigmoid'))\n",
    "opt = keras.optimizers.Adam(lr=0.001)\n",
    "nn.compile(loss = 'binary_crossentropy', optimizer=opt,metrics=None)"
   ]
  },
  {
   "cell_type": "code",
   "execution_count": 69,
   "metadata": {
    "collapsed": true
   },
   "outputs": [
    {
     "name": "stdout",
     "output_type": "stream",
     "text": [
      "Train on 50000 samples, validate on 5000 samples\n",
      "Epoch 1/3\n",
      "50000/50000 [==============================] - 3s 56us/step - loss: 0.3797 - val_loss: 0.2587\n",
      "roc-auc: 0.96183 - roc-auc_val: 0.93069                                                                                                    \n",
      "Epoch 2/3\n",
      "50000/50000 [==============================] - 2s 45us/step - loss: 0.2158 - val_loss: 0.2595\n",
      "roc-auc: 0.96191 - roc-auc_val: 0.93272                                                                                                    \n",
      "Epoch 3/3\n",
      "50000/50000 [==============================] - 2s 46us/step - loss: 0.2087 - val_loss: 0.2501\n",
      "roc-auc: 0.96166 - roc-auc_val: 0.93269                                                                                                    \n"
     ]
    }
   ],
   "source": [
    "#training with focus on the area under the ROC\n",
    "roc_call = roc_callback(training_data=(data, trainL),validation_data=(data_val, valL))\n",
    "history = nn.fit(data, trainL, validation_data = (data_val, valL), batch_size = 100, epochs = 3, callbacks = [roc_call])"
   ]
  },
  {
   "cell_type": "code",
   "execution_count": 32,
   "metadata": {},
   "outputs": [
    {
     "data": {
      "image/png": "[encoded data removed]",
      "text/plain": [
       "<Figure size 432x288 with 1 Axes>"
      ]
     },
     "metadata": {
      "needs_background": "light"
     },
     "output_type": "display_data"
    },
    {
     "name": "stdout",
     "output_type": "stream",
     "text": [
      "accuracy 0.8558 mean recall 0.855935072905424 right recall 0.856140350877193 wrong recall 0.855729794933655\n",
      "0.0995 0.932694784810841\n"
     ]
    }
   ],
   "source": [
    "#performance assessment\n",
    "nn_val_res = nn.predict(data_val)\n",
    "both_threshs, both_ind, both_auroc = find_opti_thresh(valL, nn_val_res, plot = True)\n",
    "\n",
    "#finding a threshold\n",
    "both_thresh = both_threshs[both_ind-34]\n",
    "both_thresh = 9.95e-2\n",
    "\n",
    "#see result on the validation set\n",
    "print('threshold', both_thresh)\n",
    "print(\"auroc\", both_auroc)\n",
    "report(nn_val_res, valL, both_thresh, True)"
   ]
  },
  {
   "cell_type": "code",
   "execution_count": 33,
   "metadata": {},
   "outputs": [
    {
     "name": "stdout",
     "output_type": "stream",
     "text": [
      "accuracy 0.8624 mean recall 0.8652645178266585 right recall 0.869757174392936 wrong recall 0.8607718612603811\n"
     ]
    }
   ],
   "source": [
    "#see result on the test set with the chosen threshold\n",
    "nn_test_res = nn.predict(data_test)\n",
    "report(nn_test_res, testL, both_thresh, True)"
   ]
  },
  {
   "cell_type": "code",
   "execution_count": 94,
   "metadata": {},
   "outputs": [],
   "source": [
    "#nn.save('cond&LCR_error_detector.h5')"
   ]
  },
  {
   "cell_type": "code",
   "execution_count": 30,
   "metadata": {},
   "outputs": [],
   "source": [
    "#nn.load_weights('cond&LCR_error_detector.h5')"
   ]
  },
  {
   "cell_type": "markdown",
   "metadata": {},
   "source": [
    "### 3.5 Overview of the error detector performance for all 3 settings of entry data"
   ]
  },
  {
   "cell_type": "code",
   "execution_count": 34,
   "metadata": {},
   "outputs": [],
   "source": [
    "from sklearn.metrics import roc_curve\n",
    "from sklearn.metrics import auc\n",
    "cond_fpr, cond_tpr, cond_threshs = roc_curve(valL, val_res)\n",
    "lcr_fpr, lcr_tpr, lcr_threshs = roc_curve(valL, LCR_val)\n",
    "both_fpr, both_tpr, both_threshs = roc_curve(valL, nn_val_res)"
   ]
  },
  {
   "cell_type": "code",
   "execution_count": 35,
   "metadata": {},
   "outputs": [],
   "source": [
    "both_x, both_y = both_fpr[both_ind-34], both_tpr[both_ind-34]\n",
    "lcr_x, lcr_y = lcr_fpr[lcr_ind-4], lcr_tpr[lcr_ind-4]\n",
    "cond_x, cond_y = cond_fpr[cond_ind-34], cond_tpr[cond_ind-38]"
   ]
  },
  {
   "cell_type": "code",
   "execution_count": 38,
   "metadata": {},
   "outputs": [
    {
     "data": {
      "image/png": "[encoded data removed]",
      "text/plain": [
       "<Figure size 432x288 with 1 Axes>"
      ]
     },
     "metadata": {
      "needs_background": "light"
     },
     "output_type": "display_data"
    }
   ],
   "source": [
    "plt.figure()\n",
    "lw = 2\n",
    "plt.plot(lcr_fpr, lcr_tpr, ':', color = 'green',\n",
    "         lw=lw, label='LCR (AUROC = %0.3f)' % lcr_auroc)\n",
    "plt.plot(lcr_x, lcr_y,marker='o',  markersize=10, color= 'green')\n",
    "plt.plot(cond_fpr, cond_tpr, '--', color = 'red',\n",
    "         lw=lw, label='cond (AUROC = %0.3f)' % cond_auroc)\n",
    "plt.plot(cond_x, cond_y, marker='o',  markersize=10, color= 'red')\n",
    "plt.plot(both_fpr, both_tpr, color = 'blue',\n",
    "         lw=lw, label='both (AUROC = %0.3f)' % both_auroc)\n",
    "plt.plot(both_x, both_y, marker='o',  markersize=10, color= 'blue')\n",
    "plt.plot([0, 1], [0, 1], color='navy', lw=lw, linestyle='--')\n",
    "plt.xlim([0.0, 1.0])\n",
    "plt.ylim([0.0, 1.05])\n",
    "plt.xlabel('1 - recall of class 0')\n",
    "plt.ylabel('recall of class 1')\n",
    "plt.title('CIFAR10 validation set ROC')\n",
    "plt.legend(loc=\"lower right\")\n",
    "plt.savefig('cifar10_roc.pdf', bbox_inches = 'tight')"
   ]
  },
  {
   "cell_type": "markdown",
   "metadata": {},
   "source": [
    "## 4. Choosing other machine learning classifiers for the error detector"
   ]
  },
  {
   "cell_type": "markdown",
   "metadata": {},
   "source": [
    "- classifiers are trained with both LCR and conductance"
   ]
  },
  {
   "cell_type": "markdown",
   "metadata": {},
   "source": [
    "### 4.1 Random Forest"
   ]
  },
  {
   "cell_type": "code",
   "execution_count": 76,
   "metadata": {},
   "outputs": [
    {
     "data": {
      "text/plain": [
       "RandomForestClassifier(bootstrap=True, class_weight=None, criterion='gini',\n",
       "            max_depth=10, max_features='auto', max_leaf_nodes=None,\n",
       "            min_impurity_decrease=0.0, min_impurity_split=None,\n",
       "            min_samples_leaf=1, min_samples_split=2,\n",
       "            min_weight_fraction_leaf=0.0, n_estimators=100, n_jobs=None,\n",
       "            oob_score=False, random_state=0, verbose=0, warm_start=False)"
      ]
     },
     "execution_count": 76,
     "metadata": {},
     "output_type": "execute_result"
    }
   ],
   "source": [
    "from sklearn.ensemble import RandomForestClassifier\n",
    "clf_RF = RandomForestClassifier(n_estimators = 100, max_depth=10 ,random_state=0)\n",
    "clf_RF.fit(data, trainL)"
   ]
  },
  {
   "cell_type": "code",
   "execution_count": 90,
   "metadata": {},
   "outputs": [
    {
     "data": {
      "image/png": "[encoded data removed]",
      "text/plain": [
       "<Figure size 432x288 with 1 Axes>"
      ]
     },
     "metadata": {
      "needs_background": "light"
     },
     "output_type": "display_data"
    },
    {
     "name": "stdout",
     "output_type": "stream",
     "text": [
      "0.125 0.9298962323379821\n",
      "accuracy 0.8536 mean recall 0.8532156688464224 right recall 0.8526315789473684 wrong recall 0.8537997587454764\n"
     ]
    }
   ],
   "source": [
    "rf_val_res = clf_RF.predict_proba(data_val)[:,1]\n",
    "threshs, ind, auroc = find_opti_thresh(valL, rf_val_res, plot = True)\n",
    "thresh = threshs[ind-45]\n",
    "thresh = 1.25e-1\n",
    "print('threshold', thresh)\n",
    "print(\"auroc\", auroc)\n",
    "report(rf_val_res, valL, thresh, True)"
   ]
  },
  {
   "cell_type": "code",
   "execution_count": 91,
   "metadata": {},
   "outputs": [
    {
     "name": "stdout",
     "output_type": "stream",
     "text": [
      "accuracy 0.8572 mean recall 0.8565024355892594 right recall 0.8554083885209713 wrong recall 0.8575964826575476\n"
     ]
    }
   ],
   "source": [
    "rf_test_res = clf_RF.predict_proba(data_test)[:,1]\n",
    "report(rf_test_res, testL, thresh, True)"
   ]
  },
  {
   "cell_type": "markdown",
   "metadata": {},
   "source": [
    "### 4.2 LDA & QDA"
   ]
  },
  {
   "cell_type": "code",
   "execution_count": 92,
   "metadata": {},
   "outputs": [
    {
     "data": {
      "text/plain": [
       "QuadraticDiscriminantAnalysis(priors=None, reg_param=0.0,\n",
       "               store_covariance=False, store_covariances=None, tol=0.0001)"
      ]
     },
     "execution_count": 92,
     "metadata": {},
     "output_type": "execute_result"
    }
   ],
   "source": [
    "from sklearn.discriminant_analysis import LinearDiscriminantAnalysis as LDA\n",
    "from sklearn.discriminant_analysis import QuadraticDiscriminantAnalysis as QDA\n",
    "clf_LDA = LDA()\n",
    "clf_QDA = QDA()\n",
    "clf_LDA.fit(data, trainL)\n",
    "clf_QDA.fit(data, trainL)"
   ]
  },
  {
   "cell_type": "code",
   "execution_count": 112,
   "metadata": {},
   "outputs": [
    {
     "data": {
      "image/png": "[encoded data removed]",
      "text/plain": [
       "<Figure size 432x288 with 1 Axes>"
      ]
     },
     "metadata": {
      "needs_background": "light"
     },
     "output_type": "display_data"
    },
    {
     "name": "stdout",
     "output_type": "stream",
     "text": [
      "0.00364 0.9316668430223124\n",
      "accuracy 0.8564 mean recall 0.8562969546907075 right recall 0.856140350877193 wrong recall 0.856453558504222\n"
     ]
    }
   ],
   "source": [
    "LDA_val_res = clf_LDA.predict_proba(data_val)[:,1]\n",
    "threshs, ind, auroc = find_opti_thresh(valL, LDA_val_res, plot = True)\n",
    "thresh = threshs[ind-73]\n",
    "thresh = 3.64e-3\n",
    "print('threshold', thresh)\n",
    "print(\"auroc\", auroc)\n",
    "report(LDA_val_res, valL, thresh, True)"
   ]
  },
  {
   "cell_type": "code",
   "execution_count": 113,
   "metadata": {},
   "outputs": [
    {
     "name": "stdout",
     "output_type": "stream",
     "text": [
      "accuracy 0.8592 mean recall 0.8603022136524565 right recall 0.8620309050772627 wrong recall 0.8585735222276503\n"
     ]
    }
   ],
   "source": [
    "LDA_test_res = clf_LDA.predict_proba(data_test)[:,1]\n",
    "report(LDA_test_res, testL, thresh, True)"
   ]
  },
  {
   "cell_type": "code",
   "execution_count": 119,
   "metadata": {},
   "outputs": [
    {
     "data": {
      "image/png": "[encoded data removed]",
      "text/plain": [
       "<Figure size 432x288 with 1 Axes>"
      ]
     },
     "metadata": {
      "needs_background": "light"
     },
     "output_type": "display_data"
    },
    {
     "name": "stdout",
     "output_type": "stream",
     "text": [
      "0.0509 <function auc at 0x000002442ACC8488>\n",
      "accuracy 0.8538 mean recall 0.8538004641680599 right recall 0.8538011695906432 wrong recall 0.8537997587454764\n"
     ]
    }
   ],
   "source": [
    "QDA_val_res = clf_QDA.predict_proba(data_val)[:,1]\n",
    "threshs, ind, auroc = find_opti_thresh(valL, QDA_val_res, plot = True)\n",
    "thresh = threshs[ind]\n",
    "thresh = 5.09e-2\n",
    "print('threshold', thresh)\n",
    "print(\"auroc\", auroc)\n",
    "report(QDA_val_res, valL, thresh, True)"
   ]
  },
  {
   "cell_type": "code",
   "execution_count": 120,
   "metadata": {},
   "outputs": [
    {
     "name": "stdout",
     "output_type": "stream",
     "text": [
      "accuracy 0.8582 mean recall 0.8528156209862923 right recall 0.8443708609271523 wrong recall 0.8612603810454323\n"
     ]
    }
   ],
   "source": [
    "QDA_test_res = clf_QDA.predict_proba(data_test)[:,1]\n",
    "report(QDA_test_res, testL, thresh, True)"
   ]
  },
  {
   "cell_type": "code",
   "execution_count": null,
   "metadata": {},
   "outputs": [],
   "source": []
  }
 ],
 "metadata": {
  "kernelspec": {
   "display_name": "Python 3",
   "language": "python",
   "name": "python3"
  },
  "language_info": {
   "codemirror_mode": {
    "name": "ipython",
    "version": 3
   },
   "file_extension": ".py",
   "mimetype": "text/x-python",
   "name": "python",
   "nbconvert_exporter": "python",
   "pygments_lexer": "ipython3",
   "version": "3.7.3"
  }
 },
 "nbformat": 4,
 "nbformat_minor": 2
}
