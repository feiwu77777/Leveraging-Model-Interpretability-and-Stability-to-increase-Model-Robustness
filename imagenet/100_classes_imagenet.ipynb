{
 "cells": [
  {
   "cell_type": "code",
   "execution_count": 1,
   "metadata": {},
   "outputs": [],
   "source": [
    "%reload_ext autoreload\n",
    "%autoreload"
   ]
  },
  {
   "cell_type": "code",
   "execution_count": 2,
   "metadata": {},
   "outputs": [
    {
     "name": "stderr",
     "output_type": "stream",
     "text": [
      "Using TensorFlow backend.\n"
     ]
    }
   ],
   "source": [
    "from imagenet_utils import *"
   ]
  },
  {
   "cell_type": "code",
   "execution_count": 3,
   "metadata": {},
   "outputs": [],
   "source": [
    "import keras.backend as K\n",
    "from sklearn.utils import class_weight\n",
    "from keras.callbacks import EarlyStopping\n",
    "import matplotlib.pyplot as plt\n",
    "import seaborn as sns\n",
    "from keras.models import Model\n",
    "from keras.layers import Flatten, Dropout, Dense, GlobalAveragePooling2D, Activation\n",
    "import tensorflow as tf\n",
    "import numpy as np\n",
    "import pandas as pd\n",
    "from sklearn.decomposition import PCA\n",
    "import keras\n",
    "import pickle\n",
    "import os\n",
    "from keras.preprocessing import image\n",
    "from keras.applications.inception_v3 import InceptionV3, preprocess_input\n",
    "from keras.preprocessing.image import ImageDataGenerator"
   ]
  },
  {
   "cell_type": "code",
   "execution_count": 4,
   "metadata": {},
   "outputs": [],
   "source": [
    "num_class = 100\n",
    "index_to_label = pickle.load(open('index_to_label.p','rb'))\n",
    "keep = pickle.load(open('keep100.p', 'rb'))\n",
    "label_to_index = {index_to_label[keep[i]]:i for i in range(len(keep))}\n",
    "index_to_label = {u:v for v,u in label_to_index.items()}"
   ]
  },
  {
   "cell_type": "code",
   "execution_count": 5,
   "metadata": {},
   "outputs": [],
   "source": [
    "model = create_net('inception_100_weights_finetuneAll_2epochs.h5', num_class)"
   ]
  },
  {
   "cell_type": "code",
   "execution_count": 6,
   "metadata": {},
   "outputs": [],
   "source": [
    "train_path = 'train100/'\n",
    "val_path = 'val100/'\n",
    "test_path = 'test100/'\n",
    "classes = sorted(os.listdir(train_path))\n",
    "num_imgs = [len(os.listdir(train_path+classes[c])) for c in range(num_class)]"
   ]
  },
  {
   "cell_type": "code",
   "execution_count": 7,
   "metadata": {},
   "outputs": [],
   "source": [
    "convLayers = get_convLayers(model)\n",
    "convBlocks = getBlocks(convLayers)"
   ]
  },
  {
   "cell_type": "code",
   "execution_count": null,
   "metadata": {},
   "outputs": [],
   "source": []
  },
  {
   "cell_type": "code",
   "execution_count": null,
   "metadata": {},
   "outputs": [],
   "source": []
  },
  {
   "cell_type": "markdown",
   "metadata": {},
   "source": [
    "compute avg and std of all types of LCR used in Table 3 of the paper"
   ]
  },
  {
   "cell_type": "code",
   "execution_count": 1,
   "metadata": {},
   "outputs": [],
   "source": [
    "#LOAD LCR\n",
    "def load_LCR(dataset, method, gamma):\n",
    "    train_pred = pickle.load(open(f'{dataset}_pred100.p', 'rb'))\n",
    "    trainL = np.concatenate([[train_pred[c][i] != c for i in range(len(train_pred[c]))] for c in range(num_class)])\n",
    "    train_pred = np.concatenate([train_pred[c] for c in range(num_class)])\n",
    "    LCR_train = np.zeros(len(train_pred))\n",
    "    p = 1\n",
    "    for i in range(100):\n",
    "        mutant_pred = pickle.load(open(f'{method}_{gamma}/{dataset}100/{p}_mutant{i}_0.002.p', 'rb'))\n",
    "        LCR_train += mutant_pred != train_pred\n",
    "    LCR_train = LCR_train/100\n",
    "    return LCR_train, trainL"
   ]
  },
  {
   "cell_type": "code",
   "execution_count": 44,
   "metadata": {},
   "outputs": [],
   "source": [
    "LCR_train, trainL = load_LCR('train', 'NAI', 0.002)\n",
    "LCR_val, valL = load_LCR('val', 'NAI', 0.002)\n",
    "LCR_test, testL = load_LCR('test', 'NAI', 0.002)"
   ]
  },
  {
   "cell_type": "code",
   "execution_count": 130,
   "metadata": {},
   "outputs": [],
   "source": [
    "allLCR = np.concatenate((LCR_train, LCR_val, LCR_test))\n",
    "allL = np.concatenate((trainL, valL, testL))"
   ]
  },
  {
   "cell_type": "code",
   "execution_count": 115,
   "metadata": {},
   "outputs": [
    {
     "data": {
      "text/plain": [
       "(0.05364918487354784, 0.11910676764710702)"
      ]
     },
     "execution_count": 115,
     "metadata": {},
     "output_type": "execute_result"
    }
   ],
   "source": [
    "(np.mean(allLCR[allL == False]), np.std(allLCR[allL == False])) #NAI 0.0015"
   ]
  },
  {
   "cell_type": "code",
   "execution_count": 116,
   "metadata": {},
   "outputs": [
    {
     "data": {
      "text/plain": [
       "(0.3633458950201884, 0.22385765673249944)"
      ]
     },
     "execution_count": 116,
     "metadata": {},
     "output_type": "execute_result"
    }
   ],
   "source": [
    "(np.mean(allLCR[allL == True]), np.std(allLCR[allL == True]))"
   ]
  },
  {
   "cell_type": "code",
   "execution_count": 107,
   "metadata": {},
   "outputs": [
    {
     "data": {
      "text/plain": [
       "(0.07108540102946567, 0.13872897292925954)"
      ]
     },
     "execution_count": 107,
     "metadata": {},
     "output_type": "execute_result"
    }
   ],
   "source": [
    "(np.mean(allLCR[allL == False]), np.std(allLCR[allL == False])) #NAI 0.002"
   ]
  },
  {
   "cell_type": "code",
   "execution_count": 108,
   "metadata": {},
   "outputs": [
    {
     "data": {
      "text/plain": [
       "(0.41477792732166896, 0.2297071643857283)"
      ]
     },
     "execution_count": 108,
     "metadata": {},
     "output_type": "execute_result"
    }
   ],
   "source": [
    "(np.mean(allLCR[allL == True]), np.std(allLCR[allL == True]))"
   ]
  },
  {
   "cell_type": "code",
   "execution_count": 123,
   "metadata": {},
   "outputs": [
    {
     "data": {
      "text/plain": [
       "(0.07987155583177959, 0.14947176700090387)"
      ]
     },
     "execution_count": 123,
     "metadata": {},
     "output_type": "execute_result"
    }
   ],
   "source": [
    "(np.mean(allLCR[allL == False]), np.std(allLCR[allL == False])) #NAI 0.0025"
   ]
  },
  {
   "cell_type": "code",
   "execution_count": 124,
   "metadata": {},
   "outputs": [
    {
     "data": {
      "text/plain": [
       "(0.43205383580080753, 0.23589806021602852)"
      ]
     },
     "execution_count": 124,
     "metadata": {},
     "output_type": "execute_result"
    }
   ],
   "source": [
    "(np.mean(allLCR[allL == True]), np.std(allLCR[allL == True]))"
   ]
  },
  {
   "cell_type": "code",
   "execution_count": 131,
   "metadata": {},
   "outputs": [
    {
     "data": {
      "text/plain": [
       "(0.18452759084791387, 0.1830243501968797)"
      ]
     },
     "execution_count": 131,
     "metadata": {},
     "output_type": "execute_result"
    }
   ],
   "source": [
    "(np.mean(allLCR[allL == True]), np.std(allLCR[allL == True])) #GF 0.0015"
   ]
  },
  {
   "cell_type": "code",
   "execution_count": 132,
   "metadata": {},
   "outputs": [
    {
     "data": {
      "text/plain": [
       "(0.015556883555640546, 0.058829872043260054)"
      ]
     },
     "execution_count": 132,
     "metadata": {},
     "output_type": "execute_result"
    }
   ],
   "source": [
    "(np.mean(allLCR[allL == False]), np.std(allLCR[allL == False]))"
   ]
  },
  {
   "cell_type": "code",
   "execution_count": 93,
   "metadata": {},
   "outputs": [
    {
     "data": {
      "text/plain": [
       "(0.025461586269541522, 0.07633045987425406)"
      ]
     },
     "execution_count": 93,
     "metadata": {},
     "output_type": "execute_result"
    }
   ],
   "source": [
    "(np.mean(allLCR[allL == False]), np.std(allLCR[allL == False])) #GF 0.0025"
   ]
  },
  {
   "cell_type": "code",
   "execution_count": 94,
   "metadata": {},
   "outputs": [
    {
     "data": {
      "text/plain": [
       "(0.24501884253028264, 0.2061305194075611)"
      ]
     },
     "execution_count": 94,
     "metadata": {},
     "output_type": "execute_result"
    }
   ],
   "source": [
    "(np.mean(allLCR[allL == True]), np.std(allLCR[allL == True]))"
   ]
  },
  {
   "cell_type": "code",
   "execution_count": null,
   "metadata": {},
   "outputs": [],
   "source": []
  },
  {
   "cell_type": "code",
   "execution_count": null,
   "metadata": {},
   "outputs": [],
   "source": []
  },
  {
   "cell_type": "markdown",
   "metadata": {},
   "source": [
    "LCR performance with number of mutants used in figure 4 of the paper"
   ]
  },
  {
   "cell_type": "code",
   "execution_count": 45,
   "metadata": {},
   "outputs": [],
   "source": [
    "val_pred = pickle.load(open('val_pred100.p', 'rb'))\n",
    "valL = np.concatenate([[val_pred[c][i] != c for i in range(len(val_pred[c]))] for c in range(num_class)])\n",
    "val_pred = np.concatenate([val_pred[c] for c in range(num_class)])\n",
    "aurocs = []\n",
    "for limit in range(10,101):\n",
    "    LCR = np.zeros(len(val_pred))\n",
    "    for i in range(limit):\n",
    "        mutant_pred = pickle.load(open('NAI_0.002/val100/1_mutant'+str(i)+'_0.002.p', 'rb'))\n",
    "        LCR += mutant_pred != val_pred\n",
    "    LCR = LCR/limit\n",
    "    threshs, ind, auroc = find_opti_thresh(valL, LCR, plot = False)\n",
    "    aurocs.append(auroc)"
   ]
  },
  {
   "cell_type": "code",
   "execution_count": 46,
   "metadata": {},
   "outputs": [
    {
     "data": {
      "image/png": "[encoded data removed]",
      "text/plain": [
       "<Figure size 432x288 with 1 Axes>"
      ]
     },
     "metadata": {
      "needs_background": "light"
     },
     "output_type": "display_data"
    }
   ],
   "source": [
    "plt.plot(np.arange(10,101), aurocs)\n",
    "plt.ylabel('AUROC')\n",
    "plt.xlabel('mutant number')\n",
    "plt.title('LCR\\'s performance on validation set')\n",
    "plt.savefig('LCR_mn.pdf', bbox_inches = 'tight')"
   ]
  },
  {
   "cell_type": "code",
   "execution_count": null,
   "metadata": {},
   "outputs": [],
   "source": []
  },
  {
   "cell_type": "markdown",
   "metadata": {},
   "source": [
    "Sorting LCR in the same order than conductance"
   ]
  },
  {
   "cell_type": "code",
   "execution_count": 129,
   "metadata": {},
   "outputs": [],
   "source": [
    "wrongs_ind = pickle.load(open('imagenet100/wrongs100_ind.p', 'rb'))\n",
    "L_wrong = []\n",
    "for c in sorted(wrongs.keys()):\n",
    "    for i in range(len(wrongs_ind[c])):\n",
    "        ind = int(np.sum(num_imgs[:wrongs_ind[c][i][0]]) + wrongs_ind[c][i][1])\n",
    "        L_wrong.append(ind)"
   ]
  },
  {
   "cell_type": "code",
   "execution_count": 130,
   "metadata": {},
   "outputs": [],
   "source": [
    "rights_ind = pickle.load(open('imagenet100/rights100_ind.p', 'rb'))\n",
    "for c in sorted(rights_ind.keys()):\n",
    "    rights_ind[c] = [(c,ind) for ind in rights_ind[c]]\n",
    "L_right = []\n",
    "for c in sorted(rights.keys()):\n",
    "    for i in range(len(rights_ind[c])):\n",
    "        ind = int(np.sum(num_imgs[:rights_ind[c][i][0]]) + rights_ind[c][i][1])\n",
    "        L_right.append(ind)"
   ]
  },
  {
   "cell_type": "code",
   "execution_count": 131,
   "metadata": {},
   "outputs": [
    {
     "data": {
      "text/plain": [
       "(112932,)"
      ]
     },
     "execution_count": 131,
     "metadata": {},
     "output_type": "execute_result"
    }
   ],
   "source": [
    "LCRW = LCR_train[L_wrong]\n",
    "LCRR = LCR_train[L_right]\n",
    "LCR_train = np.concatenate((LCRW, LCRR))\n",
    "LCR_train.shape"
   ]
  },
  {
   "cell_type": "code",
   "execution_count": 135,
   "metadata": {},
   "outputs": [],
   "source": [
    "pickle.dump(LCR_train, open('train100_LCR_NAI_0.002.p', 'wb'))\n",
    "pickle.dump(LCR_val, open('val100_LCR_NAI_0.002.p', 'wb'))\n",
    "pickle.dump(LCR_test, open('test100_LCR_NAI_0.002.p', 'wb'))"
   ]
  },
  {
   "cell_type": "code",
   "execution_count": null,
   "metadata": {},
   "outputs": [],
   "source": []
  },
  {
   "cell_type": "markdown",
   "metadata": {},
   "source": [
    "Loading Conductance"
   ]
  },
  {
   "cell_type": "code",
   "execution_count": 55,
   "metadata": {},
   "outputs": [],
   "source": [
    "wrongs = pickle.load(open('cond_wrongs100.p', 'rb'))\n",
    "rights = pickle.load(open('cond_rights100.p', 'rb'))"
   ]
  },
  {
   "cell_type": "code",
   "execution_count": 57,
   "metadata": {},
   "outputs": [],
   "source": [
    "layers = [len(convLayers)-i-1 for i in range(len(convLayers))]\n",
    "concat = 0\n",
    "finalWrongs = process_data(layers, wrongs, concat)\n",
    "finalRights = process_data(layers, rights, concat)"
   ]
  },
  {
   "cell_type": "code",
   "execution_count": 58,
   "metadata": {},
   "outputs": [],
   "source": [
    "trainD = np.concatenate((finalWrongs, finalRights), axis = 0)\n",
    "\n",
    "mean = np.mean(trainD, axis = 0)\n",
    "ma = np.max(trainD, axis = 0)\n",
    "mi = np.min(trainD, axis = 0)\n",
    "trainD = (trainD - mean)/(ma-mi)\n",
    "#trainD = np.concatenate((trainD, LCR_train.reshape((-1,1))), axis = 1)\n",
    "y_wrongs = np.ones(len(finalWrongs))\n",
    "y_rights = np.zeros(len(finalRights))\n",
    "trainL = np.concatenate((y_wrongs, y_rights), axis = 0)"
   ]
  },
  {
   "cell_type": "code",
   "execution_count": 176,
   "metadata": {},
   "outputs": [],
   "source": []
  },
  {
   "cell_type": "code",
   "execution_count": null,
   "metadata": {},
   "outputs": [],
   "source": []
  },
  {
   "cell_type": "markdown",
   "metadata": {},
   "source": [
    "TRAINING"
   ]
  },
  {
   "cell_type": "code",
   "execution_count": 59,
   "metadata": {},
   "outputs": [],
   "source": [
    "val_cond = pickle.load(open('cond_val100.p', 'rb'))\n",
    "val_index = pickle.load(open('imagenet100/originIndex_val100.p', 'rb'))"
   ]
  },
  {
   "cell_type": "code",
   "execution_count": 62,
   "metadata": {},
   "outputs": [],
   "source": [
    "valL = get_labels(val_index, 150, 'val_pred100', num_class)"
   ]
  },
  {
   "cell_type": "code",
   "execution_count": 63,
   "metadata": {},
   "outputs": [],
   "source": [
    "valD = process_data(layers, val_cond, concat)\n",
    "valD = (valD-mean)/(ma-mi)"
   ]
  },
  {
   "cell_type": "code",
   "execution_count": 66,
   "metadata": {},
   "outputs": [],
   "source": [
    "verif = create_verif(trainD.shape[1])"
   ]
  },
  {
   "cell_type": "code",
   "execution_count": 31,
   "metadata": {
    "collapsed": true
   },
   "outputs": [
    {
     "name": "stdout",
     "output_type": "stream",
     "text": [
      "Train on 112932 samples, validate on 15000 samples\n",
      "Epoch 1/10\n",
      "112932/112932 [==============================] - 12s 104us/step - loss: 0.1217 - val_loss: 0.1973\n",
      "roc-auc: 0.95867 - roc-auc_val: 0.92675                                                                                                    \n",
      "Epoch 2/10\n",
      "112932/112932 [==============================] - 9s 80us/step - loss: 0.1001 - val_loss: 0.1777\n",
      "roc-auc: 0.96726 - roc-auc_val: 0.93229                                                                                                    \n",
      "Epoch 3/10\n",
      "112932/112932 [==============================] - 10s 85us/step - loss: 0.0935 - val_loss: 0.1913\n",
      "roc-auc: 0.97219 - roc-auc_val: 0.93317                                                                                                    \n",
      "Epoch 4/10\n",
      "112932/112932 [==============================] - 9s 83us/step - loss: 0.0875 - val_loss: 0.1841\n",
      "roc-auc: 0.97524 - roc-auc_val: 0.93697                                                                                                    \n",
      "Epoch 5/10\n",
      "112932/112932 [==============================] - 9s 83us/step - loss: 0.0840 - val_loss: 0.1879\n",
      "roc-auc: 0.97809 - roc-auc_val: 0.93839                                                                                                    \n",
      "Epoch 6/10\n",
      "112932/112932 [==============================] - 9s 81us/step - loss: 0.0807 - val_loss: 0.1798\n",
      "roc-auc: 0.98069 - roc-auc_val: 0.93911                                                                                                    \n",
      "Epoch 7/10\n",
      "112932/112932 [==============================] - 9s 83us/step - loss: 0.0777 - val_loss: 0.1711\n",
      "roc-auc: 0.98217 - roc-auc_val: 0.9417                                                                                                    \n",
      "Epoch 8/10\n",
      "112932/112932 [==============================] - 9s 83us/step - loss: 0.0754 - val_loss: 0.1832\n",
      "roc-auc: 0.98356 - roc-auc_val: 0.94038                                                                                                    \n",
      "Epoch 9/10\n",
      "112932/112932 [==============================] - 9s 80us/step - loss: 0.0724 - val_loss: 0.1941\n",
      "roc-auc: 0.98455 - roc-auc_val: 0.94114                                                                                                    \n",
      "Epoch 10/10\n",
      "112932/112932 [==============================] - 9s 81us/step - loss: 0.0699 - val_loss: 0.1867\n",
      "roc-auc: 0.98607 - roc-auc_val: 0.94183                                                                                                    \n"
     ]
    },
    {
     "data": {
      "text/plain": [
       "<keras.callbacks.History at 0x28dcf314cc0>"
      ]
     },
     "execution_count": 31,
     "metadata": {},
     "output_type": "execute_result"
    }
   ],
   "source": [
    "roc_call = roc_callback(training_data=(trainD, trainL),validation_data=(valD, valL))\n",
    "verif.fit(trainD, trainL, batch_size = 100, validation_data = (valD, valL), epochs = 10, callbacks = [roc_call])"
   ]
  },
  {
   "cell_type": "code",
   "execution_count": 69,
   "metadata": {},
   "outputs": [
    {
     "data": {
      "image/png": "[encoded data removed]",
      "text/plain": [
       "<Figure size 432x288 with 1 Axes>"
      ]
     },
     "metadata": {
      "needs_background": "light"
     },
     "output_type": "display_data"
    },
    {
     "name": "stdout",
     "output_type": "stream",
     "text": [
      "accuracy 0.873 mean recall 0.872871326304868 right recall 0.8730286804078339 wrong recall 0.8727139722019019\n",
      "0.04 0.9409638796004209\n"
     ]
    }
   ],
   "source": [
    "val_res = verif.predict(valD)\n",
    "cond_threshs, cond_ind, cond_auroc = find_opti_thresh(valL, val_res, plot = True)\n",
    "cond_thresh = cond_threshs[cond_ind-35]\n",
    "cond_thresh = 4.0e-2\n",
    "_ = report_acc(val_res, valL, cond_thresh, True)\n",
    "print(cond_thresh, cond_auroc)"
   ]
  },
  {
   "cell_type": "code",
   "execution_count": 249,
   "metadata": {},
   "outputs": [],
   "source": [
    "#verif.save('best_cond100_nowbce.h5')"
   ]
  },
  {
   "cell_type": "code",
   "execution_count": 68,
   "metadata": {},
   "outputs": [],
   "source": [
    "verif.load_weights('best_cond100_nowbce.h5')"
   ]
  },
  {
   "cell_type": "markdown",
   "metadata": {},
   "source": [
    "TEST PART"
   ]
  },
  {
   "cell_type": "code",
   "execution_count": 70,
   "metadata": {},
   "outputs": [],
   "source": [
    "test_cond2 = pickle.load(open('cond_test100.p', 'rb')) #calculated with one Grad\n",
    "test_index = pickle.load(open('imagenet100/originIndex_test100.p', 'rb'))"
   ]
  },
  {
   "cell_type": "code",
   "execution_count": 71,
   "metadata": {},
   "outputs": [],
   "source": [
    "testD = process_data(layers, test_cond2, concat = concat)\n",
    "testD = (testD-mean)/(ma-mi)\n",
    "#testD = np.concatenate((testD, LCR_test.reshape((-1,1))), axis = 1)"
   ]
  },
  {
   "cell_type": "code",
   "execution_count": 72,
   "metadata": {},
   "outputs": [],
   "source": [
    "L = []\n",
    "for c in sorted(rights.keys()):\n",
    "    for i in range(len(test_index[c])):\n",
    "        L.append(test_index[c][i][0]*50 + test_index[c][i][1])\n",
    "#LCR_test = LCR_test[L]"
   ]
  },
  {
   "cell_type": "code",
   "execution_count": 73,
   "metadata": {},
   "outputs": [],
   "source": [
    "test_pred = pickle.load(open('test_pred100.p', 'rb'))\n",
    "ground_truth = np.array([[c for i in range(len(test_pred[c]))] for c in range(100)])\n",
    "test_pred = np.array([test_pred[c] for c in range(100)]).reshape((1,-1))[0]\n",
    "ground_truth = ground_truth.reshape((1,-1))[0]\n",
    "test_labels = test_pred != ground_truth\n",
    "test_labels = test_labels[L]"
   ]
  },
  {
   "cell_type": "code",
   "execution_count": 74,
   "metadata": {},
   "outputs": [],
   "source": [
    "testL = test_labels"
   ]
  },
  {
   "cell_type": "code",
   "execution_count": 75,
   "metadata": {},
   "outputs": [
    {
     "name": "stdout",
     "output_type": "stream",
     "text": [
      "accuracy 0.852 mean recall 0.8711090533513783 right recall 0.8465346534653465 wrong recall 0.89568345323741\n"
     ]
    }
   ],
   "source": [
    "test_res = verif.predict(testD)\n",
    "_ = report_acc(test_res, testL, cond_thresh, True)"
   ]
  },
  {
   "cell_type": "code",
   "execution_count": null,
   "metadata": {},
   "outputs": [],
   "source": []
  },
  {
   "cell_type": "markdown",
   "metadata": {},
   "source": [
    "LCR"
   ]
  },
  {
   "cell_type": "code",
   "execution_count": 76,
   "metadata": {},
   "outputs": [],
   "source": [
    "LCR_train = pickle.load(open('train100_LCR_NAI_0.002.p', 'rb'))\n",
    "LCR_val = pickle.load(open('val100_LCR_NAI_0.002.p', 'rb'))\n",
    "LCR_test = pickle.load(open('test100_LCR_NAI_0.002.p', 'rb'))"
   ]
  },
  {
   "cell_type": "code",
   "execution_count": 77,
   "metadata": {},
   "outputs": [
    {
     "data": {
      "image/png": "[encoded data removed]",
      "text/plain": [
       "<Figure size 432x288 with 1 Axes>"
      ]
     },
     "metadata": {
      "needs_background": "light"
     },
     "output_type": "display_data"
    },
    {
     "name": "stdout",
     "output_type": "stream",
     "text": [
      "accuracy 0.8356 mean recall 0.8335381932615311 right recall 0.8360595613584684 wrong recall 0.831016825164594\n",
      "0.0434 0.9014216118200646\n"
     ]
    }
   ],
   "source": [
    "lcr_threshs, lcr_ind, lcr_auroc = find_opti_thresh(valL, LCR_val, plot = True)\n",
    "lcr_thresh = lcr_threshs[lcr_ind]\n",
    "lcr_thresh = 4.34e-2\n",
    "_ = report_acc(LCR_val, valL, lcr_thresh, True)\n",
    "print(lcr_thresh, lcr_auroc)"
   ]
  },
  {
   "cell_type": "code",
   "execution_count": 78,
   "metadata": {},
   "outputs": [
    {
     "name": "stdout",
     "output_type": "stream",
     "text": [
      "accuracy 0.8166 mean recall 0.8338856367651153 right recall 0.8116561656165616 wrong recall 0.8561151079136691\n"
     ]
    }
   ],
   "source": [
    "_ = report_acc(LCR_test, testL, lcr_thresh, True)"
   ]
  },
  {
   "cell_type": "code",
   "execution_count": null,
   "metadata": {},
   "outputs": [],
   "source": []
  },
  {
   "cell_type": "code",
   "execution_count": null,
   "metadata": {},
   "outputs": [],
   "source": []
  },
  {
   "cell_type": "markdown",
   "metadata": {},
   "source": [
    "LCR & COND"
   ]
  },
  {
   "cell_type": "code",
   "execution_count": 79,
   "metadata": {},
   "outputs": [
    {
     "data": {
      "text/plain": [
       "(112932, 1)"
      ]
     },
     "execution_count": 79,
     "metadata": {},
     "output_type": "execute_result"
    }
   ],
   "source": [
    "train_res = verif.predict(trainD)\n",
    "train_res.shape"
   ]
  },
  {
   "cell_type": "code",
   "execution_count": 82,
   "metadata": {},
   "outputs": [],
   "source": [
    "data = np.concatenate((LCR_train.reshape((-1,1)), train_res), axis = 1)\n",
    "data_val = np.concatenate((LCR_val.reshape((-1,1)), val_res), axis = 1)\n",
    "data_test = np.concatenate((LCR_test.reshape((-1,1)), test_res), axis = 1)"
   ]
  },
  {
   "cell_type": "code",
   "execution_count": 83,
   "metadata": {},
   "outputs": [],
   "source": [
    "nn = Sequential()    \n",
    "nn.add(Dense(10, input_shape = (data.shape[1],), activation = 'relu'))\n",
    "nn.add(Dense(10, activation = 'relu'))\n",
    "nn.add(Dropout(0.5))\n",
    "nn.add(Dense(1, activation = 'sigmoid'))\n",
    "opt = keras.optimizers.Adam(lr=0.001)\n",
    "nn.compile(loss = 'binary_crossentropy', optimizer=opt,metrics=None)"
   ]
  },
  {
   "cell_type": "code",
   "execution_count": 183,
   "metadata": {
    "collapsed": true
   },
   "outputs": [
    {
     "name": "stdout",
     "output_type": "stream",
     "text": [
      "Train on 112932 samples, validate on 15000 samples\n",
      "Epoch 1/1\n",
      "112932/112932 [==============================] - 6s 52us/step - loss: 0.0863 - val_loss: 0.1788\n",
      "roc-auc: 0.98258 - roc-auc_val: 0.94581                                                                                                    \n"
     ]
    }
   ],
   "source": [
    "roc_call = roc_callback(training_data=(data, trainL),validation_data=(data_val, valL))\n",
    "history = nn.fit(data, trainL, validation_data = (data_val, valL), batch_size = 100, epochs = 1, callbacks = [roc_call])"
   ]
  },
  {
   "cell_type": "code",
   "execution_count": 85,
   "metadata": {},
   "outputs": [
    {
     "data": {
      "image/png": "[encoded data removed]",
      "text/plain": [
       "<Figure size 432x288 with 1 Axes>"
      ]
     },
     "metadata": {
      "needs_background": "light"
     },
     "output_type": "display_data"
    },
    {
     "name": "stdout",
     "output_type": "stream",
     "text": [
      "accuracy 0.8818 mean recall 0.8816615852783312 right recall 0.8818308516100638 wrong recall 0.8814923189465984\n",
      "0.0091 0.9459067838050138\n"
     ]
    }
   ],
   "source": [
    "nn_val_res = nn.predict(data_val)\n",
    "both_threshs, both_ind, both_auroc = find_opti_thresh(valL, nn_val_res, plot = True)\n",
    "both_thresh = both_threshs[both_ind-12]\n",
    "both_thresh = 9.1e-3\n",
    "# both_thresh = 0.4\n",
    "# both_thresh = 9.e-4\n",
    "_ = report_acc(nn_val_res, valL, both_thresh, True)\n",
    "print(both_thresh, both_auroc)"
   ]
  },
  {
   "cell_type": "code",
   "execution_count": 86,
   "metadata": {},
   "outputs": [
    {
     "name": "stdout",
     "output_type": "stream",
     "text": [
      "accuracy 0.8618 mean recall 0.8742617966832655 right recall 0.8582358235823583 wrong recall 0.8902877697841727\n"
     ]
    }
   ],
   "source": [
    "nn_test_res = nn.predict(data_test)\n",
    "_ = report_acc(nn_test_res, testL, both_thresh, True)"
   ]
  },
  {
   "cell_type": "code",
   "execution_count": 70,
   "metadata": {},
   "outputs": [],
   "source": [
    "def plot_confusion_matrix(y_true, y_pred, classes_name,\n",
    "                          normalize=False,\n",
    "                          title=None,\n",
    "                          cmap=plt.cm.Blues):\n",
    "    if not title:\n",
    "        if normalize:\n",
    "            title = 'Normalized confusion matrix'\n",
    "        else:\n",
    "            title = 'Confusion matrix'\n",
    "\n",
    "    # Compute confusion matrix\n",
    "    cm = confusion_matrix(y_true, y_pred)\n",
    "    # Only use the labels that appear in the data\n",
    "    classes = classes_name\n",
    "    if normalize:\n",
    "        cm = cm.astype('float') / cm.sum(axis=1)[:, np.newaxis]       \n",
    "\n",
    "    fig, ax = plt.subplots()\n",
    "    im = ax.imshow(cm, interpolation='nearest', cmap=cmap)\n",
    "    #ax.figure.colorbar(im, ax=ax)\n",
    "    # We want to show all ticks...\n",
    "    ax.set(xticks=np.arange(cm.shape[1]),\n",
    "           yticks=np.arange(cm.shape[0]),\n",
    "           # ... and label them with the respective list entries\n",
    "           xticklabels=classes, yticklabels=classes,\n",
    "           title=title,\n",
    "           ylabel='True label',\n",
    "           xlabel='Predicted label')\n",
    "    ax.tick_params(axis='both', which='major', labelsize=9)\n",
    "    ax.tick_params(axis='both', which='minor', labelsize=9)\n",
    "    # Rotate the tick labels and set their alignment.\n",
    "    plt.setp(ax.get_xticklabels(), rotation=45, ha=\"right\",\n",
    "             rotation_mode=\"anchor\")\n",
    "\n",
    "    # Loop over data dimensions and create text annotations.\n",
    "    fmt = '.2f' if normalize else 'd'\n",
    "    thresh = cm.max() / 2.\n",
    "    for i in range(cm.shape[0]):\n",
    "        for j in range(cm.shape[1]):\n",
    "            ax.text(j, i, format(cm[i, j], fmt),\n",
    "                    ha=\"center\", va=\"center\",\n",
    "                    color=\"white\" if cm[i, j] > thresh else \"black\")\n",
    "    fig.tight_layout()\n",
    "    plt.savefig('test_cm.pdf', bbox_inches = 'tight')\n",
    "    return ax"
   ]
  },
  {
   "cell_type": "code",
   "execution_count": 71,
   "metadata": {
    "collapsed": true
   },
   "outputs": [
    {
     "data": {
      "text/plain": [
       "<matplotlib.axes._subplots.AxesSubplot at 0x20c28decc88>"
      ]
     },
     "execution_count": 71,
     "metadata": {},
     "output_type": "execute_result"
    },
    {
     "data": {
      "image/png": "[encoded data removed]",
      "text/plain": [
       "<Figure size 432x288 with 1 Axes>"
      ]
     },
     "metadata": {
      "needs_background": "light"
     },
     "output_type": "display_data"
    }
   ],
   "source": [
    "plot_confusion_matrix(testL, nn_test_res > both_thresh, classes_name = ['correct pred (0)', 'wrong pred (1)'])"
   ]
  },
  {
   "cell_type": "code",
   "execution_count": 182,
   "metadata": {},
   "outputs": [],
   "source": [
    "#nn.save('best_no_wbce.h5')"
   ]
  },
  {
   "cell_type": "code",
   "execution_count": 84,
   "metadata": {},
   "outputs": [],
   "source": [
    "nn.load_weights('best_no_wbce.h5')"
   ]
  },
  {
   "cell_type": "code",
   "execution_count": null,
   "metadata": {},
   "outputs": [],
   "source": []
  },
  {
   "cell_type": "code",
   "execution_count": 87,
   "metadata": {},
   "outputs": [],
   "source": [
    "from sklearn.metrics import roc_curve\n",
    "from sklearn.metrics import auc\n",
    "cond_fpr, cond_tpr, cond_threshs = roc_curve(valL, val_res)\n",
    "lcr_fpr, lcr_tpr, lcr_threshs = roc_curve(valL, LCR_val)\n",
    "both_fpr, both_tpr, both_threshs = roc_curve(valL, nn_val_res)"
   ]
  },
  {
   "cell_type": "code",
   "execution_count": 88,
   "metadata": {},
   "outputs": [],
   "source": [
    "both_x, both_y = both_fpr[both_ind-12], both_tpr[both_ind-12]\n",
    "lcr_x, lcr_y = lcr_fpr[lcr_ind], lcr_tpr[lcr_ind]\n",
    "cond_x, cond_y = cond_fpr[cond_ind-35], cond_tpr[cond_ind-35]"
   ]
  },
  {
   "cell_type": "code",
   "execution_count": 90,
   "metadata": {},
   "outputs": [
    {
     "data": {
      "image/png": "[encoded data removed]",
      "text/plain": [
       "<Figure size 432x288 with 1 Axes>"
      ]
     },
     "metadata": {
      "needs_background": "light"
     },
     "output_type": "display_data"
    }
   ],
   "source": [
    "plt.figure()\n",
    "lw = 2\n",
    "plt.plot(lcr_fpr, lcr_tpr, ':', color = 'green',\n",
    "         lw=lw, label='LCR (AUROC = %0.3f)' % lcr_auroc)\n",
    "plt.plot(lcr_x, lcr_y,marker='o',  markersize=10, color= 'green')\n",
    "plt.plot(cond_fpr, cond_tpr, '--', color = 'red',\n",
    "         lw=lw, label='cond (AUROC = %0.3f)' % cond_auroc)\n",
    "plt.plot(cond_x, cond_y, marker='o',  markersize=10, color= 'red')\n",
    "plt.plot(both_fpr, both_tpr, color = 'blue',\n",
    "         lw=lw, label='both (AUROC = %0.3f)' % both_auroc)\n",
    "plt.plot(both_x, both_y, marker='o',  markersize=10, color= 'blue')\n",
    "plt.plot([0, 1], [0, 1], color='navy', lw=lw, linestyle='--')\n",
    "plt.xlim([0.0, 1.0])\n",
    "plt.ylim([0.0, 1.05])\n",
    "plt.xlabel('1 - recall of class 0')\n",
    "plt.ylabel('recall of class 1')\n",
    "plt.title('100-classes ImageNet validation set ROC')\n",
    "plt.legend(loc=\"lower right\")\n",
    "plt.savefig('100Imagenet_ROC.pdf', bbox_inches = 'tight')\n",
    "#plt.show()"
   ]
  },
  {
   "cell_type": "code",
   "execution_count": null,
   "metadata": {},
   "outputs": [],
   "source": []
  },
  {
   "cell_type": "code",
   "execution_count": null,
   "metadata": {},
   "outputs": [],
   "source": []
  },
  {
   "cell_type": "code",
   "execution_count": 209,
   "metadata": {},
   "outputs": [
    {
     "data": {
      "text/plain": [
       "RandomForestClassifier(bootstrap=True, class_weight=None, criterion='gini',\n",
       "            max_depth=10, max_features='auto', max_leaf_nodes=None,\n",
       "            min_impurity_decrease=0.0, min_impurity_split=None,\n",
       "            min_samples_leaf=1, min_samples_split=2,\n",
       "            min_weight_fraction_leaf=0.0, n_estimators=100, n_jobs=None,\n",
       "            oob_score=False, random_state=0, verbose=0, warm_start=False)"
      ]
     },
     "execution_count": 209,
     "metadata": {},
     "output_type": "execute_result"
    }
   ],
   "source": [
    "#random forrest\n",
    "from sklearn.ensemble import RandomForestClassifier\n",
    "clf_RF = RandomForestClassifier(n_estimators = 100, max_depth=10 ,random_state=0)\n",
    "clf_RF.fit(data, trainL)"
   ]
  },
  {
   "cell_type": "code",
   "execution_count": 225,
   "metadata": {},
   "outputs": [
    {
     "data": {
      "image/png": "[encoded data removed]",
      "text/plain": [
       "<Figure size 432x288 with 1 Axes>"
      ]
     },
     "metadata": {
      "needs_background": "light"
     },
     "output_type": "display_data"
    },
    {
     "name": "stdout",
     "output_type": "stream",
     "text": [
      "0.0243 0.9433457619375424\n",
      "accuracy 0.8749333333333333 mean recall 0.8749221881948632 right recall 0.8749358175016504 wrong recall 0.8749085588880761\n"
     ]
    }
   ],
   "source": [
    "rf_val_res = clf_RF.predict_proba(data_val)[:,1]\n",
    "threshs, ind, auroc = find_opti_thresh(valL, rf_val_res, plot = True)\n",
    "thresh = threshs[ind-170]\n",
    "thresh = 2.43e-2\n",
    "print(thresh, auroc)\n",
    "_ = report_acc(rf_val_res, valL, thresh, True)"
   ]
  },
  {
   "cell_type": "code",
   "execution_count": 227,
   "metadata": {},
   "outputs": [
    {
     "name": "stdout",
     "output_type": "stream",
     "text": [
      "accuracy 0.8534 mean recall 0.8750437094069119 right recall 0.8472097209720972 wrong recall 0.9028776978417267\n"
     ]
    }
   ],
   "source": [
    "rf_test_res = clf_RF.predict_proba(data_test)[:,1]\n",
    "_ = report_acc(rf_test_res, testL, thresh, True)"
   ]
  },
  {
   "cell_type": "code",
   "execution_count": 226,
   "metadata": {},
   "outputs": [],
   "source": [
    "#LDA & QDA"
   ]
  },
  {
   "cell_type": "code",
   "execution_count": 230,
   "metadata": {},
   "outputs": [
    {
     "data": {
      "text/plain": [
       "QuadraticDiscriminantAnalysis(priors=None, reg_param=0.0,\n",
       "               store_covariance=False, store_covariances=None, tol=0.0001)"
      ]
     },
     "execution_count": 230,
     "metadata": {},
     "output_type": "execute_result"
    }
   ],
   "source": [
    "#LDA & QDA\n",
    "from sklearn.discriminant_analysis import LinearDiscriminantAnalysis as LDA\n",
    "from sklearn.discriminant_analysis import QuadraticDiscriminantAnalysis as QDA\n",
    "clf_LDA = LDA()\n",
    "clf_QDA = QDA()\n",
    "clf_LDA.fit(data, trainL)\n",
    "clf_QDA.fit(data, trainL)"
   ]
  },
  {
   "cell_type": "code",
   "execution_count": 236,
   "metadata": {},
   "outputs": [
    {
     "data": {
      "image/png": "[encoded data removed]",
      "text/plain": [
       "<Figure size 432x288 with 1 Axes>"
      ]
     },
     "metadata": {
      "needs_background": "light"
     },
     "output_type": "display_data"
    },
    {
     "name": "stdout",
     "output_type": "stream",
     "text": [
      "6.22e-09 0.9439670490581533\n",
      "accuracy 0.8752 mean recall 0.8750688910482337 right recall 0.8752292232083914 wrong recall 0.8749085588880761\n"
     ]
    }
   ],
   "source": [
    "LDA_val_res = clf_LDA.predict_proba(data_val)[:,1]\n",
    "threshs, ind, auroc = find_opti_thresh(valL, LDA_val_res, plot = True)\n",
    "thresh = threshs[ind-50]\n",
    "thresh = 6.22e-9\n",
    "print(thresh, auroc)\n",
    "_ = report_acc(LDA_val_res, valL, thresh, True)"
   ]
  },
  {
   "cell_type": "code",
   "execution_count": 238,
   "metadata": {},
   "outputs": [
    {
     "name": "stdout",
     "output_type": "stream",
     "text": [
      "accuracy 0.8542 mean recall 0.8715599077893401 right recall 0.8492349234923492 wrong recall 0.8938848920863309\n"
     ]
    }
   ],
   "source": [
    "LDA_test_res = clf_LDA.predict_proba(data_test)[:,1]\n",
    "_ = report_acc(LDA_test_res, testL, thresh, True)"
   ]
  },
  {
   "cell_type": "code",
   "execution_count": 245,
   "metadata": {},
   "outputs": [
    {
     "data": {
      "image/png": "[encoded data removed]",
      "text/plain": [
       "<Figure size 432x288 with 1 Axes>"
      ]
     },
     "metadata": {
      "needs_background": "light"
     },
     "output_type": "display_data"
    },
    {
     "name": "stdout",
     "output_type": "stream",
     "text": [
      "0.00602 <function auc at 0x000001FFB0CE18C8>\n",
      "accuracy 0.8738666666666667 mean recall 0.8733481105783221 right recall 0.8739822489547422 wrong recall 0.8727139722019019\n"
     ]
    }
   ],
   "source": [
    "QDA_val_res = clf_QDA.predict_proba(data_val)[:,1]\n",
    "threshs, ind, auroc = find_opti_thresh(valL, QDA_val_res, plot = True)\n",
    "thresh = threshs[ind+20]\n",
    "thresh = 6.02e-3\n",
    "print(thresh, auc)\n",
    "_ = report_acc(QDA_val_res, valL, thresh, True)"
   ]
  },
  {
   "cell_type": "code",
   "execution_count": 246,
   "metadata": {},
   "outputs": [
    {
     "name": "stdout",
     "output_type": "stream",
     "text": [
      "accuracy 0.8562 mean recall 0.8711114816517623 right recall 0.851935193519352 wrong recall 0.8902877697841727\n"
     ]
    }
   ],
   "source": [
    "test_pred = clf_QDA.predict_proba(data_test)[:,1]\n",
    "_ = report_acc(test_pred, testL, thresh, True)"
   ]
  },
  {
   "cell_type": "code",
   "execution_count": null,
   "metadata": {},
   "outputs": [],
   "source": []
  },
  {
   "cell_type": "code",
   "execution_count": null,
   "metadata": {},
   "outputs": [],
   "source": []
  },
  {
   "cell_type": "code",
   "execution_count": null,
   "metadata": {},
   "outputs": [],
   "source": []
  },
  {
   "cell_type": "code",
   "execution_count": null,
   "metadata": {},
   "outputs": [],
   "source": []
  },
  {
   "cell_type": "code",
   "execution_count": null,
   "metadata": {},
   "outputs": [],
   "source": []
  }
 ],
 "metadata": {
  "kernelspec": {
   "display_name": "Python 3",
   "language": "python",
   "name": "python3"
  },
  "language_info": {
   "codemirror_mode": {
    "name": "ipython",
    "version": 3
   },
   "file_extension": ".py",
   "mimetype": "text/x-python",
   "name": "python",
   "nbconvert_exporter": "python",
   "pygments_lexer": "ipython3",
   "version": "3.7.3"
  }
 },
 "nbformat": 4,
 "nbformat_minor": 2
}
