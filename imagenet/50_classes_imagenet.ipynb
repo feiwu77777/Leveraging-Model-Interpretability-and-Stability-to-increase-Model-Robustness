{
 "cells": [
  {
   "cell_type": "code",
   "execution_count": 1,
   "metadata": {},
   "outputs": [],
   "source": [
    "%reload_ext autoreload\n",
    "%autoreload"
   ]
  },
  {
   "cell_type": "code",
   "execution_count": 2,
   "metadata": {},
   "outputs": [
    {
     "name": "stderr",
     "output_type": "stream",
     "text": [
      "Using TensorFlow backend.\n"
     ]
    }
   ],
   "source": [
    "from imagenet_utils import *"
   ]
  },
  {
   "cell_type": "code",
   "execution_count": 3,
   "metadata": {},
   "outputs": [],
   "source": [
    "import keras.backend as K\n",
    "from sklearn.utils import class_weight\n",
    "from keras.callbacks import EarlyStopping\n",
    "import matplotlib.pyplot as plt\n",
    "import seaborn as sns\n",
    "from keras.models import Model\n",
    "from keras.layers import Flatten, Dropout, Dense, GlobalAveragePooling2D, Activation\n",
    "import tensorflow as tf\n",
    "import numpy as np\n",
    "import pandas as pd\n",
    "from sklearn.decomposition import PCA\n",
    "import keras\n",
    "import pickle\n",
    "import os\n",
    "from keras.preprocessing import image\n",
    "from keras.applications.inception_v3 import InceptionV3, preprocess_input\n",
    "from keras.preprocessing.image import ImageDataGenerator"
   ]
  },
  {
   "cell_type": "code",
   "execution_count": 4,
   "metadata": {},
   "outputs": [],
   "source": [
    "num_class = 50\n",
    "index_to_label = pickle.load(open('index_to_label.p','rb'))\n",
    "keep = pickle.load(open('keep.p', 'rb'))\n",
    "label_to_index = {index_to_label[keep[i]]:i for i in range(len(keep))}\n",
    "index_to_label = {u:v for v,u in label_to_index.items()}"
   ]
  },
  {
   "cell_type": "code",
   "execution_count": 5,
   "metadata": {},
   "outputs": [],
   "source": [
    "model = create_net('reduced_weights.h5', num_class)"
   ]
  },
  {
   "cell_type": "code",
   "execution_count": 6,
   "metadata": {},
   "outputs": [],
   "source": [
    "train_path = 'train_small/'\n",
    "val_path = 'val_small/'\n",
    "test_path = 'test_small/'\n",
    "classes = sorted(os.listdir(train_path))\n",
    "num_imgs = [len(os.listdir(train_path+classes[c])) for c in range(num_class)]"
   ]
  },
  {
   "cell_type": "code",
   "execution_count": 7,
   "metadata": {},
   "outputs": [],
   "source": [
    "convLayers = []\n",
    "for i in range(len(model.layers)):\n",
    "    if (\"mixed\" in model.layers[i].name) & (model.layers[i].name[-2] != '_'):\n",
    "        convLayers.append(model.layers[i])\n",
    "convBlocks = getBlocks(convLayers)"
   ]
  },
  {
   "cell_type": "code",
   "execution_count": 15,
   "metadata": {},
   "outputs": [
    {
     "name": "stdout",
     "output_type": "stream",
     "text": [
      "Found 2500 images belonging to 50 classes.\n"
     ]
    }
   ],
   "source": [
    "bs = 100\n",
    "datagen = ImageDataGenerator(preprocessing_function = preprocess_input)\n",
    "gen = datagen.flow_from_directory(test_path,target_size=(299,299),class_mode='categorical',shuffle=False,batch_size=bs)"
   ]
  },
  {
   "cell_type": "code",
   "execution_count": 16,
   "metadata": {},
   "outputs": [
    {
     "name": "stdout",
     "output_type": "stream",
     "text": [
      "25/25 [==============================] - 124s 5s/step\n"
     ]
    }
   ],
   "source": [
    "opt = keras.optimizers.Adam(1e-4)\n",
    "model.compile(loss = 'categorical_crossentropy', optimizer = opt, metrics = ['accuracy'])\n",
    "evaluation = model.evaluate_generator(gen, steps = gen.n // gen.batch_size, verbose = 1)"
   ]
  },
  {
   "cell_type": "code",
   "execution_count": 11,
   "metadata": {},
   "outputs": [
    {
     "data": {
      "text/plain": [
       "[0.09497267428971827, 0.9776000053882599]"
      ]
     },
     "execution_count": 11,
     "metadata": {},
     "output_type": "execute_result"
    }
   ],
   "source": [
    "evaluation #train"
   ]
  },
  {
   "cell_type": "code",
   "execution_count": 14,
   "metadata": {},
   "outputs": [
    {
     "data": {
      "text/plain": [
       "[0.0903473055921495, 0.981200008392334]"
      ]
     },
     "execution_count": 14,
     "metadata": {},
     "output_type": "execute_result"
    }
   ],
   "source": [
    "evaluation #val"
   ]
  },
  {
   "cell_type": "code",
   "execution_count": 17,
   "metadata": {},
   "outputs": [
    {
     "data": {
      "text/plain": [
       "[0.2648766044899821, 0.9300000023841858]"
      ]
     },
     "execution_count": 17,
     "metadata": {},
     "output_type": "execute_result"
    }
   ],
   "source": [
    "evaluation #test"
   ]
  },
  {
   "cell_type": "markdown",
   "metadata": {},
   "source": [
    "DATA PREPARATION"
   ]
  },
  {
   "cell_type": "code",
   "execution_count": 8,
   "metadata": {},
   "outputs": [],
   "source": [
    "rights2 = pickle.load(open('pickles/50Imagenet/rights_cond.p', 'rb'))\n",
    "wrongs = pickle.load(open('pickles/50Imagenet/wrongs_cond.p', 'rb'))\n",
    "rights = {}\n",
    "for c in range(num_class):\n",
    "    rights[c] = rights2[c]"
   ]
  },
  {
   "cell_type": "code",
   "execution_count": 10,
   "metadata": {},
   "outputs": [],
   "source": [
    "#to be modified\n",
    "layers = [len(convLayers)-i-1 for i in range(len(convLayers))]\n",
    "concat = 0\n",
    "finalWrongs = process_data(layers, wrongs2, concat)\n",
    "finalRights = process_data(layers, rights2, concat)"
   ]
  },
  {
   "cell_type": "code",
   "execution_count": 11,
   "metadata": {},
   "outputs": [],
   "source": [
    "trainD = np.concatenate((finalWrongs, finalRights), axis = 0)\n",
    "mean = np.mean(trainD, axis = 0)\n",
    "ma = np.max(trainD, axis = 0)\n",
    "mi = np.min(trainD, axis = 0)\n",
    "trainD = (trainD - mean)/(ma-mi)\n",
    "y_wrongs = np.ones(len(finalWrongs))\n",
    "y_rights = np.zeros(len(finalRights))\n",
    "trainL = np.concatenate((y_wrongs, y_rights), axis = 0)"
   ]
  },
  {
   "cell_type": "code",
   "execution_count": null,
   "metadata": {},
   "outputs": [],
   "source": []
  },
  {
   "cell_type": "markdown",
   "metadata": {},
   "source": [
    "TRAINING"
   ]
  },
  {
   "cell_type": "code",
   "execution_count": 12,
   "metadata": {},
   "outputs": [],
   "source": [
    "val_cond = pickle.load(open('val_cond.p', 'rb'))\n",
    "val_index = pickle.load(open('val_index.p', 'rb'))"
   ]
  },
  {
   "cell_type": "code",
   "execution_count": 13,
   "metadata": {},
   "outputs": [],
   "source": [
    "valD = process_data(layers, val_cond, concat)\n",
    "valD = (valD-mean)/(ma-mi)"
   ]
  },
  {
   "cell_type": "code",
   "execution_count": 16,
   "metadata": {},
   "outputs": [],
   "source": [
    "valL = get_labels(val_index, 50, 'val_pred.p', num_class)"
   ]
  },
  {
   "cell_type": "code",
   "execution_count": 19,
   "metadata": {},
   "outputs": [],
   "source": [
    "verif = create_verif(trainD.shape[1])"
   ]
  },
  {
   "cell_type": "code",
   "execution_count": 113,
   "metadata": {
    "collapsed": true
   },
   "outputs": [
    {
     "name": "stdout",
     "output_type": "stream",
     "text": [
      "Train on 25000 samples, validate on 2500 samples\n",
      "Epoch 1/1\n",
      "25000/25000 [==============================] - 2s 84us/step - loss: 0.0496 - val_loss: 0.0534\n",
      "roc-auc: 0.9849 - roc-auc_val: 0.95876                                                                                                    \n"
     ]
    }
   ],
   "source": [
    "roc_call = roc_callback(training_data=(trainD, trainL),validation_data=(valD, valL))\n",
    "history = verif.fit(trainD, trainL, batch_size = 100, validation_data = (valD, valL), epochs = 1, callbacks = [roc_call])\n",
    "#plot(history)"
   ]
  },
  {
   "cell_type": "code",
   "execution_count": 21,
   "metadata": {
    "collapsed": true
   },
   "outputs": [
    {
     "data": {
      "image/png": "[encoded data removed]",
      "text/plain": [
       "<Figure size 432x288 with 1 Axes>"
      ]
     },
     "metadata": {
      "needs_background": "light"
     },
     "output_type": "display_data"
    },
    {
     "name": "stdout",
     "output_type": "stream",
     "text": [
      "accuracy 0.8732 mean recall 0.8727784475804703 right recall 0.8732164696290257 wrong recall 0.8723404255319149\n",
      "0.019 0.9440806307517499\n"
     ]
    }
   ],
   "source": [
    "val_res = verif.predict(valD)\n",
    "cond_threshs, cond_ind, cond_auroc = find_opti_thresh(valL, val_res, plot = True)\n",
    "cond_thresh = cond_threshs[cond_ind-3]\n",
    "cond_thresh = 1.9e-2\n",
    "_ = report_acc(val_res, valL, cond_thresh, True)\n",
    "print(cond_thresh, cond_auroc)"
   ]
  },
  {
   "cell_type": "code",
   "execution_count": null,
   "metadata": {},
   "outputs": [],
   "source": []
  },
  {
   "cell_type": "markdown",
   "metadata": {},
   "source": [
    "TEST PART"
   ]
  },
  {
   "cell_type": "code",
   "execution_count": 22,
   "metadata": {},
   "outputs": [],
   "source": [
    "test_cond2 = pickle.load(open('test_cond.p', 'rb')) #calculated with one Grad\n",
    "test_index = pickle.load(open('test_index.p', 'rb'))"
   ]
  },
  {
   "cell_type": "code",
   "execution_count": 23,
   "metadata": {},
   "outputs": [],
   "source": [
    "testD = process_data(layers, test_cond2, concat = concat)\n",
    "testD = (testD-mean)/(ma-mi)"
   ]
  },
  {
   "cell_type": "code",
   "execution_count": 26,
   "metadata": {},
   "outputs": [],
   "source": [
    "testL = get_labels(test_index, 50, 'test_pred.p', num_class)"
   ]
  },
  {
   "cell_type": "code",
   "execution_count": 27,
   "metadata": {},
   "outputs": [
    {
     "name": "stdout",
     "output_type": "stream",
     "text": [
      "accuracy 0.8244 mean recall 0.8527496159754224 right recall 0.8197849462365592 wrong recall 0.8857142857142857\n"
     ]
    }
   ],
   "source": [
    "test_res = verif.predict(testD)\n",
    "_ = report_acc(test_res, testL, 0.019, True)"
   ]
  },
  {
   "cell_type": "code",
   "execution_count": 146,
   "metadata": {},
   "outputs": [],
   "source": [
    "#verif.save('leading_to_best_nn.h5')"
   ]
  },
  {
   "cell_type": "code",
   "execution_count": 20,
   "metadata": {},
   "outputs": [],
   "source": [
    "verif.load_weights('leading_to_best_nn.h5')"
   ]
  },
  {
   "cell_type": "code",
   "execution_count": null,
   "metadata": {},
   "outputs": [],
   "source": []
  },
  {
   "cell_type": "markdown",
   "metadata": {},
   "source": [
    "LCR"
   ]
  },
  {
   "cell_type": "code",
   "execution_count": 28,
   "metadata": {},
   "outputs": [],
   "source": [
    "LCRW = pickle.load(open('LCRW_NAI_0.002.p', 'rb'))\n",
    "LCRR = pickle.load(open('LCRR_NAI_0.002.P', 'rb'))\n",
    "LCR_train = np.concatenate((LCRW, LCRR)).reshape((-1,1))"
   ]
  },
  {
   "cell_type": "code",
   "execution_count": 29,
   "metadata": {},
   "outputs": [],
   "source": [
    "LCR_val = pickle.load(open('LCR_val_NAI_0.002.p', 'rb')).reshape((-1,1))\n",
    "LCR_test = pickle.load(open('LCR_test_NAI_0.002.p', 'rb')).reshape((-1,1))"
   ]
  },
  {
   "cell_type": "code",
   "execution_count": 30,
   "metadata": {
    "collapsed": true
   },
   "outputs": [
    {
     "data": {
      "image/png": "[encoded data removed]",
      "text/plain": [
       "<Figure size 432x288 with 1 Axes>"
      ]
     },
     "metadata": {
      "needs_background": "light"
     },
     "output_type": "display_data"
    },
    {
     "name": "stdout",
     "output_type": "stream",
     "text": [
      "accuracy 0.8444 mean recall 0.8581025405278817 right recall 0.8438646555238484 wrong recall 0.8723404255319149\n",
      "0.151 0.9311221170776557\n"
     ]
    }
   ],
   "source": [
    "lcr_threshs, lcr_ind, lcr_auroc = find_opti_thresh(valL, LCR_val, plot = True)\n",
    "lcr_thresh = lcr_threshs[lcr_ind-6]\n",
    "lcr_thresh = 0.151\n",
    "_ = report_acc(LCR_val, valL, lcr_thresh, True)\n",
    "print(lcr_thresh, lcr_auroc)"
   ]
  },
  {
   "cell_type": "code",
   "execution_count": 31,
   "metadata": {},
   "outputs": [
    {
     "name": "stdout",
     "output_type": "stream",
     "text": [
      "accuracy 0.8252 mean recall 0.879600614439324 right recall 0.8163440860215053 wrong recall 0.9428571428571428\n"
     ]
    }
   ],
   "source": [
    "_ = report_acc(LCR_test, testL, lcr_thresh, True)"
   ]
  },
  {
   "cell_type": "code",
   "execution_count": null,
   "metadata": {},
   "outputs": [],
   "source": []
  },
  {
   "cell_type": "code",
   "execution_count": null,
   "metadata": {},
   "outputs": [],
   "source": []
  },
  {
   "cell_type": "markdown",
   "metadata": {},
   "source": [
    "LCR AND CONDUCTANCE"
   ]
  },
  {
   "cell_type": "code",
   "execution_count": 32,
   "metadata": {},
   "outputs": [],
   "source": [
    "train_res = verif.predict(trainD)\n",
    "data = np.concatenate((LCR_train.reshape((-1,1)), train_res), axis = 1)\n",
    "data_val = np.concatenate((LCR_val.reshape((-1,1)), val_res), axis = 1)\n",
    "data_test = np.concatenate((LCR_test.reshape((-1,1)), test_res), axis = 1)"
   ]
  },
  {
   "cell_type": "code",
   "execution_count": 33,
   "metadata": {},
   "outputs": [],
   "source": [
    "nn = Sequential()    \n",
    "nn.add(Dense(10, input_shape = (data.shape[1],), activation = 'relu'))\n",
    "nn.add(Dense(10, activation = 'relu'))\n",
    "nn.add(Dropout(0.5))\n",
    "nn.add(Dense(1, activation = 'sigmoid'))\n",
    "opt = keras.optimizers.Adam(lr=0.001)\n",
    "nn.compile(loss = 'binary_crossentropy', optimizer=opt,metrics=None)"
   ]
  },
  {
   "cell_type": "code",
   "execution_count": 104,
   "metadata": {
    "collapsed": true
   },
   "outputs": [
    {
     "name": "stdout",
     "output_type": "stream",
     "text": [
      "Train on 25000 samples, validate on 2500 samples\n",
      "Epoch 1/1\n",
      "25000/25000 [==============================] - 1s 55us/step - loss: 0.0941 - val_loss: 0.0620\n",
      "roc-auc: 0.97562 - roc-auc_val: 0.9574                                                                                                    \n"
     ]
    }
   ],
   "source": [
    "roc_call = roc_callback(training_data=(data, trainL),validation_data=(data_val, valL))\n",
    "history = nn.fit(data, trainL, validation_data = (data_val, valL), batch_size = 100, epochs = 1, callbacks = [roc_call])"
   ]
  },
  {
   "cell_type": "code",
   "execution_count": 35,
   "metadata": {
    "collapsed": true
   },
   "outputs": [
    {
     "data": {
      "image/png": "[encoded data removed]",
      "text/plain": [
       "<Figure size 432x288 with 1 Axes>"
      ]
     },
     "metadata": {
      "needs_background": "light"
     },
     "output_type": "display_data"
    },
    {
     "name": "stdout",
     "output_type": "stream",
     "text": [
      "accuracy 0.8912 mean recall 0.8923853553182816 right recall 0.8911536893599674 wrong recall 0.8936170212765957\n",
      "0.009 0.9574034399909794\n"
     ]
    }
   ],
   "source": [
    "nn_val_res = nn.predict(data_val)\n",
    "both_threshs, both_ind, both_auroc = find_opti_thresh(valL, nn_val_res, plot = True)\n",
    "both_thresh = both_threshs[both_ind-3]\n",
    "both_thresh = 9.00e-3\n",
    "_ = report_acc(nn_val_res, valL, both_thresh, True)\n",
    "print(both_thresh, both_auroc)"
   ]
  },
  {
   "cell_type": "code",
   "execution_count": 36,
   "metadata": {},
   "outputs": [
    {
     "name": "stdout",
     "output_type": "stream",
     "text": [
      "accuracy 0.85 mean recall 0.9008602150537635 right recall 0.8417204301075268 wrong recall 0.96\n"
     ]
    }
   ],
   "source": [
    "nn_test_res = nn.predict(data_test)\n",
    "_ = report_acc(nn_test_res, testL, 0.009, True)"
   ]
  },
  {
   "cell_type": "code",
   "execution_count": 47,
   "metadata": {},
   "outputs": [],
   "source": [
    "#nn.save('best_50_class_nn.h5')"
   ]
  },
  {
   "cell_type": "code",
   "execution_count": 34,
   "metadata": {},
   "outputs": [],
   "source": [
    "nn.load_weights('best_50_class_nn.h5')"
   ]
  },
  {
   "cell_type": "code",
   "execution_count": null,
   "metadata": {},
   "outputs": [],
   "source": []
  },
  {
   "cell_type": "code",
   "execution_count": 37,
   "metadata": {},
   "outputs": [],
   "source": [
    "from sklearn.metrics import roc_curve\n",
    "from sklearn.metrics import auc\n",
    "cond_fpr, cond_tpr, cond_threshs = roc_curve(valL, val_res)\n",
    "lcr_fpr, lcr_tpr, lcr_threshs = roc_curve(valL, LCR_val)\n",
    "both_fpr, both_tpr, both_threshs = roc_curve(valL, nn_val_res)"
   ]
  },
  {
   "cell_type": "code",
   "execution_count": 38,
   "metadata": {},
   "outputs": [],
   "source": [
    "both_x, both_y = both_fpr[both_ind-3], both_tpr[both_ind-3]\n",
    "lcr_x, lcr_y = lcr_fpr[lcr_ind-6], lcr_tpr[lcr_ind-6]\n",
    "cond_x, cond_y = cond_fpr[cond_ind-3], cond_tpr[cond_ind-3]"
   ]
  },
  {
   "cell_type": "code",
   "execution_count": 39,
   "metadata": {
    "collapsed": true
   },
   "outputs": [
    {
     "data": {
      "image/png": "[encoded data removed]",
      "text/plain": [
       "<Figure size 432x288 with 1 Axes>"
      ]
     },
     "metadata": {
      "needs_background": "light"
     },
     "output_type": "display_data"
    }
   ],
   "source": [
    "plt.figure()\n",
    "lw = 2\n",
    "plt.plot(lcr_fpr, lcr_tpr, ':', color = 'green',\n",
    "         lw=lw, label='LCR (AUROC = %0.3f)' % lcr_auroc)\n",
    "plt.plot(lcr_x, lcr_y,marker='o',  markersize=10, color= 'green')\n",
    "plt.plot(cond_fpr, cond_tpr, '--', color = 'red',\n",
    "         lw=lw, label='cond (AUROC = %0.3f)' % cond_auroc)\n",
    "plt.plot(cond_x, cond_y, marker='o',  markersize=10, color= 'red')\n",
    "plt.plot(both_fpr, both_tpr, color = 'blue',\n",
    "         lw=lw, label='both (AUROC = %0.3f)' % both_auroc)\n",
    "plt.plot(both_x, both_y, marker='o',  markersize=10, color= 'blue')\n",
    "plt.plot([0, 1], [0, 1], color='navy', lw=lw, linestyle='--')\n",
    "plt.xlim([0.0, 1.0])\n",
    "plt.ylim([0.0, 1.05])\n",
    "plt.xlabel('1 - recall of class 0')\n",
    "plt.ylabel('recall of class 1')\n",
    "plt.title('50-classes ImageNet validation set ROC')\n",
    "plt.legend(loc=\"lower right\")\n",
    "plt.savefig('50Imagenet_roc.pdf', bbox_inches = 'tight')"
   ]
  },
  {
   "cell_type": "code",
   "execution_count": null,
   "metadata": {},
   "outputs": [],
   "source": []
  },
  {
   "cell_type": "code",
   "execution_count": null,
   "metadata": {},
   "outputs": [],
   "source": [
    "def plot_version(LCR):\n",
    "    LCR_plot = []\n",
    "    rnds_pos = np.arange(0,0.05,0.0001)\n",
    "    rnds = np.concatenate((rnds_pos,-1*rnds_pos))\n",
    "    for i in range(len(LCR)):\n",
    "        if LCR[i] < 0.05:\n",
    "            pert = np.random.choice(rnds_pos)\n",
    "            LCR_plot.append(LCR[i]+pert)\n",
    "        else:\n",
    "            pert = np.random.choice(rnds)\n",
    "            LCR_plot.append(LCR[i]+pert)\n",
    "    return LCR_plot"
   ]
  },
  {
   "cell_type": "code",
   "execution_count": null,
   "metadata": {},
   "outputs": [],
   "source": [
    "fig, ax = plt.subplots(figsize = (30,30))\n",
    "#ax.set(xscale = 'log', yscale = 'log')\n",
    "ax.set_xlabel('LCR')\n",
    "ax.set_ylabel('conductance')\n",
    "#sns.scatterplot(LCR[L], train_res.squeeze(1), hue = valL, ax = ax)\n",
    "g = sns.scatterplot(plot_version(LCR_val), val_res.squeeze(1), hue = valL, ax = ax)"
   ]
  },
  {
   "cell_type": "code",
   "execution_count": null,
   "metadata": {},
   "outputs": [],
   "source": []
  },
  {
   "cell_type": "code",
   "execution_count": null,
   "metadata": {},
   "outputs": [],
   "source": []
  },
  {
   "cell_type": "code",
   "execution_count": 151,
   "metadata": {
    "collapsed": true
   },
   "outputs": [
    {
     "data": {
      "text/plain": [
       "RandomForestClassifier(bootstrap=True, class_weight=None, criterion='gini',\n",
       "            max_depth=10, max_features='auto', max_leaf_nodes=None,\n",
       "            min_impurity_decrease=0.0, min_impurity_split=None,\n",
       "            min_samples_leaf=1, min_samples_split=2,\n",
       "            min_weight_fraction_leaf=0.0, n_estimators=100, n_jobs=None,\n",
       "            oob_score=False, random_state=0, verbose=0, warm_start=False)"
      ]
     },
     "execution_count": 151,
     "metadata": {},
     "output_type": "execute_result"
    }
   ],
   "source": [
    "#random forrest\n",
    "from sklearn.ensemble import RandomForestClassifier\n",
    "clf_RF = RandomForestClassifier(n_estimators = 100, max_depth=10 ,random_state=0)\n",
    "clf_RF.fit(data, trainL)"
   ]
  },
  {
   "cell_type": "code",
   "execution_count": 257,
   "metadata": {},
   "outputs": [
    {
     "data": {
      "image/png": "[encoded data removed]",
      "text/plain": [
       "<Figure size 432x288 with 1 Axes>"
      ]
     },
     "metadata": {
      "needs_background": "light"
     },
     "output_type": "display_data"
    },
    {
     "name": "stdout",
     "output_type": "stream",
     "text": [
      "0.00544 0.9478840499258399\n",
      "accuracy 0.8604 mean recall 0.8662558222237642 right recall 0.8601712189156135 wrong recall 0.8723404255319149\n"
     ]
    }
   ],
   "source": [
    "rf_val_res = clf_RF.predict_proba(data_val)[:,1]\n",
    "threshs,ind, auroc = find_opti_thresh(valL, rf_val_res, plot = True)\n",
    "thresh = threshs[ind-18]\n",
    "thresh = 0.00544\n",
    "print(thresh, auroc)\n",
    "_ = report_acc(rf_val_res, valL, thresh, True)"
   ]
  },
  {
   "cell_type": "code",
   "execution_count": 258,
   "metadata": {},
   "outputs": [
    {
     "name": "stdout",
     "output_type": "stream",
     "text": [
      "accuracy 0.8192 mean recall 0.8763748079877112 right recall 0.8098924731182796 wrong recall 0.9428571428571428\n"
     ]
    }
   ],
   "source": [
    "rf_test_res = clf_RF.predict_proba(data_test)[:,1]\n",
    "_ = report_acc(rf_test_res, testL, thresh, True)"
   ]
  },
  {
   "cell_type": "code",
   "execution_count": null,
   "metadata": {},
   "outputs": [],
   "source": []
  },
  {
   "cell_type": "code",
   "execution_count": 260,
   "metadata": {},
   "outputs": [
    {
     "data": {
      "text/plain": [
       "QuadraticDiscriminantAnalysis(priors=None, reg_param=0.0,\n",
       "               store_covariance=False, store_covariances=None, tol=0.0001)"
      ]
     },
     "execution_count": 260,
     "metadata": {},
     "output_type": "execute_result"
    }
   ],
   "source": [
    "#LDA & QDA\n",
    "from sklearn.discriminant_analysis import LinearDiscriminantAnalysis as LDA\n",
    "from sklearn.discriminant_analysis import QuadraticDiscriminantAnalysis as QDA\n",
    "clf_LDA = LDA()\n",
    "clf_QDA = QDA()\n",
    "clf_LDA.fit(data, trainL)\n",
    "clf_QDA.fit(data, trainL)"
   ]
  },
  {
   "cell_type": "code",
   "execution_count": 268,
   "metadata": {},
   "outputs": [
    {
     "data": {
      "image/png": "[encoded data removed]",
      "text/plain": [
       "<Figure size 432x288 with 1 Axes>"
      ]
     },
     "metadata": {
      "needs_background": "light"
     },
     "output_type": "display_data"
    },
    {
     "name": "stdout",
     "output_type": "stream",
     "text": [
      "3.81e-07 0.953786505451423\n",
      "accuracy 0.8772 mean recall 0.874816768004441 right recall 0.877293110476967 wrong recall 0.8723404255319149\n"
     ]
    }
   ],
   "source": [
    "LDA_val_res = clf_LDA.predict_proba(data_val)[:,1]\n",
    "threshs, ind, auroc = find_opti_thresh(valL, LDA_val_res, plot = True)\n",
    "thresh = threshs[ind-6]\n",
    "thresh = 3.81e-7\n",
    "print(thresh, auroc)\n",
    "_ = report_acc(LDA_val_res, valL, thresh, True)"
   ]
  },
  {
   "cell_type": "code",
   "execution_count": 269,
   "metadata": {},
   "outputs": [
    {
     "name": "stdout",
     "output_type": "stream",
     "text": [
      "accuracy 0.8404 mean recall 0.8904147465437788 right recall 0.832258064516129 wrong recall 0.9485714285714286\n"
     ]
    }
   ],
   "source": [
    "LDA_test_res = clf_LDA.predict_proba(data_test)[:,1]\n",
    "_ = report_acc(LDA_test_res, testL, thresh, True)"
   ]
  },
  {
   "cell_type": "code",
   "execution_count": 308,
   "metadata": {},
   "outputs": [
    {
     "data": {
      "image/png": "[encoded data removed]",
      "text/plain": [
       "<Figure size 432x288 with 1 Axes>"
      ]
     },
     "metadata": {
      "needs_background": "light"
     },
     "output_type": "display_data"
    },
    {
     "name": "stdout",
     "output_type": "stream",
     "text": [
      "0.0049 <function auc at 0x000002E67E1F28C8>\n",
      "accuracy 0.8932 mean recall 0.8934045155302669 right recall 0.8931920097839381 wrong recall 0.8936170212765957\n"
     ]
    }
   ],
   "source": [
    "QDA_val_res = clf_QDA.predict_proba(data_val)[:,1]\n",
    "threshs, ind, auroc = find_opti_thresh(valL, QDA_val_res, plot = True)\n",
    "thresh = threshs[ind-9]\n",
    "thresh = 4.9e-3\n",
    "print(thresh, auc)\n",
    "_ = report_acc(QDA_val_res, valL, thresh, True)"
   ]
  },
  {
   "cell_type": "code",
   "execution_count": 309,
   "metadata": {},
   "outputs": [
    {
     "name": "stdout",
     "output_type": "stream",
     "text": [
      "accuracy 0.8584 mean recall 0.8948079877112135 right recall 0.8524731182795698 wrong recall 0.9371428571428572\n"
     ]
    }
   ],
   "source": [
    "QDA_test_res = clf_QDA.predict_proba(data_test)[:,1]\n",
    "_ = report_acc(QDA_test_res, testL, thresh, True)"
   ]
  }
 ],
 "metadata": {
  "kernelspec": {
   "display_name": "Python 3",
   "language": "python",
   "name": "python3"
  },
  "language_info": {
   "codemirror_mode": {
    "name": "ipython",
    "version": 3
   },
   "file_extension": ".py",
   "mimetype": "text/x-python",
   "name": "python",
   "nbconvert_exporter": "python",
   "pygments_lexer": "ipython3",
   "version": "3.6.7"
  }
 },
 "nbformat": 4,
 "nbformat_minor": 2
}
