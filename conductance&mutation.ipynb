{
  "nbformat": 4,
  "nbformat_minor": 0,
  "metadata": {
    "colab": {
      "name": "conductance&mutation.ipynb",
      "provenance": [],
      "collapsed_sections": [
        "czA3BbghpHNs",
        "CNvfXZTwpOwV",
        "7DkN89C9pjQs",
        "3qJTp476wAnA",
        "Vl58KBdVwHoq",
        "Er2RS676xBnB",
        "YL34rzmoxaZm"
      ],
      "authorship_tag": "ABX9TyPu8GyZmqNHbTI0BBeyFXAA",
      "include_colab_link": true
    },
    "kernelspec": {
      "name": "python3",
      "display_name": "Python 3"
    },
    "accelerator": "GPU"
  },
  "cells": [
    {
      "cell_type": "markdown",
      "metadata": {
        "id": "view-in-github",
        "colab_type": "text"
      },
      "source": [
        "<a href=\"https://colab.research.google.com/github/feiwu77777/Leveraging-Model-Interpretability-and-Stability-to-increase-Model-Robustness/blob/master/conductance%26mutation.ipynb\" target=\"_parent\"><img src=\"https://colab.research.google.com/assets/colab-badge.svg\" alt=\"Open In Colab\"/></a>"
      ]
    },
    {
      "cell_type": "markdown",
      "metadata": {
        "id": "MtPslPDJy9QG",
        "colab_type": "text"
      },
      "source": [
        "**Summary**\n",
        "\n",
        "- 0. Environment setup\n",
        "  - 0.1 Import\n",
        "  - 0.2 Util functions\n",
        "  - 0.3 Downloads\n",
        "- 1. Load model and dataset\n",
        "- 2. Calculate conductance and LCR\n",
        "  - 2.1 Conductance\n",
        "  - 2.2 LCR\n",
        "- 3. Training the error predictor\n",
        "  - 3.1 Preprocess conductance\n",
        "  - 3.2 Training with conductance\n",
        "  - 3.3 Training with LCR\n",
        "  - 3.4 Training with conductance & LCR\n",
        "  - 3.5 Overview of the 3 training setups\n",
        "- 4. Other architectures for the error predictor\n",
        "  - 4.1 Random forest\n",
        "  - 4.2 LDA & QDA "
      ]
    },
    {
      "cell_type": "markdown",
      "metadata": {
        "id": "czA3BbghpHNs",
        "colab_type": "text"
      },
      "source": [
        "## 0. Environment setup"
      ]
    },
    {
      "cell_type": "markdown",
      "metadata": {
        "id": "bivFbpCYxEpo",
        "colab_type": "text"
      },
      "source": [
        "### 0.1 Import"
      ]
    },
    {
      "cell_type": "code",
      "metadata": {
        "id": "8CiEdd0yjG1k",
        "colab_type": "code",
        "outputId": "340a6b83-f1e4-4cc8-96bd-17e907fb749a",
        "colab": {
          "base_uri": "https://localhost:8080/",
          "height": 81
        }
      },
      "source": [
        "import keras\n",
        "import tensorflow as tf\n",
        "from keras.layers import Dense, Dropout\n",
        "from keras import backend as K\n",
        "from keras.models import Model, Sequential\n",
        "from keras.datasets import cifar10\n",
        "import numpy as np\n",
        "import os\n",
        "import keras.backend as K\n",
        "import matplotlib.pyplot as plt\n",
        "from sklearn.metrics import confusion_matrix\n",
        "import seaborn as sns\n",
        "import pickle\n",
        "from keras.preprocessing import image"
      ],
      "execution_count": 0,
      "outputs": [
        {
          "output_type": "stream",
          "text": [
            "Using TensorFlow backend.\n"
          ],
          "name": "stderr"
        },
        {
          "output_type": "display_data",
          "data": {
            "text/html": [
              "<p style=\"color: red;\">\n",
              "The default version of TensorFlow in Colab will soon switch to TensorFlow 2.x.<br>\n",
              "We recommend you <a href=\"https://www.tensorflow.org/guide/migrate\" target=\"_blank\">upgrade</a> now \n",
              "or ensure your notebook will continue to use TensorFlow 1.x via the <code>%tensorflow_version 1.x</code> magic:\n",
              "<a href=\"https://colab.research.google.com/notebooks/tensorflow_version.ipynb\" target=\"_blank\">more info</a>.</p>\n"
            ],
            "text/plain": [
              "<IPython.core.display.HTML object>"
            ]
          },
          "metadata": {
            "tags": []
          }
        }
      ]
    },
    {
      "cell_type": "code",
      "metadata": {
        "id": "cN9Rt8EvjPy1",
        "colab_type": "code",
        "colab": {}
      },
      "source": [
        "from keras.layers import Dense, Conv2D, BatchNormalization, Activation, Dropout, BatchNormalization\n",
        "from keras.layers import AveragePooling2D, Input, Flatten\n",
        "from keras.regularizers import l2\n",
        "import keras\n",
        "from keras.models import Model, Sequential\n",
        "from keras import backend as K\n",
        "import numpy as np\n",
        "from sklearn.metrics import roc_curve, auc\n",
        "import tensorflow as tf\n",
        "import matplotlib.pyplot as plt\n",
        "from tqdm import tqdm"
      ],
      "execution_count": 0,
      "outputs": []
    },
    {
      "cell_type": "markdown",
      "metadata": {
        "id": "CNvfXZTwpOwV",
        "colab_type": "text"
      },
      "source": [
        "### 0.2 Util functions"
      ]
    },
    {
      "cell_type": "code",
      "metadata": {
        "id": "KC9fbcycpSCD",
        "colab_type": "code",
        "colab": {}
      },
      "source": [
        "def resnet_layer(inputs, num_filters: int = 16, kernel_size: int = 3, strides: int = 1, \n",
        "                 activation: str = 'relu', batch_normalization: bool = True, conv_first: bool = True):\n",
        "    \"\"\"\n",
        "    Function: helper to the function resnet_v1\n",
        "    Inputs: layer characteristics\n",
        "    Outputs: a resnet layer\n",
        "    \"\"\"\n",
        "    conv = Conv2D(num_filters, kernel_size=kernel_size, strides=strides, padding='same', \n",
        "                  kernel_initializer='he_normal', kernel_regularizer=l2(1e-4))\n",
        "\n",
        "    x = inputs\n",
        "    if conv_first:\n",
        "        x = conv(x)\n",
        "        if batch_normalization:\n",
        "            x = BatchNormalization()(x)\n",
        "        if activation is not None:\n",
        "            x = Activation(activation)(x)\n",
        "    else:\n",
        "        if batch_normalization:\n",
        "            x = BatchNormalization()(x)\n",
        "        if activation is not None:\n",
        "            x = Activation(activation)(x)\n",
        "        x = conv(x)\n",
        "    return x\n",
        "\n",
        "\n",
        "def resnet_v1(input_shape: tuple, depth: int, num_classes: int = 10):\n",
        "    \"\"\"\n",
        "    Function: construct a resnet with specified parameters \n",
        "    Inputs: characteristics of the neural network\n",
        "    Output: the specified neural network\n",
        "    \"\"\"\n",
        "\n",
        "    if (depth - 2) % 6 != 0:\n",
        "        raise ValueError('depth should be 6n+2 (eg 20, 32, 44 in [a])')\n",
        "    # Start model definition.\n",
        "    num_filters = 16\n",
        "    num_res_blocks = int((depth - 2) / 6)\n",
        "\n",
        "    inputs = Input(shape=input_shape)\n",
        "    x = resnet_layer(inputs=inputs)\n",
        "    # Instantiate the stack of residual units\n",
        "    for stack in range(3):\n",
        "        for res_block in range(num_res_blocks):\n",
        "            strides = 1\n",
        "            if stack > 0 and res_block == 0:  # first layer but not first stack\n",
        "                strides = 2  # downsample\n",
        "            y = resnet_layer(inputs=x, num_filters=num_filters, strides=strides)\n",
        "            y = resnet_layer(inputs=y, num_filters=num_filters, activation=None)\n",
        "            if stack > 0 and res_block == 0:  # first layer but not first stack\n",
        "                # linear projection residual shortcut connection to match\n",
        "                # changed dims\n",
        "                x = resnet_layer(inputs=x, num_filters=num_filters, kernel_size=1,\n",
        "                                 strides=strides, activation=None, batch_normalization=False)\n",
        "            x = keras.layers.add([x, y])\n",
        "            x = Activation('relu')(x)\n",
        "        num_filters *= 2\n",
        "\n",
        "    # Add classifier on top.\n",
        "    # v1 does not use BN after last shortcut connection-ReLU\n",
        "    x = AveragePooling2D(pool_size=8)(x)\n",
        "    y = Flatten()(x)\n",
        "    outputs = Dense(num_classes, activation='softmax', kernel_initializer='he_normal')(y)\n",
        "\n",
        "    # Instantiate model.\n",
        "    model = Model(inputs=inputs, outputs=outputs)\n",
        "    return model\n",
        "\n",
        "\n",
        "\n",
        "def initialization(model, num_class: int,  inter_layers: list, output_activ: bool):\n",
        "    \"\"\"\n",
        "    function: initialize graph variable to calculate gradients and activations\n",
        "    inputs: a model\n",
        "    outputs: initialized graph for activations inside the model\n",
        "    \"\"\"\n",
        "    sess = K.get_session()\n",
        "    input_tensor = model.layers[0].input\n",
        "    inter_tensors = [layer.output for layer in inter_layers]\n",
        "    if output_activ == True:\n",
        "        out = model.layers[-2].output\n",
        "        weights, bias = model.layers[-1].weights\n",
        "        output_tensor = tf.add(tf.matmul(out,weights),bias)\n",
        "    else:\n",
        "        output_tensor = model.layers[-2].output\n",
        "    gradients = [tf.gradients(output_tensor[:,i],inter_tensors) for i in range(num_class)]\n",
        "    gradients.append(inter_tensors)\n",
        "    return input_tensor, gradients, sess\n",
        "\n",
        "def integratedGrad(array, input_tensor, gradients: list, sess, n=10):\n",
        "    \"\"\"\n",
        "    function: preparing left term values of equation (1) of the paper https://arxiv.org/pdf/1910.00387.pdf\n",
        "    inputs: image array, graph paths: input_tensor and gradients\n",
        "    outputs: value of the actual activations and gradients for the intermediate images\n",
        "    \"\"\"\n",
        "\n",
        "    reference_value = np.zeros_like(array)\n",
        "    step_size = (array - reference_value)/float(n)\n",
        "    intermediate_values = [reference_value + j*step_size for j in range(n+1)] # n+1 inputs to feed the model\n",
        "    feed_dict = {input_tensor: intermediate_values}\n",
        "    run_output = sess.run(gradients, feed_dict = feed_dict) #len = 5\n",
        "    activs = run_output[-1] # len = numLayer # activs[0].shape = (n,128,128,3)\n",
        "    grads = run_output[:-1] # len = num_class\n",
        "    return grads, activs\n",
        "\n",
        "\n",
        "\n",
        "def get_convLayer(model):\n",
        "    \"\"\" return convolutional layers of the input resnet model \"\"\"\n",
        "\n",
        "    convLayers = []\n",
        "    for i in range(len(model.layers)):\n",
        "        if \"add\" in model.layers[i].name:\n",
        "            convLayers.append(model.layers[i+1])\n",
        "    return convLayers\n",
        "\n",
        "\n",
        "def getBlocks(convLayers: list):\n",
        "    \"\"\" group layers in convLayers into layer of same channel number \"\"\"\n",
        "\n",
        "    convBlocks = []\n",
        "    debut = 0\n",
        "    current = convLayers[0].output.shape[-1]\n",
        "    for i in range(1, len(convLayers)):\n",
        "        fm_nb = convLayers[i].output.shape[-1]\n",
        "        if current != fm_nb:\n",
        "            end = i\n",
        "            convBlocks.append(convLayers[debut:end])\n",
        "            debut = end\n",
        "            current = fm_nb\n",
        "    end = len(convLayers)\n",
        "    convBlocks.append(convLayers[debut:end])\n",
        "    return convBlocks\n",
        "\n",
        "def calculate_cond(model, x_train: list, train_pred: list, index: int, num_class: int = 10):\n",
        "    \"\"\"\n",
        "    Function: calculate conductance of predictions made a model\n",
        "    Inputs: the model and predictions it made\n",
        "    Outputs: conductance values for each prediction\n",
        "    \"\"\"\n",
        "\n",
        "    #get all conv layer in the network\n",
        "    #for resnet, only the output of resBlocks are considered (skip connection + normal connection)\n",
        "    convLayers = get_convLayer(model)\n",
        "                \n",
        "    #group conv layers by number of channel\n",
        "    convBlocks = getBlocks(convLayers)\n",
        "    \n",
        "    allBlockCond = []\n",
        "    for block in convBlocks:\n",
        "        #input_tensor is the input tensor given to the model\n",
        "        #outputs are gradients and activations associated to the output of block \n",
        "        input_tensor, gradients, sess = initialization(model, num_class, block, True)\n",
        "        originIndex = {}\n",
        "        conductances = {}\n",
        "\n",
        "        #iterating over all wrong/correct prediction to calculate their conductance\n",
        "        for i in tqdm(range(len(index))):\n",
        "            array = x_train[index[i]]\n",
        "            pred = train_pred[index[i]]\n",
        "            #print(i, end = \"\\r\")\n",
        "\n",
        "            #calculate the gradient of the predicted index wrt to the activation output of block\n",
        "            grads, activs = integratedGrad(array, input_tensor, [gradients[pred], gradients[-1]], sess)\n",
        "            grads = np.array(grads)\n",
        "            activs = np.array(activs)\n",
        "\n",
        "            #calculate the conductance for neurons/outputs of block\n",
        "            delta_activs = activs[:,1:,:,:,:] - activs[:,:-1,:,:,:]\n",
        "            cond = np.sum(grads[:,:,1:,:,:,:]*delta_activs, axis = 2)\n",
        "            cond = np.mean(cond, axis = (0,2,3)) #averaging over axis 0 for purpose of squeezing\n",
        "\n",
        "            #store conductance grouped by the class in which the image is predicted\n",
        "            #originIndex store the original index of the image so its true label can be found\n",
        "            if pred not in conductances.keys():\n",
        "                originIndex[pred] = []\n",
        "                conductances[pred] = []\n",
        "                originIndex[pred].append(index[i])\n",
        "                conductances[pred].append(cond)\n",
        "            else:\n",
        "                originIndex[pred].append(index[i])\n",
        "                conductances[pred].append(cond)\n",
        "                \n",
        "        allBlockCond.append(conductances)\n",
        "\n",
        "    #reformatting the conductances of all layers\n",
        "    conductances = allBlockCond[0]\n",
        "    for c in range(num_class):\n",
        "        for i in range(len(conductances[c])):\n",
        "            conductances[c][i] = list(conductances[c][i])\n",
        "            for b in range(1, len(convBlocks)):\n",
        "                conductances[c][i].extend(list(allBlockCond[b][c][i]))\n",
        "\n",
        "    return conductances, originIndex \n",
        "  \n",
        "\n",
        "def calculate_LCR(model, x_train: list, index: int, model_mutants: list, num_class: int = 10):\n",
        "    \"\"\"\n",
        "    Function: calculate the label change rate of a model using its mutants\n",
        "    Inputs: a model, its mutants and a training set to evaluate prediction stability\n",
        "    Outputs: LCR corresponding to each prediction\n",
        "    \"\"\" \n",
        "    \n",
        "    #create a list that map the LCR to the conductance of the good training sample\n",
        "    L = []\n",
        "    for c in range(num_class):\n",
        "        L.append(index[c])\n",
        "    L = np.concatenate(L, axis = 0)\n",
        "    \n",
        "    #reload the orignal model each time else model would be the last mutant\n",
        "    model.load_weights('cifar10resnet_weights.h5')\n",
        "    pred = np.argmax(model.predict(x_train[L]), axis = 1)\n",
        "    LCR = np.zeros(len(pred))\n",
        "    \n",
        "    #iterate over mutant to use them to predict x\n",
        "    for n in range(len(model_mutants)):\n",
        "        print(\"---- n=\"+str(n)+\" ----\", end = \"\\r\")\n",
        "        model.set_weights(model_mutants[n])\n",
        "        mutate_pred = np.argmax(model.predict(x_train[L]), axis = 1)\n",
        "        difference = mutate_pred != pred\n",
        "        LCR[difference] += 1\n",
        "    \n",
        "    LCR = LCR/len(model_mutants)\n",
        "    return LCR\n",
        "\n",
        "\n",
        "def report(testD_res: list, testL: list, thresh: int, Print: bool):\n",
        "    \"\"\" \n",
        "    Function: print several performance metrics related to input predictions and labels\n",
        "    Inputs: prediction, labels and a decision threshold\n",
        "    Outputs: accuracy and recall scores\n",
        "    \"\"\"\n",
        "\n",
        "    acc = 0\n",
        "    recallR = 0\n",
        "    recallW = 0\n",
        "    nbR = 0\n",
        "    nbW = 0\n",
        "    for i in range(len(testL)):\n",
        "        if testL[i] == 0:\n",
        "            nbW += 1\n",
        "            if testD_res[i] < thresh:\n",
        "                recallW += 1\n",
        "                acc += 1\n",
        "        if testL[i] == 1:\n",
        "            nbR += 1\n",
        "            if testD_res[i] > thresh:\n",
        "                recallR += 1\n",
        "                acc += 1\n",
        "    acc = acc/len(testD_res)\n",
        "    recallR, recallW = recallR/nbR, recallW/nbW\n",
        "    recallM = (recallR + recallW)/2\n",
        "    if Print == True:\n",
        "        print(\"right recall\", recallR) \n",
        "        print(\"wrong recall\", recallW)  \n",
        "        print(\"mean recall\", recallM)\n",
        "        print(\"accuracy\", acc) \n",
        "  \n",
        "    \n",
        "def help_process_cond(cond_wrongs: dict, layer: int):\n",
        "    \"\"\"\n",
        "    function: helper to the function process_cond, extract conductance of a specified layer.\n",
        "    inputs: conductances and the layer.\n",
        "    outputs: conductances of that layer.\n",
        "    \"\"\"\n",
        "    finalWrongs = {}\n",
        "    for c in sorted(cond_wrongs.keys()):\n",
        "        cWrongs = []\n",
        "        for i in range(len(cond_wrongs[c])):\n",
        "            cWrongs.append(cond_wrongs[c][i][layer].reshape((1,-1)))\n",
        "        cWrongs = np.concatenate(cWrongs)\n",
        "        finalWrongs[c] = cWrongs\n",
        "    return finalWrongs\n",
        "\n",
        "def process_cond(layers: list, cond_wrongs: dict, concat: int = 0):\n",
        "    \"\"\"\n",
        "    function: extract conductance of specific layers and organize them into tabular data\n",
        "              where first columns are conductance of the last layers and last columns are conductance\n",
        "              of the first layers.\n",
        "    inputs: a list of layers with the first element being the last layer in the model.\n",
        "    outpus: tabular data version of conductances.\n",
        "    \"\"\"\n",
        "    finalWrongs = help_process_cond(cond_wrongs, layers[0])\n",
        "    finalWrongs = list(finalWrongs.values())\n",
        "    finalWrongs = np.concatenate(finalWrongs)\n",
        "\n",
        "    # include other layers' conductance when concat > 0\n",
        "    if concat > 0:\n",
        "        for i in range(concat):\n",
        "            concatWrongs = help_process_cond(cond_wrongs, layers[i+1])\n",
        "            concatWrongs = list(concatWrongs.values())\n",
        "            concatWrongs = np.concatenate(concatWrongs)\n",
        "            finalWrongs = np.concatenate((finalWrongs, concatWrongs), axis = 1)\n",
        "    return finalWrongs\n",
        "            \n",
        "\n",
        "def error_detector(input_shape: tuple, loss_function: str = 'binary_crossentropy', lr: float = 0.001):\n",
        "    \"\"\" create a binary classifier neural network with specified parameters \"\"\"\n",
        "\n",
        "    net = Sequential()    \n",
        "    net.add(Dense(200, input_shape = (input_shape,), activation = 'relu'))\n",
        "    net.add(Dropout(0.5))\n",
        "    net.add(Dense(200, activation = 'relu'))\n",
        "    net.add(Dropout(0.5))\n",
        "    net.add(Dense(1, activation = 'sigmoid'))\n",
        "    opt = keras.optimizers.Adam(lr=lr)\n",
        "    net.compile(loss=loss_function,optimizer=opt,metrics=None)\n",
        "    return net\n",
        "\n",
        "\n",
        "def find_opti_thresh(testL: list, pred: list, plot: bool = True):\n",
        "    \"\"\"\n",
        "    function: using roc curve created from label and prediction, find the threshold that\n",
        "              minimize the difference of recall score for both classes\n",
        "    inputs: label testL, predictions pred\n",
        "    outputs: an optimal threhsold \n",
        "    \"\"\"\n",
        "    fpr, tpr, thresholds = roc_curve(testL, pred)\n",
        "    roc_auc = auc(fpr,tpr)\n",
        "    maxi = 0\n",
        "    max_ind = 0\n",
        "    for i in range(len(fpr)):\n",
        "        s = 1 - fpr[i] + tpr[i]\n",
        "        if s > maxi:\n",
        "            maxi = s\n",
        "            max_ind = i\n",
        "    if plot == True:\n",
        "        plt.figure()\n",
        "        lw = 2\n",
        "        plt.plot(fpr, tpr, color='darkorange',\n",
        "                 lw=lw, label='ROC curve (area = %0.3f)' % roc_auc)\n",
        "        plt.plot([0, 1], [0, 1], color='navy', lw=lw, linestyle='--')\n",
        "        plt.xlim([0.0, 1.0])\n",
        "        plt.ylim([0.0, 1.05])\n",
        "        plt.xlabel('False Positive Rate')\n",
        "        plt.ylabel('True Positive Rate')\n",
        "        plt.title('Receiver operating characteristic example')\n",
        "        plt.legend(loc=\"lower right\")\n",
        "        plt.show()\n",
        "    return thresholds, max_ind, roc_auc\n",
        "    \n",
        "\n",
        "\n",
        "from sklearn.metrics import roc_auc_score\n",
        "from keras.callbacks import Callback\n",
        "\n",
        "class roc_callback(Callback):\n",
        "    def __init__(self,training_data,validation_data):\n",
        "        self.x = training_data[0]\n",
        "        self.y = training_data[1]\n",
        "        self.x_val = validation_data[0]\n",
        "        self.y_val = validation_data[1]\n",
        "\n",
        "    def on_train_begin(self, logs={}):\n",
        "        return\n",
        "\n",
        "    def on_train_end(self, logs={}):\n",
        "        return \n",
        "\n",
        "    def on_epoch_begin(self, epoch, logs={}):\n",
        "        return\n",
        "\n",
        "    def on_epoch_end(self, epoch, logs={}):\n",
        "        y_pred = self.model.predict(self.x)\n",
        "        roc = roc_auc_score(self.y, y_pred)\n",
        "        y_pred_val = self.model.predict(self.x_val)\n",
        "        roc_val = roc_auc_score(self.y_val, y_pred_val)\n",
        "        print('\\rroc-auc: %s - roc-auc_val: %s' % (str(round(roc,5)),str(round(roc_val,5))),end=100*' '+'\\n')\n",
        "        return roc_val\n",
        "\n",
        "    def on_batch_begin(self, batch, logs={}):\n",
        "        return\n",
        "\n",
        "    def on_batch_end(self, batch, logs={}):\n",
        "        return"
      ],
      "execution_count": 0,
      "outputs": []
    },
    {
      "cell_type": "code",
      "metadata": {
        "id": "wEZjrBWF6rzu",
        "colab_type": "code",
        "colab": {}
      },
      "source": [
        ""
      ],
      "execution_count": 0,
      "outputs": []
    },
    {
      "cell_type": "markdown",
      "metadata": {
        "id": "7DkN89C9pjQs",
        "colab_type": "text"
      },
      "source": [
        "### 0.3 Download model weights, conductance, LCR and others"
      ]
    },
    {
      "cell_type": "code",
      "metadata": {
        "id": "dGzZNBivpsI6",
        "colab_type": "code",
        "outputId": "e3e8f0e8-98d1-45cf-f885-c504bd7aa527",
        "colab": {
          "base_uri": "https://localhost:8080/",
          "height": 1000
        }
      },
      "source": [
        "!wget https://www.dropbox.com/s/4mq461b0prim5d7/cifar10resnet_weights.h5\n",
        "!wget https://www.dropbox.com/s/axtkrkrwmgpkbqz/cond_rights.p\n",
        "!wget https://www.dropbox.com/s/z3xxp9g81qez4n4/cond_wrongs.p\n",
        "!wget https://www.dropbox.com/s/ie5218cmg7qzmg2/cond_test.p\n",
        "!wget https://www.dropbox.com/s/vv2bm3wx8ff6ytf/originIndex_test.p\n",
        "!wget https://www.dropbox.com/s/0aso70ux7ko1avn/LCR_test_NAI_0.01.p\n",
        "!wget https://www.dropbox.com/s/wruvau4v27prc9u/LCRW_NAI_0.01.p\n",
        "!wget https://www.dropbox.com/s/3dndcwj8yhq46f3/LCRR_NAI_0.01.p\n",
        "!wget https://www.dropbox.com/s/aepk3tzi8r82hgz/cond_error_detector.h5\n",
        "!wget https://www.dropbox.com/s/62rl3zdp6gvpnhr/cond%26LCR_error_detector.h5\n",
        "!wget https://www.dropbox.com/s/akb51d58e22sdin/rnd_split.p"
      ],
      "execution_count": 0,
      "outputs": [
        {
          "output_type": "stream",
          "text": [
            "--2020-01-20 09:35:16--  https://www.dropbox.com/s/4mq461b0prim5d7/cifar10resnet_weights.h5\n",
            "Resolving www.dropbox.com (www.dropbox.com)... 162.125.3.1, 2620:100:601b:1::a27d:801\n",
            "Connecting to www.dropbox.com (www.dropbox.com)|162.125.3.1|:443... connected.\n",
            "HTTP request sent, awaiting response... 301 Moved Permanently\n",
            "Location: /s/raw/4mq461b0prim5d7/cifar10resnet_weights.h5 [following]\n",
            "--2020-01-20 09:35:21--  https://www.dropbox.com/s/raw/4mq461b0prim5d7/cifar10resnet_weights.h5\n",
            "Reusing existing connection to www.dropbox.com:443.\n",
            "HTTP request sent, awaiting response... 302 Found\n",
            "Location: https://ucf95e7075e784181ec8cd50c2f9.dl.dropboxusercontent.com/cd/0/inline/AwhTtrBwFN2cGLRV_DftRfcCs43-kJgipgDvkB6a86ud-e1hFxLaXk_4yH1TEo19thDeYGdST27FGzS1gIbZgJelrCy7M7v0PwUrFj-vQ5ErGdWbW7rXJAUFGbKdJvWG72I/file# [following]\n",
            "--2020-01-20 09:35:21--  https://ucf95e7075e784181ec8cd50c2f9.dl.dropboxusercontent.com/cd/0/inline/AwhTtrBwFN2cGLRV_DftRfcCs43-kJgipgDvkB6a86ud-e1hFxLaXk_4yH1TEo19thDeYGdST27FGzS1gIbZgJelrCy7M7v0PwUrFj-vQ5ErGdWbW7rXJAUFGbKdJvWG72I/file\n",
            "Resolving ucf95e7075e784181ec8cd50c2f9.dl.dropboxusercontent.com (ucf95e7075e784181ec8cd50c2f9.dl.dropboxusercontent.com)... 162.125.8.6, 2620:100:601b:6::a27d:806\n",
            "Connecting to ucf95e7075e784181ec8cd50c2f9.dl.dropboxusercontent.com (ucf95e7075e784181ec8cd50c2f9.dl.dropboxusercontent.com)|162.125.8.6|:443... connected.\n",
            "HTTP request sent, awaiting response... 302 FOUND\n",
            "Location: /cd/0/inline2/AwgIcPqoYcDYceGkvKwM5fUjM3BhElkwvtUPO4uCMJ0rN9sPuuolG1m2RnVIV2BfK2wwEmjLHUXUvj56KWV1tAFwtPiJXPOQLkSMh2A-kADDFDCWYz9Azagl2q4MGYcVskTqFfRfpJv1QT5vyrM6-B-nvOuDjIOLVcPf5qv-rKWIKKWyaghg0hTaAA6WPsInGBkS_ahlgIyjdalUwPT5--tf2NJFYlLxP-rUU_G7JRPrVat6qo4Gpp7YJQaDmyYWAUure-ZbhucOmYCwD4XiB8DMbFAzgTKpLWxKh4u3M4bq7OT0e6oaGnqRN--cHEgT7Y0GZnw9pclcd3OSqJ2i_ePN-S4AgyRT5uqj0h1Fq--36g/file [following]\n",
            "--2020-01-20 09:35:22--  https://ucf95e7075e784181ec8cd50c2f9.dl.dropboxusercontent.com/cd/0/inline2/AwgIcPqoYcDYceGkvKwM5fUjM3BhElkwvtUPO4uCMJ0rN9sPuuolG1m2RnVIV2BfK2wwEmjLHUXUvj56KWV1tAFwtPiJXPOQLkSMh2A-kADDFDCWYz9Azagl2q4MGYcVskTqFfRfpJv1QT5vyrM6-B-nvOuDjIOLVcPf5qv-rKWIKKWyaghg0hTaAA6WPsInGBkS_ahlgIyjdalUwPT5--tf2NJFYlLxP-rUU_G7JRPrVat6qo4Gpp7YJQaDmyYWAUure-ZbhucOmYCwD4XiB8DMbFAzgTKpLWxKh4u3M4bq7OT0e6oaGnqRN--cHEgT7Y0GZnw9pclcd3OSqJ2i_ePN-S4AgyRT5uqj0h1Fq--36g/file\n",
            "Reusing existing connection to ucf95e7075e784181ec8cd50c2f9.dl.dropboxusercontent.com:443.\n",
            "HTTP request sent, awaiting response... 200 OK\n",
            "Length: 3591376 (3.4M) [application/octet-stream]\n",
            "Saving to: ‘cifar10resnet_weights.h5’\n",
            "\n",
            "cifar10resnet_weigh 100%[===================>]   3.42M  --.-KB/s    in 0.1s    \n",
            "\n",
            "2020-01-20 09:35:23 (30.2 MB/s) - ‘cifar10resnet_weights.h5’ saved [3591376/3591376]\n",
            "\n",
            "--2020-01-20 09:35:24--  https://www.dropbox.com/s/axtkrkrwmgpkbqz/cond_rights.p\n",
            "Resolving www.dropbox.com (www.dropbox.com)... 162.125.3.1, 2620:100:601b:1::a27d:801\n",
            "Connecting to www.dropbox.com (www.dropbox.com)|162.125.3.1|:443... connected.\n",
            "HTTP request sent, awaiting response... 301 Moved Permanently\n",
            "Location: /s/raw/axtkrkrwmgpkbqz/cond_rights.p [following]\n",
            "--2020-01-20 09:35:24--  https://www.dropbox.com/s/raw/axtkrkrwmgpkbqz/cond_rights.p\n",
            "Reusing existing connection to www.dropbox.com:443.\n",
            "HTTP request sent, awaiting response... 302 Found\n",
            "Location: https://uc2f5d6111661e847fb16818fa20.dl.dropboxusercontent.com/cd/0/inline/AwgxQya-8YKmyOioUjLbfRSWG9NfY8wv2BgQz2OCUJlfJnVGIGh_NUY6LWwHhhTSvJ3W7Y8k0_SLWqVYOEs1_j-909jYVuuBiCIoXyxr2U1aum82qeWdHRH46J8TI7uaYZk/file# [following]\n",
            "--2020-01-20 09:35:24--  https://uc2f5d6111661e847fb16818fa20.dl.dropboxusercontent.com/cd/0/inline/AwgxQya-8YKmyOioUjLbfRSWG9NfY8wv2BgQz2OCUJlfJnVGIGh_NUY6LWwHhhTSvJ3W7Y8k0_SLWqVYOEs1_j-909jYVuuBiCIoXyxr2U1aum82qeWdHRH46J8TI7uaYZk/file\n",
            "Resolving uc2f5d6111661e847fb16818fa20.dl.dropboxusercontent.com (uc2f5d6111661e847fb16818fa20.dl.dropboxusercontent.com)... 162.125.8.6, 2620:100:601b:6::a27d:806\n",
            "Connecting to uc2f5d6111661e847fb16818fa20.dl.dropboxusercontent.com (uc2f5d6111661e847fb16818fa20.dl.dropboxusercontent.com)|162.125.8.6|:443... connected.\n",
            "HTTP request sent, awaiting response... 200 OK\n",
            "Length: 79612646 (76M) [text/plain]\n",
            "Saving to: ‘cond_rights.p’\n",
            "\n",
            "cond_rights.p       100%[===================>]  75.92M  45.4MB/s    in 1.7s    \n",
            "\n",
            "2020-01-20 09:35:26 (45.4 MB/s) - ‘cond_rights.p’ saved [79612646/79612646]\n",
            "\n",
            "--2020-01-20 09:35:27--  https://www.dropbox.com/s/z3xxp9g81qez4n4/cond_wrongs.p\n",
            "Resolving www.dropbox.com (www.dropbox.com)... 162.125.3.1, 2620:100:601b:1::a27d:801\n",
            "Connecting to www.dropbox.com (www.dropbox.com)|162.125.3.1|:443... connected.\n",
            "HTTP request sent, awaiting response... 301 Moved Permanently\n",
            "Location: /s/raw/z3xxp9g81qez4n4/cond_wrongs.p [following]\n",
            "--2020-01-20 09:35:28--  https://www.dropbox.com/s/raw/z3xxp9g81qez4n4/cond_wrongs.p\n",
            "Reusing existing connection to www.dropbox.com:443.\n",
            "HTTP request sent, awaiting response... 302 Found\n",
            "Location: https://ucfb8726f285edc70151e46e3a18.dl.dropboxusercontent.com/cd/0/inline/AwjI73fATKlIu-j8NtiLoWiDK2K2QpE9G5vAH5qDQzrVkGah3lTqxP4SrLjR1kNqDxzs6jHKukERLuNFs816zTukZYhtcA2XsS30wCq6ODKFVTzfEmM1Ez7B3RZC54aRSG8/file# [following]\n",
            "--2020-01-20 09:35:28--  https://ucfb8726f285edc70151e46e3a18.dl.dropboxusercontent.com/cd/0/inline/AwjI73fATKlIu-j8NtiLoWiDK2K2QpE9G5vAH5qDQzrVkGah3lTqxP4SrLjR1kNqDxzs6jHKukERLuNFs816zTukZYhtcA2XsS30wCq6ODKFVTzfEmM1Ez7B3RZC54aRSG8/file\n",
            "Resolving ucfb8726f285edc70151e46e3a18.dl.dropboxusercontent.com (ucfb8726f285edc70151e46e3a18.dl.dropboxusercontent.com)... 162.125.3.6, 2620:100:601b:6::a27d:806\n",
            "Connecting to ucfb8726f285edc70151e46e3a18.dl.dropboxusercontent.com (ucfb8726f285edc70151e46e3a18.dl.dropboxusercontent.com)|162.125.3.6|:443... connected.\n",
            "HTTP request sent, awaiting response... 200 OK\n",
            "Length: 12736402 (12M) [text/plain]\n",
            "Saving to: ‘cond_wrongs.p’\n",
            "\n",
            "cond_wrongs.p       100%[===================>]  12.15M  48.7MB/s    in 0.2s    \n",
            "\n",
            "2020-01-20 09:35:29 (48.7 MB/s) - ‘cond_wrongs.p’ saved [12736402/12736402]\n",
            "\n",
            "--2020-01-20 09:35:30--  https://www.dropbox.com/s/ie5218cmg7qzmg2/cond_test.p\n",
            "Resolving www.dropbox.com (www.dropbox.com)... 162.125.3.1, 2620:100:601b:1::a27d:801\n",
            "Connecting to www.dropbox.com (www.dropbox.com)|162.125.3.1|:443... connected.\n",
            "HTTP request sent, awaiting response... 301 Moved Permanently\n",
            "Location: /s/raw/ie5218cmg7qzmg2/cond_test.p [following]\n",
            "--2020-01-20 09:35:30--  https://www.dropbox.com/s/raw/ie5218cmg7qzmg2/cond_test.p\n",
            "Reusing existing connection to www.dropbox.com:443.\n",
            "HTTP request sent, awaiting response... 302 Found\n",
            "Location: https://uc6861d712500caaa07c1486a4a9.dl.dropboxusercontent.com/cd/0/inline/AwjymqZUR1j4a96YaQv8GHN_9_jqEmDjn2gwgaORRmXnYdBNlCDVX9b2yfWYhQYwhO4Qh6D8EdkKgM23VSogU091AvWw9C_kqb0zvqrRJoPycWCjZ1pfrnYA93CBqIxzF-s/file# [following]\n",
            "--2020-01-20 09:35:30--  https://uc6861d712500caaa07c1486a4a9.dl.dropboxusercontent.com/cd/0/inline/AwjymqZUR1j4a96YaQv8GHN_9_jqEmDjn2gwgaORRmXnYdBNlCDVX9b2yfWYhQYwhO4Qh6D8EdkKgM23VSogU091AvWw9C_kqb0zvqrRJoPycWCjZ1pfrnYA93CBqIxzF-s/file\n",
            "Resolving uc6861d712500caaa07c1486a4a9.dl.dropboxusercontent.com (uc6861d712500caaa07c1486a4a9.dl.dropboxusercontent.com)... 162.125.8.6, 2620:100:601b:6::a27d:806\n",
            "Connecting to uc6861d712500caaa07c1486a4a9.dl.dropboxusercontent.com (uc6861d712500caaa07c1486a4a9.dl.dropboxusercontent.com)|162.125.8.6|:443... connected.\n",
            "HTTP request sent, awaiting response... 200 OK\n",
            "Length: 18469874 (18M) [text/plain]\n",
            "Saving to: ‘cond_test.p’\n",
            "\n",
            "cond_test.p         100%[===================>]  17.61M  76.6MB/s    in 0.2s    \n",
            "\n",
            "2020-01-20 09:35:31 (76.6 MB/s) - ‘cond_test.p’ saved [18469874/18469874]\n",
            "\n",
            "--2020-01-20 09:35:32--  https://www.dropbox.com/s/vv2bm3wx8ff6ytf/originIndex_test.p\n",
            "Resolving www.dropbox.com (www.dropbox.com)... 162.125.3.1, 2620:100:601b:1::a27d:801\n",
            "Connecting to www.dropbox.com (www.dropbox.com)|162.125.3.1|:443... connected.\n",
            "HTTP request sent, awaiting response... 301 Moved Permanently\n",
            "Location: /s/raw/vv2bm3wx8ff6ytf/originIndex_test.p [following]\n",
            "--2020-01-20 09:35:32--  https://www.dropbox.com/s/raw/vv2bm3wx8ff6ytf/originIndex_test.p\n",
            "Reusing existing connection to www.dropbox.com:443.\n",
            "HTTP request sent, awaiting response... 302 Found\n",
            "Location: https://uc3dfc8438d36c5660128b5c5fa3.dl.dropboxusercontent.com/cd/0/inline/AwhjbrvApfsyettV-yQBODDzsaTIWg63aXtfjAreLLuioT7WaTIYcg0GyJI3zE62V9Z4UIgvMNLDSushHpab7Y-r5lzEDsOjmy3pGM-4Q8a8BVrOqgDMdmPOAsw9eQ5MCOk/file# [following]\n",
            "--2020-01-20 09:35:33--  https://uc3dfc8438d36c5660128b5c5fa3.dl.dropboxusercontent.com/cd/0/inline/AwhjbrvApfsyettV-yQBODDzsaTIWg63aXtfjAreLLuioT7WaTIYcg0GyJI3zE62V9Z4UIgvMNLDSushHpab7Y-r5lzEDsOjmy3pGM-4Q8a8BVrOqgDMdmPOAsw9eQ5MCOk/file\n",
            "Resolving uc3dfc8438d36c5660128b5c5fa3.dl.dropboxusercontent.com (uc3dfc8438d36c5660128b5c5fa3.dl.dropboxusercontent.com)... 162.125.8.6, 2620:100:601b:6::a27d:806\n",
            "Connecting to uc3dfc8438d36c5660128b5c5fa3.dl.dropboxusercontent.com (uc3dfc8438d36c5660128b5c5fa3.dl.dropboxusercontent.com)|162.125.8.6|:443... connected.\n",
            "HTTP request sent, awaiting response... 200 OK\n",
            "Length: 30124 (29K) [text/plain]\n",
            "Saving to: ‘originIndex_test.p’\n",
            "\n",
            "originIndex_test.p  100%[===================>]  29.42K  --.-KB/s    in 0.01s   \n",
            "\n",
            "2020-01-20 09:35:33 (1.95 MB/s) - ‘originIndex_test.p’ saved [30124/30124]\n",
            "\n",
            "--2020-01-20 09:35:34--  https://www.dropbox.com/s/0aso70ux7ko1avn/LCR_test_NAI_0.01.p\n",
            "Resolving www.dropbox.com (www.dropbox.com)... 162.125.3.1, 2620:100:601b:1::a27d:801\n",
            "Connecting to www.dropbox.com (www.dropbox.com)|162.125.3.1|:443... connected.\n",
            "HTTP request sent, awaiting response... 301 Moved Permanently\n",
            "Location: /s/raw/0aso70ux7ko1avn/LCR_test_NAI_0.01.p [following]\n",
            "--2020-01-20 09:35:34--  https://www.dropbox.com/s/raw/0aso70ux7ko1avn/LCR_test_NAI_0.01.p\n",
            "Reusing existing connection to www.dropbox.com:443.\n",
            "HTTP request sent, awaiting response... 302 Found\n",
            "Location: https://ucb6821277c3067537223e9117d2.dl.dropboxusercontent.com/cd/0/inline/Awiuawa19KvS3EV04VDFprnLGSqxgiMypSybf_KBMkvH3nMtJ3hp4dKqPYbhdCW214xLu73jddb4Wo3FNW7l9AzXuV-9RBUOEBfL9c2nPd5KlFTOz9X7_hfG0T_84tDuV4g/file# [following]\n",
            "--2020-01-20 09:35:34--  https://ucb6821277c3067537223e9117d2.dl.dropboxusercontent.com/cd/0/inline/Awiuawa19KvS3EV04VDFprnLGSqxgiMypSybf_KBMkvH3nMtJ3hp4dKqPYbhdCW214xLu73jddb4Wo3FNW7l9AzXuV-9RBUOEBfL9c2nPd5KlFTOz9X7_hfG0T_84tDuV4g/file\n",
            "Resolving ucb6821277c3067537223e9117d2.dl.dropboxusercontent.com (ucb6821277c3067537223e9117d2.dl.dropboxusercontent.com)... 162.125.8.6, 2620:100:601b:6::a27d:806\n",
            "Connecting to ucb6821277c3067537223e9117d2.dl.dropboxusercontent.com (ucb6821277c3067537223e9117d2.dl.dropboxusercontent.com)|162.125.8.6|:443... connected.\n",
            "HTTP request sent, awaiting response... 200 OK\n",
            "Length: 80159 (78K) [text/plain]\n",
            "Saving to: ‘LCR_test_NAI_0.01.p’\n",
            "\n",
            "LCR_test_NAI_0.01.p 100%[===================>]  78.28K  --.-KB/s    in 0.03s   \n",
            "\n",
            "2020-01-20 09:35:35 (2.43 MB/s) - ‘LCR_test_NAI_0.01.p’ saved [80159/80159]\n",
            "\n",
            "--2020-01-20 09:35:35--  https://www.dropbox.com/s/wruvau4v27prc9u/LCRW_NAI_0.01.p\n",
            "Resolving www.dropbox.com (www.dropbox.com)... 162.125.3.1, 2620:100:601b:1::a27d:801\n",
            "Connecting to www.dropbox.com (www.dropbox.com)|162.125.3.1|:443... connected.\n",
            "HTTP request sent, awaiting response... 301 Moved Permanently\n",
            "Location: /s/raw/wruvau4v27prc9u/LCRW_NAI_0.01.p [following]\n",
            "--2020-01-20 09:35:36--  https://www.dropbox.com/s/raw/wruvau4v27prc9u/LCRW_NAI_0.01.p\n",
            "Reusing existing connection to www.dropbox.com:443.\n",
            "HTTP request sent, awaiting response... 302 Found\n",
            "Location: https://uc04391ba693189209416b26c9de.dl.dropboxusercontent.com/cd/0/inline/AwhRvItDHq3U_nLe_idmh3aVVMlMlaJEAyeQcY5Z8cfMd3kIFAVSyhvXY1QYWW-h_ud-rhiMWLsG8OgJ0TTIPTqnL6ybYzdBE4YJd9Gz85kmyRrYGSUkWRttKrDHFn6yIAY/file# [following]\n",
            "--2020-01-20 09:35:36--  https://uc04391ba693189209416b26c9de.dl.dropboxusercontent.com/cd/0/inline/AwhRvItDHq3U_nLe_idmh3aVVMlMlaJEAyeQcY5Z8cfMd3kIFAVSyhvXY1QYWW-h_ud-rhiMWLsG8OgJ0TTIPTqnL6ybYzdBE4YJd9Gz85kmyRrYGSUkWRttKrDHFn6yIAY/file\n",
            "Resolving uc04391ba693189209416b26c9de.dl.dropboxusercontent.com (uc04391ba693189209416b26c9de.dl.dropboxusercontent.com)... 162.125.3.6, 2620:100:601b:6::a27d:806\n",
            "Connecting to uc04391ba693189209416b26c9de.dl.dropboxusercontent.com (uc04391ba693189209416b26c9de.dl.dropboxusercontent.com)|162.125.3.6|:443... connected.\n",
            "HTTP request sent, awaiting response... 200 OK\n",
            "Length: 55327 (54K) [text/plain]\n",
            "Saving to: ‘LCRW_NAI_0.01.p’\n",
            "\n",
            "LCRW_NAI_0.01.p     100%[===================>]  54.03K  --.-KB/s    in 0.01s   \n",
            "\n",
            "2020-01-20 09:35:37 (3.80 MB/s) - ‘LCRW_NAI_0.01.p’ saved [55327/55327]\n",
            "\n",
            "--2020-01-20 09:35:37--  https://www.dropbox.com/s/3dndcwj8yhq46f3/LCRR_NAI_0.01.p\n",
            "Resolving www.dropbox.com (www.dropbox.com)... 162.125.3.1, 2620:100:601b:1::a27d:801\n",
            "Connecting to www.dropbox.com (www.dropbox.com)|162.125.3.1|:443... connected.\n",
            "HTTP request sent, awaiting response... 301 Moved Permanently\n",
            "Location: /s/raw/3dndcwj8yhq46f3/LCRR_NAI_0.01.p [following]\n",
            "--2020-01-20 09:35:37--  https://www.dropbox.com/s/raw/3dndcwj8yhq46f3/LCRR_NAI_0.01.p\n",
            "Reusing existing connection to www.dropbox.com:443.\n",
            "HTTP request sent, awaiting response... 302 Found\n",
            "Location: https://uc4504faa7d2fcbf971fba9a6101.dl.dropboxusercontent.com/cd/0/inline/Awg24SB76LJTxvUGHZq-g8xUhga0pI2netue18kMdhgEM9KFoeXOXiuBgboCgzxc-2oHmUpYh8rgp19BnsDirT7WtNcZJheWtGbDqR2XDlmjsc2m0KKfO2CX2pXCvn-WoEY/file# [following]\n",
            "--2020-01-20 09:35:38--  https://uc4504faa7d2fcbf971fba9a6101.dl.dropboxusercontent.com/cd/0/inline/Awg24SB76LJTxvUGHZq-g8xUhga0pI2netue18kMdhgEM9KFoeXOXiuBgboCgzxc-2oHmUpYh8rgp19BnsDirT7WtNcZJheWtGbDqR2XDlmjsc2m0KKfO2CX2pXCvn-WoEY/file\n",
            "Resolving uc4504faa7d2fcbf971fba9a6101.dl.dropboxusercontent.com (uc4504faa7d2fcbf971fba9a6101.dl.dropboxusercontent.com)... 162.125.7.6, 2620:100:601b:6::a27d:806\n",
            "Connecting to uc4504faa7d2fcbf971fba9a6101.dl.dropboxusercontent.com (uc4504faa7d2fcbf971fba9a6101.dl.dropboxusercontent.com)|162.125.7.6|:443... connected.\n",
            "HTTP request sent, awaiting response... 200 OK\n",
            "Length: 344991 (337K) [text/plain]\n",
            "Saving to: ‘LCRR_NAI_0.01.p’\n",
            "\n",
            "LCRR_NAI_0.01.p     100%[===================>] 336.91K  2.10MB/s    in 0.2s    \n",
            "\n",
            "2020-01-20 09:35:38 (2.10 MB/s) - ‘LCRR_NAI_0.01.p’ saved [344991/344991]\n",
            "\n",
            "--2020-01-20 09:35:39--  https://www.dropbox.com/s/aepk3tzi8r82hgz/cond_error_detector.h5\n",
            "Resolving www.dropbox.com (www.dropbox.com)... 162.125.3.1, 2620:100:601b:1::a27d:801\n",
            "Connecting to www.dropbox.com (www.dropbox.com)|162.125.3.1|:443... connected.\n",
            "HTTP request sent, awaiting response... 301 Moved Permanently\n",
            "Location: /s/raw/aepk3tzi8r82hgz/cond_error_detector.h5 [following]\n",
            "--2020-01-20 09:35:39--  https://www.dropbox.com/s/raw/aepk3tzi8r82hgz/cond_error_detector.h5\n",
            "Reusing existing connection to www.dropbox.com:443.\n",
            "HTTP request sent, awaiting response... 302 Found\n",
            "Location: https://uce70f8350bfe4d92efe2d1d3510.dl.dropboxusercontent.com/cd/0/inline/AwjHiqo1DT_kCsARBxPEumjd4DodboLvn7TZMoNxlL7ROjDv7LW-h33ArDWrZg6uzkVztLTpe5GcSsFzPErUvtodAcIfHiyie-uC_9QXeCLnZtOZcbp9YsR8mbWiCnHhtdg/file# [following]\n",
            "--2020-01-20 09:35:40--  https://uce70f8350bfe4d92efe2d1d3510.dl.dropboxusercontent.com/cd/0/inline/AwjHiqo1DT_kCsARBxPEumjd4DodboLvn7TZMoNxlL7ROjDv7LW-h33ArDWrZg6uzkVztLTpe5GcSsFzPErUvtodAcIfHiyie-uC_9QXeCLnZtOZcbp9YsR8mbWiCnHhtdg/file\n",
            "Resolving uce70f8350bfe4d92efe2d1d3510.dl.dropboxusercontent.com (uce70f8350bfe4d92efe2d1d3510.dl.dropboxusercontent.com)... 162.125.8.6, 2620:100:601b:6::a27d:806\n",
            "Connecting to uce70f8350bfe4d92efe2d1d3510.dl.dropboxusercontent.com (uce70f8350bfe4d92efe2d1d3510.dl.dropboxusercontent.com)|162.125.8.6|:443... connected.\n",
            "HTTP request sent, awaiting response... 302 FOUND\n",
            "Location: /cd/0/inline2/AwjJKOmtYXCu8erPtOgDGb8DSDcrTQVhfIQxTAg2-qlqCa1fzJYiyf-sK7_mw1VOB3QplEzpDaI5hdfT1XVOFoZwOSF6YMgRPL8jbCHbc9cLiuuO6nKXLTQeYAdwLn7ScR7zzOTqswlEvdtWzNlRlxQCHaaZLiEWvFTcS0SIsg4q-5UTuaGIwC9d9ijYQvQ8xOe4oj86AFv4LyLkImcB_VndzLLOuNnxhYB1MQN5wKSVjJTpWTGhjVIlpNF3rnLoGqAFMB-Ygiryni_lKEznyVf72w3grrAhpPKaWAs63cfDXuSKKHZHku8-tJYeaL2sKyC1ZGt6CmuksuzifeyURiNio1v0s64y3ZJqcfLMz6MRVA/file [following]\n",
            "--2020-01-20 09:35:41--  https://uce70f8350bfe4d92efe2d1d3510.dl.dropboxusercontent.com/cd/0/inline2/AwjJKOmtYXCu8erPtOgDGb8DSDcrTQVhfIQxTAg2-qlqCa1fzJYiyf-sK7_mw1VOB3QplEzpDaI5hdfT1XVOFoZwOSF6YMgRPL8jbCHbc9cLiuuO6nKXLTQeYAdwLn7ScR7zzOTqswlEvdtWzNlRlxQCHaaZLiEWvFTcS0SIsg4q-5UTuaGIwC9d9ijYQvQ8xOe4oj86AFv4LyLkImcB_VndzLLOuNnxhYB1MQN5wKSVjJTpWTGhjVIlpNF3rnLoGqAFMB-Ygiryni_lKEznyVf72w3grrAhpPKaWAs63cfDXuSKKHZHku8-tJYeaL2sKyC1ZGt6CmuksuzifeyURiNio1v0s64y3ZJqcfLMz6MRVA/file\n",
            "Reusing existing connection to uce70f8350bfe4d92efe2d1d3510.dl.dropboxusercontent.com:443.\n",
            "HTTP request sent, awaiting response... 200 OK\n",
            "Length: 670024 (654K) [application/octet-stream]\n",
            "Saving to: ‘cond_error_detector.h5’\n",
            "\n",
            "cond_error_detector 100%[===================>] 654.32K  --.-KB/s    in 0.07s   \n",
            "\n",
            "2020-01-20 09:35:41 (8.56 MB/s) - ‘cond_error_detector.h5’ saved [670024/670024]\n",
            "\n",
            "--2020-01-20 09:35:42--  https://www.dropbox.com/s/62rl3zdp6gvpnhr/cond%26LCR_error_detector.h5\n",
            "Resolving www.dropbox.com (www.dropbox.com)... 162.125.3.1, 2620:100:601b:1::a27d:801\n",
            "Connecting to www.dropbox.com (www.dropbox.com)|162.125.3.1|:443... connected.\n",
            "HTTP request sent, awaiting response... 301 Moved Permanently\n",
            "Location: /s/raw/62rl3zdp6gvpnhr/cond%26LCR_error_detector.h5 [following]\n",
            "--2020-01-20 09:35:42--  https://www.dropbox.com/s/raw/62rl3zdp6gvpnhr/cond%26LCR_error_detector.h5\n",
            "Reusing existing connection to www.dropbox.com:443.\n",
            "HTTP request sent, awaiting response... 302 Found\n",
            "Location: https://ucfb0c782cbc4e49377494426030.dl.dropboxusercontent.com/cd/0/inline/AwhlzdTCMa_z4QwghQMiOOP-zdY8qpNjsCZt99MJH3j16P2twjPFisR5A3Ir09C3R5nkdJ73Ne9aJoG5jGefJO4c7WRJ3bWh3F5xCGDJiZVw-T5Kd77N4Ohzx1N4tPe2j8k/file# [following]\n",
            "--2020-01-20 09:35:43--  https://ucfb0c782cbc4e49377494426030.dl.dropboxusercontent.com/cd/0/inline/AwhlzdTCMa_z4QwghQMiOOP-zdY8qpNjsCZt99MJH3j16P2twjPFisR5A3Ir09C3R5nkdJ73Ne9aJoG5jGefJO4c7WRJ3bWh3F5xCGDJiZVw-T5Kd77N4Ohzx1N4tPe2j8k/file\n",
            "Resolving ucfb0c782cbc4e49377494426030.dl.dropboxusercontent.com (ucfb0c782cbc4e49377494426030.dl.dropboxusercontent.com)... 162.125.3.6, 2620:100:601b:6::a27d:806\n",
            "Connecting to ucfb0c782cbc4e49377494426030.dl.dropboxusercontent.com (ucfb0c782cbc4e49377494426030.dl.dropboxusercontent.com)|162.125.3.6|:443... connected.\n",
            "HTTP request sent, awaiting response... 302 FOUND\n",
            "Location: /cd/0/inline2/AwheIZp52jaiMrZyUb02MphreVyYQscLUqdb5upkF1OWKAGO5pJ9ExquRf61taJZOqwD9XnqqknZUk0WfnuvWuGAUSrHsV6kkwGhXxaHDmlqHqRdTZx8F22neI-_nrpLnhNMGelypzjf2Y0gdzexjDZ3XCl0YdNqXjFDYeuYd8l2vhKZnkyEyBgtbQteMxrNJUN8SGmpvIPdJZbVqPxr-Cn2dEJ9BTLaWnT9SEl8PsjIJR4s6FsssADPivBb-VddLfvU6yZGybUHkh3w6UhUlnlVIwRJysmRLxvUhaqdVgfH50qHdUpN4pNQGze7CmwzINHnXFzuWrcmWMsLLJorVDhPfVg4QkLQJ-kV0Z3Rb3b8_g/file [following]\n",
            "--2020-01-20 09:35:43--  https://ucfb0c782cbc4e49377494426030.dl.dropboxusercontent.com/cd/0/inline2/AwheIZp52jaiMrZyUb02MphreVyYQscLUqdb5upkF1OWKAGO5pJ9ExquRf61taJZOqwD9XnqqknZUk0WfnuvWuGAUSrHsV6kkwGhXxaHDmlqHqRdTZx8F22neI-_nrpLnhNMGelypzjf2Y0gdzexjDZ3XCl0YdNqXjFDYeuYd8l2vhKZnkyEyBgtbQteMxrNJUN8SGmpvIPdJZbVqPxr-Cn2dEJ9BTLaWnT9SEl8PsjIJR4s6FsssADPivBb-VddLfvU6yZGybUHkh3w6UhUlnlVIwRJysmRLxvUhaqdVgfH50qHdUpN4pNQGze7CmwzINHnXFzuWrcmWMsLLJorVDhPfVg4QkLQJ-kV0Z3Rb3b8_g/file\n",
            "Reusing existing connection to ucfb0c782cbc4e49377494426030.dl.dropboxusercontent.com:443.\n",
            "HTTP request sent, awaiting response... 200 OK\n",
            "Length: 29296 (29K) [application/octet-stream]\n",
            "Saving to: ‘cond&LCR_error_detector.h5’\n",
            "\n",
            "cond&LCR_error_dete 100%[===================>]  28.61K  --.-KB/s    in 0.01s   \n",
            "\n",
            "2020-01-20 09:35:43 (2.85 MB/s) - ‘cond&LCR_error_detector.h5’ saved [29296/29296]\n",
            "\n",
            "--2020-01-20 09:35:44--  https://www.dropbox.com/s/akb51d58e22sdin/rnd_split.p\n",
            "Resolving www.dropbox.com (www.dropbox.com)... 162.125.3.1, 2620:100:601b:1::a27d:801\n",
            "Connecting to www.dropbox.com (www.dropbox.com)|162.125.3.1|:443... connected.\n",
            "HTTP request sent, awaiting response... 301 Moved Permanently\n",
            "Location: /s/raw/akb51d58e22sdin/rnd_split.p [following]\n",
            "--2020-01-20 09:35:44--  https://www.dropbox.com/s/raw/akb51d58e22sdin/rnd_split.p\n",
            "Reusing existing connection to www.dropbox.com:443.\n",
            "HTTP request sent, awaiting response... 302 Found\n",
            "Location: https://uc203a94f456c23ffaab424080fc.dl.dropboxusercontent.com/cd/0/inline/Awi5bmLqmHUuc7QDUk2bfHyTJjUlCxDtYSd7osqgrYE8BkTTBx9pJqIscYUq9cVkQxn633W18C9YWnpI8ZLMJWkkUVVsWx77vYyvaUMKQrV7skPKQ1jlD_3hhFqmokeS_N4/file# [following]\n",
            "--2020-01-20 09:35:45--  https://uc203a94f456c23ffaab424080fc.dl.dropboxusercontent.com/cd/0/inline/Awi5bmLqmHUuc7QDUk2bfHyTJjUlCxDtYSd7osqgrYE8BkTTBx9pJqIscYUq9cVkQxn633W18C9YWnpI8ZLMJWkkUVVsWx77vYyvaUMKQrV7skPKQ1jlD_3hhFqmokeS_N4/file\n",
            "Resolving uc203a94f456c23ffaab424080fc.dl.dropboxusercontent.com (uc203a94f456c23ffaab424080fc.dl.dropboxusercontent.com)... 162.125.8.6, 2620:100:601b:6::a27d:806\n",
            "Connecting to uc203a94f456c23ffaab424080fc.dl.dropboxusercontent.com (uc203a94f456c23ffaab424080fc.dl.dropboxusercontent.com)|162.125.8.6|:443... connected.\n",
            "HTTP request sent, awaiting response... 200 OK\n",
            "Length: 40159 (39K) [text/plain]\n",
            "Saving to: ‘rnd_split.p’\n",
            "\n",
            "rnd_split.p         100%[===================>]  39.22K  --.-KB/s    in 0.01s   \n",
            "\n",
            "2020-01-20 09:35:45 (2.59 MB/s) - ‘rnd_split.p’ saved [40159/40159]\n",
            "\n"
          ],
          "name": "stdout"
        }
      ]
    },
    {
      "cell_type": "markdown",
      "metadata": {
        "id": "QNp2ki68pXzp",
        "colab_type": "text"
      },
      "source": [
        "## 1. Load model and dataset"
      ]
    },
    {
      "cell_type": "code",
      "metadata": {
        "id": "4orDwscFjW82",
        "colab_type": "code",
        "outputId": "8ead0f5a-e8ea-4675-a3c9-d8a959405967",
        "colab": {
          "base_uri": "https://localhost:8080/",
          "height": 86
        }
      },
      "source": [
        "num_class = 10\n",
        "\n",
        "index_to_label = {0:\"airplane\",1:\"automobile\",2:\"bird\",3:\"cat\",4:\"deer\",5:\"dog\",6:\"frog\",7:\"horse\",8:\"ship\",9:\"truck\"}\n",
        "label_to_index = {u:v for v,u in index_to_label.items()}\n",
        "# Subtracting pixel mean improves accuracy\n",
        "subtract_pixel_mean = True\n",
        "(x_train, y_train), (x_test, y_test) = cifar10.load_data()\n",
        "\n",
        "input_shape = x_train.shape[1:]\n",
        "\n",
        "# Normalize data.\n",
        "x_train = x_train.astype('float32') / 255\n",
        "x_test = x_test.astype('float32') / 255\n",
        "\n",
        "# If subtract pixel mean is enabled\n",
        "if subtract_pixel_mean:\n",
        "    x_train_mean = np.mean(x_train, axis=0)\n",
        "    x_train -= x_train_mean\n",
        "    x_test -= x_train_mean\n",
        "\n",
        "print('x_train shape:', x_train.shape)\n",
        "print(x_train.shape[0], 'train samples')\n",
        "print(x_test.shape[0], 'test samples')\n",
        "print('y_train shape:', y_train.shape)\n",
        "\n",
        "# Convert class vectors to binary class matrices.\n",
        "y_train = keras.utils.to_categorical(y_train, num_class)\n",
        "y_test = keras.utils.to_categorical(y_test, num_class)"
      ],
      "execution_count": 0,
      "outputs": [
        {
          "output_type": "stream",
          "text": [
            "x_train shape: (50000, 32, 32, 3)\n",
            "50000 train samples\n",
            "10000 test samples\n",
            "y_train shape: (50000, 1)\n"
          ],
          "name": "stdout"
        }
      ]
    },
    {
      "cell_type": "code",
      "metadata": {
        "id": "-UTQhMywjazA",
        "colab_type": "code",
        "colab": {}
      },
      "source": [
        "model = resnet_v1(input_shape = input_shape, depth = 3*6+2)\n",
        "model.load_weights('cifar10resnet_weights.h5')"
      ],
      "execution_count": 0,
      "outputs": []
    },
    {
      "cell_type": "code",
      "metadata": {
        "id": "ilHz0dYEUkke",
        "colab_type": "code",
        "colab": {}
      },
      "source": [
        "test_pred = np.argmax(model.predict(x_test), axis = 1)"
      ],
      "execution_count": 0,
      "outputs": []
    },
    {
      "cell_type": "markdown",
      "metadata": {
        "id": "z9bnk_ijvr-L",
        "colab_type": "text"
      },
      "source": [
        "## 2. Calculate conductances and label change rate (LCR)"
      ]
    },
    {
      "cell_type": "markdown",
      "metadata": {
        "id": "KGjyvB-TyINU",
        "colab_type": "text"
      },
      "source": [
        "### 2.1 Conductance"
      ]
    },
    {
      "cell_type": "markdown",
      "metadata": {
        "id": "3qJTp476wAnA",
        "colab_type": "text"
      },
      "source": [
        "#### 2.1.1 Calculate from scratch the conductances"
      ]
    },
    {
      "cell_type": "code",
      "metadata": {
        "id": "zribHFVvjeQ9",
        "colab_type": "code",
        "colab": {}
      },
      "source": [
        "#train_pred = np.argmax(model.predict(x_train), axis = 1)\n",
        "#train_label = np.argmax(y_train, axis = 1)"
      ],
      "execution_count": 0,
      "outputs": []
    },
    {
      "cell_type": "code",
      "metadata": {
        "id": "CgkcPLgKjjve",
        "colab_type": "code",
        "colab": {}
      },
      "source": [
        "#w = train_pred != train_label\n",
        "#wrongs_index = np.arange(len(train_pred))[w]\n",
        "#r = train_pred == train_label\n",
        "#rights_index = np.arange(len(train_pred))[r]"
      ],
      "execution_count": 0,
      "outputs": []
    },
    {
      "cell_type": "code",
      "metadata": {
        "id": "BB2PZpU7jlUt",
        "colab_type": "code",
        "colab": {}
      },
      "source": [
        "#cond_wrongs, originIndex_wrongs = calculate_cond(model, x_train, train_pred, wrongs_index)\n",
        "#cond_rights, originIndex_rights = calculate_cond(model, x_train, train_pred, rights_index)"
      ],
      "execution_count": 0,
      "outputs": []
    },
    {
      "cell_type": "code",
      "metadata": {
        "id": "9Ims2-bOlFu_",
        "colab_type": "code",
        "colab": {}
      },
      "source": [
        "#cond_test, originIndex_test = calculate_cond(model, x_test, test_pred, np.arange(len(test_pred)))"
      ],
      "execution_count": 0,
      "outputs": []
    },
    {
      "cell_type": "markdown",
      "metadata": {
        "id": "Vl58KBdVwHoq",
        "colab_type": "text"
      },
      "source": [
        "#### 2.1.2 Load pre-computed conductance"
      ]
    },
    {
      "cell_type": "code",
      "metadata": {
        "id": "ZfPjQlztnu36",
        "colab_type": "code",
        "colab": {}
      },
      "source": [
        "cond_wrongs = pickle.load(open('cond_wrongs.p', 'rb'))\n",
        "cond_rights = pickle.load(open('cond_rights.p', 'rb'))\n",
        "cond_test = pickle.load(open('cond_test.p', 'rb'))\n",
        "originIndex_test = pickle.load(open('originIndex_test.p', 'rb'))"
      ],
      "execution_count": 0,
      "outputs": []
    },
    {
      "cell_type": "code",
      "metadata": {
        "id": "X-JUYg3NnzA0",
        "colab_type": "code",
        "colab": {}
      },
      "source": [
        "#reorder x_test and y_test following the same order conductance are organized\n",
        "#originIndex_test = pickle.load(open('test_index.p', 'rb'))\n",
        "L = []\n",
        "for c in range(num_class):\n",
        "    L.append(originIndex_test[c])\n",
        "#the first values of L are index of x_test whose element are predicted as class 0, then class 1 ... \n",
        "L = np.concatenate(L, axis = 0)\n",
        "x_test = x_test[L]\n",
        "y_test = y_test[L]\n",
        "test_pred = test_pred[L]\n",
        "\n",
        "#rnd_split = np.arange(len(x_test))\n",
        "#np.random.shuffle(rnd_split)\n",
        "#pickle.dump(rnd_split, open('rnd_split.p', 'wb'))\n",
        "rnd_split = pickle.load(open('rnd_split.p', 'rb'))\n",
        "\n",
        "#the original test set is evenly divided into a new test set and validation set\n",
        "x_val = x_test[rnd_split[:5000]]\n",
        "y_val = y_test[rnd_split[:5000]]\n",
        "x_test = x_test[rnd_split[5000:]]\n",
        "y_test = y_test[rnd_split[5000:]]\n",
        "pred_val = test_pred[rnd_split[:5000]]\n",
        "pred_test = test_pred[rnd_split[5000:]]"
      ],
      "execution_count": 0,
      "outputs": []
    },
    {
      "cell_type": "markdown",
      "metadata": {
        "id": "oRQaXFBUyQ2c",
        "colab_type": "text"
      },
      "source": [
        "### 2.2 LCR"
      ]
    },
    {
      "cell_type": "markdown",
      "metadata": {
        "id": "Er2RS676xBnB",
        "colab_type": "text"
      },
      "source": [
        "#### 2.2.1 Calculate LCR from scratch"
      ]
    },
    {
      "cell_type": "code",
      "metadata": {
        "id": "AZHmN4jHxPLv",
        "colab_type": "code",
        "colab": {}
      },
      "source": [
        "#load the modified version of the model\n",
        "#model_mutants = pickle.load(open('mutants_NAI_0.01.p', 'rb'))\n",
        "#LCRW = calculate_LCR(model, x_train, originIndex_wrongs, model_mutants)\n",
        "#LCRR = calculate_LCR(model, x_train, originIndex_rights, model_mutants)\n",
        "#LCR_test = calculate_LCR(model, x_test, originIndex_test, model_mutants)"
      ],
      "execution_count": 0,
      "outputs": []
    },
    {
      "cell_type": "markdown",
      "metadata": {
        "id": "YL34rzmoxaZm",
        "colab_type": "text"
      },
      "source": [
        "#### 2.2.2 Load pre-computed LCR"
      ]
    },
    {
      "cell_type": "code",
      "metadata": {
        "id": "PeZrQtMAxZrJ",
        "colab_type": "code",
        "colab": {}
      },
      "source": [
        "LCRW = pickle.load(open('LCRW_NAI_0.01.p', 'rb')).reshape((-1,1))\n",
        "LCRR = pickle.load(open('LCRR_NAI_0.01.p', 'rb')).reshape((-1,1))"
      ],
      "execution_count": 0,
      "outputs": []
    },
    {
      "cell_type": "code",
      "metadata": {
        "id": "Zc-3PD6U0Eux",
        "colab_type": "code",
        "colab": {}
      },
      "source": [
        "LCR_train = np.concatenate((LCRW, LCRR), axis = 0)\n",
        "#rnd_split is the same that was used to split the orginal test set of images\n",
        "LCR_test = pickle.load(open('LCR_test_NAI_0.01.p', 'rb'))\n",
        "LCR_test = LCR_test.reshape((-1,1))\n",
        "LCR_val = LCR_test[rnd_split[:5000]]\n",
        "LCR_test = LCR_test[rnd_split[5000:]]"
      ],
      "execution_count": 0,
      "outputs": []
    },
    {
      "cell_type": "markdown",
      "metadata": {
        "id": "IUP9ogUoy6OY",
        "colab_type": "text"
      },
      "source": [
        "## 3. Training the error predictor which is a neural network"
      ]
    },
    {
      "cell_type": "markdown",
      "metadata": {
        "id": "F6CO4h-GzHXN",
        "colab_type": "text"
      },
      "source": [
        "### 3.1 Preprocess conductance"
      ]
    },
    {
      "cell_type": "code",
      "metadata": {
        "id": "XPTp6yL4y4tx",
        "colab_type": "code",
        "colab": {}
      },
      "source": [
        "#get all conv layer in the network\n",
        "#for resnet, only the output of resBlocks are considered (skip connection + normal connection)\n",
        "convLayers = []\n",
        "for i in range(len(model.layers)):\n",
        "    if \"add\" in model.layers[i].name:\n",
        "        convLayers.append(model.layers[i+1])\n",
        "\n",
        "#select only conductance of the last conv layer if concat = 0\n",
        "layers = [len(convLayers)-i-1 for i in range(len(convLayers))]\n",
        "concat = 0\n",
        "cond_wrongs = process_cond(layers, cond_wrongs, concat)\n",
        "cond_rights = process_cond(layers, cond_rights, concat)"
      ],
      "execution_count": 0,
      "outputs": []
    },
    {
      "cell_type": "code",
      "metadata": {
        "id": "dtrXvSRXzaGl",
        "colab_type": "code",
        "colab": {}
      },
      "source": [
        "#training set\n",
        "trainD = np.concatenate((cond_wrongs,cond_rights), axis = 0)\n",
        "\n",
        "#normalize cond values\n",
        "mins = np.min(trainD, axis = 0)\n",
        "maxs = np.max(trainD, axis = 0)\n",
        "avgs = np.mean(trainD, axis = 0)\n",
        "trainD = (trainD - avgs) / (maxs - mins)\n",
        "\n",
        "#set label for conductances\n",
        "y_wrongs = np.ones(len(cond_wrongs))\n",
        "y_rights = np.zeros(len(cond_rights))\n",
        "trainL = np.concatenate((y_wrongs,y_rights), axis = 0)"
      ],
      "execution_count": 0,
      "outputs": []
    },
    {
      "cell_type": "code",
      "metadata": {
        "id": "YvYO_iyszcYI",
        "colab_type": "code",
        "colab": {}
      },
      "source": [
        "testD = process_cond(layers, cond_test, concat)\n",
        "testD = (testD-avgs)/(maxs-mins)"
      ],
      "execution_count": 0,
      "outputs": []
    },
    {
      "cell_type": "code",
      "metadata": {
        "id": "NPedV05yzd7j",
        "colab_type": "code",
        "colab": {}
      },
      "source": [
        "#rnd_split is the same that was used to split the orginal test set of images\n",
        "valD = testD[rnd_split[:5000]]\n",
        "testD = testD[rnd_split[5000:]]"
      ],
      "execution_count": 0,
      "outputs": []
    },
    {
      "cell_type": "code",
      "metadata": {
        "id": "gkLZqv4QVZdG",
        "colab_type": "code",
        "colab": {}
      },
      "source": [
        "label_val = np.argmax(y_val, axis =1)\n",
        "valL = pred_val != label_val"
      ],
      "execution_count": 0,
      "outputs": []
    },
    {
      "cell_type": "markdown",
      "metadata": {
        "id": "JsM1l6X52thm",
        "colab_type": "text"
      },
      "source": [
        "### 3.2 Training with only conductance"
      ]
    },
    {
      "cell_type": "code",
      "metadata": {
        "id": "-f-MrhYO2Jbt",
        "colab_type": "code",
        "colab": {}
      },
      "source": [
        "#create the error detector\n",
        "classifier = error_detector(trainD.shape[1])"
      ],
      "execution_count": 0,
      "outputs": []
    },
    {
      "cell_type": "code",
      "metadata": {
        "id": "vs88Z4V7WTNm",
        "colab_type": "code",
        "colab": {}
      },
      "source": [
        "## train the error detector and assess its quality with are under the ROC curve\n",
        "## not using accuracy here because the dataset is unbalanced\n",
        "\n",
        "#roc_call = roc_callback(training_data=(trainD, trainL),validation_data=(valD, valL))\n",
        "#classifier.fit(trainD, trainL, batch_size = 50, validation_data = (valD, valL), epochs = 20, callbacks = [roc_call])"
      ],
      "execution_count": 0,
      "outputs": []
    },
    {
      "cell_type": "code",
      "metadata": {
        "id": "YWpCu7li2yN3",
        "colab_type": "code",
        "colab": {}
      },
      "source": [
        "classifier.load_weights('cond_error_detector.h5')"
      ],
      "execution_count": 0,
      "outputs": []
    },
    {
      "cell_type": "code",
      "metadata": {
        "id": "CEamJnS131Il",
        "colab_type": "code",
        "outputId": "04cb8fd4-f916-4bfe-d6ef-3e04d935fc1e",
        "colab": {
          "base_uri": "https://localhost:8080/",
          "height": 399
        }
      },
      "source": [
        "#assess the performance of the error detector on the validation set \n",
        "#and plot its ROC curve\n",
        "val_res = classifier.predict(valD)\n",
        "cond_threshs, cond_ind, cond_auroc = find_opti_thresh(valL, val_res, plot = True)\n",
        "\n",
        "#choosing the threhold that would optimize the recall on classes of wrong and correct predictions\n",
        "cond_thresh = cond_threshs[cond_ind-38]\n",
        "cond_thresh = 1.34e-1\n",
        "\n",
        "#print the accuracy on the validation set using that threshold\n",
        "print('threshold', cond_thresh)\n",
        "print(\"auroc\", cond_auroc)\n",
        "report(val_res, valL, cond_thresh, True)"
      ],
      "execution_count": 0,
      "outputs": [
        {
          "output_type": "display_data",
          "data": {
            "image/png": "[encoded data removed]",
            "text/plain": [
              "<Figure size 432x288 with 1 Axes>"
            ]
          },
          "metadata": {
            "tags": []
          }
        },
        {
          "output_type": "stream",
          "text": [
            "threshold 0.134\n",
            "auroc 0.927106568189674\n",
            "right recall 0.8514619883040936\n",
            "wrong recall 0.8506634499396863\n",
            "mean recall 0.85106271912189\n",
            "accuracy 0.8508\n"
          ],
          "name": "stdout"
        }
      ]
    },
    {
      "cell_type": "code",
      "metadata": {
        "id": "pdSqt_-j3_3e",
        "colab_type": "code",
        "colab": {}
      },
      "source": [
        "#creating the label for conductance of the test set \n",
        "label_test = np.argmax(y_test, axis =1)\n",
        "testL = pred_test != label_test"
      ],
      "execution_count": 0,
      "outputs": []
    },
    {
      "cell_type": "code",
      "metadata": {
        "id": "xq3clmP0Yjpx",
        "colab_type": "code",
        "outputId": "6522400c-d912-452a-ddb0-2d166291a97b",
        "colab": {
          "base_uri": "https://localhost:8080/",
          "height": 86
        }
      },
      "source": [
        "#test the performance of the error detector on the test set \n",
        "#with the threshold chosen from the validation set\n",
        "test_res = classifier.predict(testD)\n",
        "report(test_res, testL, cond_thresh, True)"
      ],
      "execution_count": 0,
      "outputs": [
        {
          "output_type": "stream",
          "text": [
            "right recall 0.8631346578366446\n",
            "wrong recall 0.8497801660967269\n",
            "mean recall 0.8564574119666857\n",
            "accuracy 0.8522\n"
          ],
          "name": "stdout"
        }
      ]
    },
    {
      "cell_type": "markdown",
      "metadata": {
        "id": "Yw9Q5UNQY16n",
        "colab_type": "text"
      },
      "source": [
        "### 3.3 Training with LCR"
      ]
    },
    {
      "cell_type": "code",
      "metadata": {
        "id": "6Hf75z07YlqW",
        "colab_type": "code",
        "outputId": "34719395-cebf-469e-f056-d8582624f38d",
        "colab": {
          "base_uri": "https://localhost:8080/",
          "height": 399
        }
      },
      "source": [
        "#test the performance of LCR to distinguish wrong and correct predictions and plot the ROC curve\n",
        "lcr_threshs, lcr_ind, lcr_auroc = find_opti_thresh(valL, LCR_val, plot = True)\n",
        "\n",
        "#find the optimal threshold\n",
        "lcr_thresh = lcr_threshs[lcr_ind-4]\n",
        "lcr_thresh = 0.169\n",
        "\n",
        "#see result with that treshold on the validation set\n",
        "print('threshold', lcr_thresh)\n",
        "print(\"auroc\", lcr_auroc)\n",
        "report(LCR_val, valL, lcr_thresh, True)"
      ],
      "execution_count": 0,
      "outputs": [
        {
          "output_type": "display_data",
          "data": {
            "image/png": "[encoded data removed]",
            "text/plain": [
              "<Figure size 432x288 with 1 Axes>"
            ]
          },
          "metadata": {
            "tags": []
          }
        },
        {
          "output_type": "stream",
          "text": [
            "threshold 0.169\n",
            "auroc 0.8872483581289371\n",
            "right recall 0.8152046783625732\n",
            "wrong recall 0.8021712907117008\n",
            "mean recall 0.808687984537137\n",
            "accuracy 0.8044\n"
          ],
          "name": "stdout"
        }
      ]
    },
    {
      "cell_type": "code",
      "metadata": {
        "id": "LY1urB80Y6nc",
        "colab_type": "code",
        "outputId": "aae06600-bae2-4cbc-ad25-a5a22db468e0",
        "colab": {
          "base_uri": "https://localhost:8080/",
          "height": 86
        }
      },
      "source": [
        "report(LCR_test, testL, lcr_thresh, True)"
      ],
      "execution_count": 0,
      "outputs": [
        {
          "output_type": "stream",
          "text": [
            "right recall 0.8410596026490066\n",
            "wrong recall 0.8060576453346361\n",
            "mean recall 0.8235586239918213\n",
            "accuracy 0.8124\n"
          ],
          "name": "stdout"
        }
      ]
    },
    {
      "cell_type": "markdown",
      "metadata": {
        "id": "YibxfK7bZAsW",
        "colab_type": "text"
      },
      "source": [
        "### 3.4 Training with conductance and LCR"
      ]
    },
    {
      "cell_type": "code",
      "metadata": {
        "id": "6jmrkTw0Y9p3",
        "colab_type": "code",
        "colab": {}
      },
      "source": [
        "#combining the output of the binary classifier trained on conductance with LCR\n",
        "train_res = classifier.predict(trainD)\n",
        "data = np.concatenate((LCR_train.reshape((-1,1)), train_res), axis = 1)\n",
        "data_val = np.concatenate((LCR_val.reshape((-1,1)), val_res), axis = 1)\n",
        "data_test = np.concatenate((LCR_test.reshape((-1,1)), test_res), axis = 1)"
      ],
      "execution_count": 0,
      "outputs": []
    },
    {
      "cell_type": "code",
      "metadata": {
        "id": "dOm9Fxk6ZFbs",
        "colab_type": "code",
        "colab": {}
      },
      "source": [
        "#building the unified classifier that take as input LCR and conductance\n",
        "nn = Sequential()    \n",
        "nn.add(Dense(10, input_shape = (data.shape[1],), activation = 'relu'))\n",
        "nn.add(Dense(10, activation = 'relu'))\n",
        "nn.add(Dropout(0.5))\n",
        "nn.add(Dense(1, activation = 'sigmoid'))\n",
        "opt = keras.optimizers.Adam(lr=0.001)\n",
        "nn.compile(loss = 'binary_crossentropy', optimizer=opt,metrics=None)"
      ],
      "execution_count": 0,
      "outputs": []
    },
    {
      "cell_type": "code",
      "metadata": {
        "id": "B-Q0kEumZHcY",
        "colab_type": "code",
        "colab": {}
      },
      "source": [
        "## training with focus on the area under the ROC\n",
        "\n",
        "#roc_call = roc_callback(training_data=(data, trainL),validation_data=(data_val, valL))\n",
        "#history = nn.fit(data, trainL, validation_data = (data_val, valL), batch_size = 100, epochs = 3, callbacks = [roc_call])"
      ],
      "execution_count": 0,
      "outputs": []
    },
    {
      "cell_type": "code",
      "metadata": {
        "id": "gF0QworeZK9j",
        "colab_type": "code",
        "colab": {}
      },
      "source": [
        "nn.load_weights('cond&LCR_error_detector.h5')"
      ],
      "execution_count": 0,
      "outputs": []
    },
    {
      "cell_type": "code",
      "metadata": {
        "id": "nebcSaJVZOc_",
        "colab_type": "code",
        "outputId": "16e6c81c-8af9-4d27-a47f-79e08ccc7216",
        "colab": {
          "base_uri": "https://localhost:8080/",
          "height": 399
        }
      },
      "source": [
        "#performance assessment\n",
        "nn_val_res = nn.predict(data_val)\n",
        "both_threshs, both_ind, both_auroc = find_opti_thresh(valL, nn_val_res, plot = True)\n",
        "\n",
        "#finding a threshold\n",
        "both_thresh = both_threshs[both_ind-34]\n",
        "both_thresh = 9.95e-2\n",
        "\n",
        "#see result on the validation set\n",
        "print('threshold', both_thresh)\n",
        "print(\"auroc\", both_auroc)\n",
        "report(nn_val_res, valL, both_thresh, True)"
      ],
      "execution_count": 0,
      "outputs": [
        {
          "output_type": "display_data",
          "data": {
            "image/png": "[encoded data removed]",
            "text/plain": [
              "<Figure size 432x288 with 1 Axes>"
            ]
          },
          "metadata": {
            "tags": []
          }
        },
        {
          "output_type": "stream",
          "text": [
            "threshold 0.0995\n",
            "auroc 0.9326943615572909\n",
            "right recall 0.856140350877193\n",
            "wrong recall 0.855729794933655\n",
            "mean recall 0.855935072905424\n",
            "accuracy 0.8558\n"
          ],
          "name": "stdout"
        }
      ]
    },
    {
      "cell_type": "code",
      "metadata": {
        "id": "hJ2QwAK0ZQf-",
        "colab_type": "code",
        "outputId": "bc4d2e57-5501-4589-81c4-172f89a4f047",
        "colab": {
          "base_uri": "https://localhost:8080/",
          "height": 86
        }
      },
      "source": [
        "#see result on the test set with the chosen threshold\n",
        "nn_test_res = nn.predict(data_test)\n",
        "report(nn_test_res, testL, both_thresh, True)"
      ],
      "execution_count": 0,
      "outputs": [
        {
          "output_type": "stream",
          "text": [
            "right recall 0.869757174392936\n",
            "wrong recall 0.8607718612603811\n",
            "mean recall 0.8652645178266585\n",
            "accuracy 0.8624\n"
          ],
          "name": "stdout"
        }
      ]
    },
    {
      "cell_type": "markdown",
      "metadata": {
        "id": "Ul5bXRXGZgMI",
        "colab_type": "text"
      },
      "source": [
        "### 3.5 Overview of the error detector performance for all 3 settings of entry data"
      ]
    },
    {
      "cell_type": "code",
      "metadata": {
        "id": "KmD0udh8ZS11",
        "colab_type": "code",
        "colab": {}
      },
      "source": [
        "from sklearn.metrics import roc_curve\n",
        "from sklearn.metrics import auc\n",
        "cond_fpr, cond_tpr, cond_threshs = roc_curve(valL, val_res)\n",
        "lcr_fpr, lcr_tpr, lcr_threshs = roc_curve(valL, LCR_val)\n",
        "both_fpr, both_tpr, both_threshs = roc_curve(valL, nn_val_res)"
      ],
      "execution_count": 0,
      "outputs": []
    },
    {
      "cell_type": "code",
      "metadata": {
        "id": "RcuS0SFqZjZF",
        "colab_type": "code",
        "colab": {}
      },
      "source": [
        "both_x, both_y = both_fpr[both_ind-34], both_tpr[both_ind-34]\n",
        "lcr_x, lcr_y = lcr_fpr[lcr_ind-4], lcr_tpr[lcr_ind-4]\n",
        "cond_x, cond_y = cond_fpr[cond_ind-34], cond_tpr[cond_ind-38]"
      ],
      "execution_count": 0,
      "outputs": []
    },
    {
      "cell_type": "code",
      "metadata": {
        "id": "I25x_5fpZkzd",
        "colab_type": "code",
        "outputId": "056a89ad-915d-43b2-9aef-d2c0e753a7d5",
        "colab": {
          "base_uri": "https://localhost:8080/",
          "height": 295
        }
      },
      "source": [
        "plt.figure()\n",
        "lw = 2\n",
        "plt.plot(lcr_fpr, lcr_tpr, ':', color = 'green',\n",
        "         lw=lw, label='LCR (AUROC = %0.3f)' % lcr_auroc)\n",
        "plt.plot(lcr_x, lcr_y,marker='o',  markersize=10, color= 'green')\n",
        "plt.plot(cond_fpr, cond_tpr, '--', color = 'red',\n",
        "         lw=lw, label='cond (AUROC = %0.3f)' % cond_auroc)\n",
        "plt.plot(cond_x, cond_y, marker='o',  markersize=10, color= 'red')\n",
        "plt.plot(both_fpr, both_tpr, color = 'blue',\n",
        "         lw=lw, label='both (AUROC = %0.3f)' % both_auroc)\n",
        "plt.plot(both_x, both_y, marker='o',  markersize=10, color= 'blue')\n",
        "plt.plot([0, 1], [0, 1], color='navy', lw=lw, linestyle='--')\n",
        "plt.xlim([0.0, 1.0])\n",
        "plt.ylim([0.0, 1.05])\n",
        "plt.xlabel('1 - recall of class 0')\n",
        "plt.ylabel('recall of class 1')\n",
        "plt.title('CIFAR10 validation set ROC')\n",
        "plt.legend(loc=\"lower right\")\n",
        "plt.savefig('cifar10_roc.pdf', bbox_inches = 'tight')"
      ],
      "execution_count": 0,
      "outputs": [
        {
          "output_type": "display_data",
          "data": {
            "image/png": "[encoded data removed]",
            "text/plain": [
              "<Figure size 432x288 with 1 Axes>"
            ]
          },
          "metadata": {
            "tags": []
          }
        }
      ]
    },
    {
      "cell_type": "code",
      "metadata": {
        "id": "k1qaCIhsZmlq",
        "colab_type": "code",
        "colab": {}
      },
      "source": [
        ""
      ],
      "execution_count": 0,
      "outputs": []
    },
    {
      "cell_type": "markdown",
      "metadata": {
        "id": "yATy8jjkZr3R",
        "colab_type": "text"
      },
      "source": [
        "## 4. Choosing other machine learning classifiers for the error detector"
      ]
    },
    {
      "cell_type": "markdown",
      "metadata": {
        "id": "zOn7s4stZrdy",
        "colab_type": "text"
      },
      "source": [
        "- classifiers are trained with both LCR and conductance"
      ]
    },
    {
      "cell_type": "markdown",
      "metadata": {
        "id": "rspuqf8-Zx37",
        "colab_type": "text"
      },
      "source": [
        "### 4.1 Random Forest"
      ]
    },
    {
      "cell_type": "code",
      "metadata": {
        "id": "AfRk-CjkZvrR",
        "colab_type": "code",
        "outputId": "879524ef-7a70-4f65-866d-d1cea72b578a",
        "colab": {
          "base_uri": "https://localhost:8080/",
          "height": 156
        }
      },
      "source": [
        "from sklearn.ensemble import RandomForestClassifier\n",
        "clf_RF = RandomForestClassifier(n_estimators = 100, max_depth=10 ,random_state=0)\n",
        "clf_RF.fit(data, trainL)"
      ],
      "execution_count": 0,
      "outputs": [
        {
          "output_type": "execute_result",
          "data": {
            "text/plain": [
              "RandomForestClassifier(bootstrap=True, ccp_alpha=0.0, class_weight=None,\n",
              "                       criterion='gini', max_depth=10, max_features='auto',\n",
              "                       max_leaf_nodes=None, max_samples=None,\n",
              "                       min_impurity_decrease=0.0, min_impurity_split=None,\n",
              "                       min_samples_leaf=1, min_samples_split=2,\n",
              "                       min_weight_fraction_leaf=0.0, n_estimators=100,\n",
              "                       n_jobs=None, oob_score=False, random_state=0, verbose=0,\n",
              "                       warm_start=False)"
            ]
          },
          "metadata": {
            "tags": []
          },
          "execution_count": 73
        }
      ]
    },
    {
      "cell_type": "code",
      "metadata": {
        "id": "qXxBNf2QZ0vc",
        "colab_type": "code",
        "outputId": "52d11b2d-3620-417e-8e85-b6ebf0a9ece3",
        "colab": {
          "base_uri": "https://localhost:8080/",
          "height": 399
        }
      },
      "source": [
        "rf_val_res = clf_RF.predict_proba(data_val)[:,1]\n",
        "threshs, ind, auroc = find_opti_thresh(valL, rf_val_res, plot = True)\n",
        "thresh = threshs[ind-45]\n",
        "thresh = 1.25e-1\n",
        "print('threshold', thresh)\n",
        "print(\"auroc\", auroc)\n",
        "report(rf_val_res, valL, thresh, True)"
      ],
      "execution_count": 0,
      "outputs": [
        {
          "output_type": "display_data",
          "data": {
            "image/png": "[encoded data removed]",
            "text/plain": [
              "<Figure size 432x288 with 1 Axes>"
            ]
          },
          "metadata": {
            "tags": []
          }
        },
        {
          "output_type": "stream",
          "text": [
            "threshold 0.125\n",
            "auroc 0.9298836758159975\n",
            "right recall 0.8526315789473684\n",
            "wrong recall 0.8537997587454764\n",
            "mean recall 0.8532156688464224\n",
            "accuracy 0.8536\n"
          ],
          "name": "stdout"
        }
      ]
    },
    {
      "cell_type": "code",
      "metadata": {
        "id": "4ZibUjncaDui",
        "colab_type": "code",
        "outputId": "bd677c91-a813-4ad0-e469-e652bf414265",
        "colab": {
          "base_uri": "https://localhost:8080/",
          "height": 86
        }
      },
      "source": [
        "rf_test_res = clf_RF.predict_proba(data_test)[:,1]\n",
        "report(rf_test_res, testL, thresh, True)"
      ],
      "execution_count": 0,
      "outputs": [
        {
          "output_type": "stream",
          "text": [
            "right recall 0.8554083885209713\n",
            "wrong recall 0.8575964826575476\n",
            "mean recall 0.8565024355892594\n",
            "accuracy 0.8572\n"
          ],
          "name": "stdout"
        }
      ]
    },
    {
      "cell_type": "markdown",
      "metadata": {
        "id": "dHtKby0naKlU",
        "colab_type": "text"
      },
      "source": [
        "### 4.2 LDA & QDA"
      ]
    },
    {
      "cell_type": "code",
      "metadata": {
        "id": "1CcrypeBaHyV",
        "colab_type": "code",
        "outputId": "34fdf7c0-0695-4aa4-b049-ea0b23202d19",
        "colab": {
          "base_uri": "https://localhost:8080/",
          "height": 52
        }
      },
      "source": [
        "from sklearn.discriminant_analysis import LinearDiscriminantAnalysis as LDA\n",
        "from sklearn.discriminant_analysis import QuadraticDiscriminantAnalysis as QDA\n",
        "clf_LDA = LDA()\n",
        "clf_QDA = QDA()\n",
        "clf_LDA.fit(data, trainL)\n",
        "clf_QDA.fit(data, trainL)"
      ],
      "execution_count": 0,
      "outputs": [
        {
          "output_type": "execute_result",
          "data": {
            "text/plain": [
              "QuadraticDiscriminantAnalysis(priors=None, reg_param=0.0,\n",
              "                              store_covariance=False, tol=0.0001)"
            ]
          },
          "metadata": {
            "tags": []
          },
          "execution_count": 76
        }
      ]
    },
    {
      "cell_type": "code",
      "metadata": {
        "id": "ckZfIhgEaMVK",
        "colab_type": "code",
        "outputId": "4301b6c4-3f87-42ec-ee83-2cd12c1cb94f",
        "colab": {
          "base_uri": "https://localhost:8080/",
          "height": 399
        }
      },
      "source": [
        "LDA_val_res = clf_LDA.predict_proba(data_val)[:,1]\n",
        "threshs, ind, auroc = find_opti_thresh(valL, LDA_val_res, plot = True)\n",
        "thresh = threshs[ind-73]\n",
        "thresh = 3.64e-3\n",
        "print('threshold', thresh)\n",
        "print(\"auroc\", auroc)\n",
        "report(LDA_val_res, valL, thresh, True)"
      ],
      "execution_count": 0,
      "outputs": [
        {
          "output_type": "display_data",
          "data": {
            "image/png": "[encoded data removed]",
            "text/plain": [
              "<Figure size 432x288 with 1 Axes>"
            ]
          },
          "metadata": {
            "tags": []
          }
        },
        {
          "output_type": "stream",
          "text": [
            "threshold 0.00364\n",
            "auroc 0.9316668430223125\n",
            "right recall 0.856140350877193\n",
            "wrong recall 0.856453558504222\n",
            "mean recall 0.8562969546907075\n",
            "accuracy 0.8564\n"
          ],
          "name": "stdout"
        }
      ]
    },
    {
      "cell_type": "code",
      "metadata": {
        "id": "9VVazsOBaWfV",
        "colab_type": "code",
        "outputId": "69fbf48b-8416-407a-9eb3-0ffc439de39d",
        "colab": {
          "base_uri": "https://localhost:8080/",
          "height": 86
        }
      },
      "source": [
        "LDA_test_res = clf_LDA.predict_proba(data_test)[:,1]\n",
        "report(LDA_test_res, testL, thresh, True)"
      ],
      "execution_count": 0,
      "outputs": [
        {
          "output_type": "stream",
          "text": [
            "right recall 0.8620309050772627\n",
            "wrong recall 0.8585735222276503\n",
            "mean recall 0.8603022136524565\n",
            "accuracy 0.8592\n"
          ],
          "name": "stdout"
        }
      ]
    },
    {
      "cell_type": "code",
      "metadata": {
        "id": "r_FT68KYaa01",
        "colab_type": "code",
        "outputId": "e4d90155-5e29-42c6-aea7-e00a3e4d87e8",
        "colab": {
          "base_uri": "https://localhost:8080/",
          "height": 399
        }
      },
      "source": [
        "QDA_val_res = clf_QDA.predict_proba(data_val)[:,1]\n",
        "threshs, ind, auroc = find_opti_thresh(valL, QDA_val_res, plot = True)\n",
        "thresh = threshs[ind]\n",
        "thresh = 5.09e-2\n",
        "print('threshold', thresh)\n",
        "print(\"auroc\", auroc)\n",
        "report(QDA_val_res, valL, thresh, True)"
      ],
      "execution_count": 0,
      "outputs": [
        {
          "output_type": "display_data",
          "data": {
            "image/png": "[encoded data removed]",
            "text/plain": [
              "<Figure size 432x288 with 1 Axes>"
            ]
          },
          "metadata": {
            "tags": []
          }
        },
        {
          "output_type": "stream",
          "text": [
            "threshold 0.0509\n",
            "auroc 0.9281476308382536\n",
            "right recall 0.8538011695906432\n",
            "wrong recall 0.8537997587454764\n",
            "mean recall 0.8538004641680599\n",
            "accuracy 0.8538\n"
          ],
          "name": "stdout"
        }
      ]
    },
    {
      "cell_type": "code",
      "metadata": {
        "id": "b5Acmjdgags-",
        "colab_type": "code",
        "outputId": "09b0a392-d34c-4093-8bbc-f25b4e731303",
        "colab": {
          "base_uri": "https://localhost:8080/",
          "height": 86
        }
      },
      "source": [
        "QDA_test_res = clf_QDA.predict_proba(data_test)[:,1]\n",
        "report(QDA_test_res, testL, thresh, True)"
      ],
      "execution_count": 0,
      "outputs": [
        {
          "output_type": "stream",
          "text": [
            "right recall 0.8443708609271523\n",
            "wrong recall 0.8612603810454323\n",
            "mean recall 0.8528156209862923\n",
            "accuracy 0.8582\n"
          ],
          "name": "stdout"
        }
      ]
    },
    {
      "cell_type": "code",
      "metadata": {
        "id": "Eu1vKJN_aldr",
        "colab_type": "code",
        "colab": {}
      },
      "source": [
        ""
      ],
      "execution_count": 0,
      "outputs": []
    }
  ]
}